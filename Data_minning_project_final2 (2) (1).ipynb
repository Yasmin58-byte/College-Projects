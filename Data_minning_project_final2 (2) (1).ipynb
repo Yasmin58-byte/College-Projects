{
 "cells": [
  {
   "cell_type": "code",
   "execution_count": 1,
   "id": "74b48a1a",
   "metadata": {},
   "outputs": [],
   "source": [
    "import pandas as pd\n",
    "import numpy as np\n",
    "import matplotlib.pyplot as plt\n",
    "import seaborn as sns"
   ]
  },
  {
   "cell_type": "code",
   "execution_count": 2,
   "id": "50247f8d",
   "metadata": {},
   "outputs": [],
   "source": [
    "#importing the dataset\n",
    "df = pd.read_csv(\"C:\\\\Users\\\\DELL\\\\Desktop\\\\adult.csv\")"
   ]
  },
  {
   "cell_type": "markdown",
   "id": "06a205bd",
   "metadata": {},
   "source": [
    "# Understanding Data"
   ]
  },
  {
   "cell_type": "code",
   "execution_count": 3,
   "id": "d2c937ca",
   "metadata": {},
   "outputs": [
    {
     "data": {
      "text/html": [
       "<div>\n",
       "<style scoped>\n",
       "    .dataframe tbody tr th:only-of-type {\n",
       "        vertical-align: middle;\n",
       "    }\n",
       "\n",
       "    .dataframe tbody tr th {\n",
       "        vertical-align: top;\n",
       "    }\n",
       "\n",
       "    .dataframe thead th {\n",
       "        text-align: right;\n",
       "    }\n",
       "</style>\n",
       "<table border=\"1\" class=\"dataframe\">\n",
       "  <thead>\n",
       "    <tr style=\"text-align: right;\">\n",
       "      <th></th>\n",
       "      <th>age</th>\n",
       "      <th>workclass</th>\n",
       "      <th>fnlwgt</th>\n",
       "      <th>education</th>\n",
       "      <th>educational-num</th>\n",
       "      <th>marital-status</th>\n",
       "      <th>occupation</th>\n",
       "      <th>relationship</th>\n",
       "      <th>race</th>\n",
       "      <th>gender</th>\n",
       "      <th>capital-gain</th>\n",
       "      <th>capital-loss</th>\n",
       "      <th>hours-per-week</th>\n",
       "      <th>native-country</th>\n",
       "      <th>income</th>\n",
       "    </tr>\n",
       "  </thead>\n",
       "  <tbody>\n",
       "    <tr>\n",
       "      <th>0</th>\n",
       "      <td>25</td>\n",
       "      <td>Private</td>\n",
       "      <td>226802</td>\n",
       "      <td>11th</td>\n",
       "      <td>7</td>\n",
       "      <td>Never-married</td>\n",
       "      <td>Machine-op-inspct</td>\n",
       "      <td>Own-child</td>\n",
       "      <td>Black</td>\n",
       "      <td>Male</td>\n",
       "      <td>0</td>\n",
       "      <td>0</td>\n",
       "      <td>40</td>\n",
       "      <td>United-States</td>\n",
       "      <td>&lt;=50K</td>\n",
       "    </tr>\n",
       "    <tr>\n",
       "      <th>1</th>\n",
       "      <td>38</td>\n",
       "      <td>Private</td>\n",
       "      <td>89814</td>\n",
       "      <td>HS-grad</td>\n",
       "      <td>9</td>\n",
       "      <td>Married-civ-spouse</td>\n",
       "      <td>Farming-fishing</td>\n",
       "      <td>Husband</td>\n",
       "      <td>White</td>\n",
       "      <td>Male</td>\n",
       "      <td>0</td>\n",
       "      <td>0</td>\n",
       "      <td>50</td>\n",
       "      <td>United-States</td>\n",
       "      <td>&lt;=50K</td>\n",
       "    </tr>\n",
       "    <tr>\n",
       "      <th>2</th>\n",
       "      <td>28</td>\n",
       "      <td>Local-gov</td>\n",
       "      <td>336951</td>\n",
       "      <td>Assoc-acdm</td>\n",
       "      <td>12</td>\n",
       "      <td>Married-civ-spouse</td>\n",
       "      <td>Protective-serv</td>\n",
       "      <td>Husband</td>\n",
       "      <td>White</td>\n",
       "      <td>Male</td>\n",
       "      <td>0</td>\n",
       "      <td>0</td>\n",
       "      <td>40</td>\n",
       "      <td>United-States</td>\n",
       "      <td>&gt;50K</td>\n",
       "    </tr>\n",
       "    <tr>\n",
       "      <th>3</th>\n",
       "      <td>44</td>\n",
       "      <td>Private</td>\n",
       "      <td>160323</td>\n",
       "      <td>Some-college</td>\n",
       "      <td>10</td>\n",
       "      <td>Married-civ-spouse</td>\n",
       "      <td>Machine-op-inspct</td>\n",
       "      <td>Husband</td>\n",
       "      <td>Black</td>\n",
       "      <td>Male</td>\n",
       "      <td>7688</td>\n",
       "      <td>0</td>\n",
       "      <td>40</td>\n",
       "      <td>United-States</td>\n",
       "      <td>&gt;50K</td>\n",
       "    </tr>\n",
       "    <tr>\n",
       "      <th>4</th>\n",
       "      <td>18</td>\n",
       "      <td>?</td>\n",
       "      <td>103497</td>\n",
       "      <td>Some-college</td>\n",
       "      <td>10</td>\n",
       "      <td>Never-married</td>\n",
       "      <td>?</td>\n",
       "      <td>Own-child</td>\n",
       "      <td>White</td>\n",
       "      <td>Female</td>\n",
       "      <td>0</td>\n",
       "      <td>0</td>\n",
       "      <td>30</td>\n",
       "      <td>United-States</td>\n",
       "      <td>&lt;=50K</td>\n",
       "    </tr>\n",
       "  </tbody>\n",
       "</table>\n",
       "</div>"
      ],
      "text/plain": [
       "   age  workclass  fnlwgt     education  educational-num      marital-status  \\\n",
       "0   25    Private  226802          11th                7       Never-married   \n",
       "1   38    Private   89814       HS-grad                9  Married-civ-spouse   \n",
       "2   28  Local-gov  336951    Assoc-acdm               12  Married-civ-spouse   \n",
       "3   44    Private  160323  Some-college               10  Married-civ-spouse   \n",
       "4   18          ?  103497  Some-college               10       Never-married   \n",
       "\n",
       "          occupation relationship   race  gender  capital-gain  capital-loss  \\\n",
       "0  Machine-op-inspct    Own-child  Black    Male             0             0   \n",
       "1    Farming-fishing      Husband  White    Male             0             0   \n",
       "2    Protective-serv      Husband  White    Male             0             0   \n",
       "3  Machine-op-inspct      Husband  Black    Male          7688             0   \n",
       "4                  ?    Own-child  White  Female             0             0   \n",
       "\n",
       "   hours-per-week native-country income  \n",
       "0              40  United-States  <=50K  \n",
       "1              50  United-States  <=50K  \n",
       "2              40  United-States   >50K  \n",
       "3              40  United-States   >50K  \n",
       "4              30  United-States  <=50K  "
      ]
     },
     "execution_count": 3,
     "metadata": {},
     "output_type": "execute_result"
    }
   ],
   "source": [
    "df.head()"
   ]
  },
  {
   "cell_type": "code",
   "execution_count": 4,
   "id": "4023ff18",
   "metadata": {},
   "outputs": [
    {
     "name": "stdout",
     "output_type": "stream",
     "text": [
      "<class 'pandas.core.frame.DataFrame'>\n",
      "RangeIndex: 48842 entries, 0 to 48841\n",
      "Data columns (total 15 columns):\n",
      " #   Column           Non-Null Count  Dtype \n",
      "---  ------           --------------  ----- \n",
      " 0   age              48842 non-null  int64 \n",
      " 1   workclass        48842 non-null  object\n",
      " 2   fnlwgt           48842 non-null  int64 \n",
      " 3   education        48842 non-null  object\n",
      " 4   educational-num  48842 non-null  int64 \n",
      " 5   marital-status   48842 non-null  object\n",
      " 6   occupation       48842 non-null  object\n",
      " 7   relationship     48842 non-null  object\n",
      " 8   race             48842 non-null  object\n",
      " 9   gender           48842 non-null  object\n",
      " 10  capital-gain     48842 non-null  int64 \n",
      " 11  capital-loss     48842 non-null  int64 \n",
      " 12  hours-per-week   48842 non-null  int64 \n",
      " 13  native-country   48842 non-null  object\n",
      " 14  income           48842 non-null  object\n",
      "dtypes: int64(6), object(9)\n",
      "memory usage: 5.6+ MB\n"
     ]
    }
   ],
   "source": [
    "df.info()"
   ]
  },
  {
   "cell_type": "code",
   "execution_count": 5,
   "id": "c465dc6e",
   "metadata": {
    "scrolled": true
   },
   "outputs": [
    {
     "data": {
      "text/plain": [
       "age                 int64\n",
       "workclass          object\n",
       "fnlwgt              int64\n",
       "education          object\n",
       "educational-num     int64\n",
       "marital-status     object\n",
       "occupation         object\n",
       "relationship       object\n",
       "race               object\n",
       "gender             object\n",
       "capital-gain        int64\n",
       "capital-loss        int64\n",
       "hours-per-week      int64\n",
       "native-country     object\n",
       "income             object\n",
       "dtype: object"
      ]
     },
     "execution_count": 5,
     "metadata": {},
     "output_type": "execute_result"
    }
   ],
   "source": [
    "df.dtypes"
   ]
  },
  {
   "cell_type": "code",
   "execution_count": 6,
   "id": "a7f06b95",
   "metadata": {
    "scrolled": true
   },
   "outputs": [
    {
     "data": {
      "text/html": [
       "<div>\n",
       "<style scoped>\n",
       "    .dataframe tbody tr th:only-of-type {\n",
       "        vertical-align: middle;\n",
       "    }\n",
       "\n",
       "    .dataframe tbody tr th {\n",
       "        vertical-align: top;\n",
       "    }\n",
       "\n",
       "    .dataframe thead th {\n",
       "        text-align: right;\n",
       "    }\n",
       "</style>\n",
       "<table border=\"1\" class=\"dataframe\">\n",
       "  <thead>\n",
       "    <tr style=\"text-align: right;\">\n",
       "      <th></th>\n",
       "      <th>age</th>\n",
       "      <th>fnlwgt</th>\n",
       "      <th>educational-num</th>\n",
       "      <th>capital-gain</th>\n",
       "      <th>capital-loss</th>\n",
       "      <th>hours-per-week</th>\n",
       "    </tr>\n",
       "  </thead>\n",
       "  <tbody>\n",
       "    <tr>\n",
       "      <th>count</th>\n",
       "      <td>48842.000000</td>\n",
       "      <td>4.884200e+04</td>\n",
       "      <td>48842.000000</td>\n",
       "      <td>48842.000000</td>\n",
       "      <td>48842.000000</td>\n",
       "      <td>48842.000000</td>\n",
       "    </tr>\n",
       "    <tr>\n",
       "      <th>mean</th>\n",
       "      <td>38.643585</td>\n",
       "      <td>1.896641e+05</td>\n",
       "      <td>10.078089</td>\n",
       "      <td>1079.067626</td>\n",
       "      <td>87.502314</td>\n",
       "      <td>40.422382</td>\n",
       "    </tr>\n",
       "    <tr>\n",
       "      <th>std</th>\n",
       "      <td>13.710510</td>\n",
       "      <td>1.056040e+05</td>\n",
       "      <td>2.570973</td>\n",
       "      <td>7452.019058</td>\n",
       "      <td>403.004552</td>\n",
       "      <td>12.391444</td>\n",
       "    </tr>\n",
       "    <tr>\n",
       "      <th>min</th>\n",
       "      <td>17.000000</td>\n",
       "      <td>1.228500e+04</td>\n",
       "      <td>1.000000</td>\n",
       "      <td>0.000000</td>\n",
       "      <td>0.000000</td>\n",
       "      <td>1.000000</td>\n",
       "    </tr>\n",
       "    <tr>\n",
       "      <th>25%</th>\n",
       "      <td>28.000000</td>\n",
       "      <td>1.175505e+05</td>\n",
       "      <td>9.000000</td>\n",
       "      <td>0.000000</td>\n",
       "      <td>0.000000</td>\n",
       "      <td>40.000000</td>\n",
       "    </tr>\n",
       "    <tr>\n",
       "      <th>50%</th>\n",
       "      <td>37.000000</td>\n",
       "      <td>1.781445e+05</td>\n",
       "      <td>10.000000</td>\n",
       "      <td>0.000000</td>\n",
       "      <td>0.000000</td>\n",
       "      <td>40.000000</td>\n",
       "    </tr>\n",
       "    <tr>\n",
       "      <th>75%</th>\n",
       "      <td>48.000000</td>\n",
       "      <td>2.376420e+05</td>\n",
       "      <td>12.000000</td>\n",
       "      <td>0.000000</td>\n",
       "      <td>0.000000</td>\n",
       "      <td>45.000000</td>\n",
       "    </tr>\n",
       "    <tr>\n",
       "      <th>max</th>\n",
       "      <td>90.000000</td>\n",
       "      <td>1.490400e+06</td>\n",
       "      <td>16.000000</td>\n",
       "      <td>99999.000000</td>\n",
       "      <td>4356.000000</td>\n",
       "      <td>99.000000</td>\n",
       "    </tr>\n",
       "  </tbody>\n",
       "</table>\n",
       "</div>"
      ],
      "text/plain": [
       "                age        fnlwgt  educational-num  capital-gain  \\\n",
       "count  48842.000000  4.884200e+04     48842.000000  48842.000000   \n",
       "mean      38.643585  1.896641e+05        10.078089   1079.067626   \n",
       "std       13.710510  1.056040e+05         2.570973   7452.019058   \n",
       "min       17.000000  1.228500e+04         1.000000      0.000000   \n",
       "25%       28.000000  1.175505e+05         9.000000      0.000000   \n",
       "50%       37.000000  1.781445e+05        10.000000      0.000000   \n",
       "75%       48.000000  2.376420e+05        12.000000      0.000000   \n",
       "max       90.000000  1.490400e+06        16.000000  99999.000000   \n",
       "\n",
       "       capital-loss  hours-per-week  \n",
       "count  48842.000000    48842.000000  \n",
       "mean      87.502314       40.422382  \n",
       "std      403.004552       12.391444  \n",
       "min        0.000000        1.000000  \n",
       "25%        0.000000       40.000000  \n",
       "50%        0.000000       40.000000  \n",
       "75%        0.000000       45.000000  \n",
       "max     4356.000000       99.000000  "
      ]
     },
     "execution_count": 6,
     "metadata": {},
     "output_type": "execute_result"
    }
   ],
   "source": [
    "df.describe()"
   ]
  },
  {
   "cell_type": "markdown",
   "id": "6a0481d1",
   "metadata": {},
   "source": [
    "# Find out Missing "
   ]
  },
  {
   "cell_type": "code",
   "execution_count": 7,
   "id": "4348246e",
   "metadata": {},
   "outputs": [
    {
     "data": {
      "text/plain": [
       "age                   0\n",
       "workclass          2799\n",
       "fnlwgt                0\n",
       "education             0\n",
       "educational-num       0\n",
       "marital-status        0\n",
       "occupation         2809\n",
       "relationship          0\n",
       "race                  0\n",
       "gender                0\n",
       "capital-gain          0\n",
       "capital-loss          0\n",
       "hours-per-week        0\n",
       "native-country      857\n",
       "income                0\n",
       "dtype: int64"
      ]
     },
     "execution_count": 7,
     "metadata": {},
     "output_type": "execute_result"
    }
   ],
   "source": [
    "#total number of missing values per column\n",
    "df=df.replace('?',np.NaN)\n",
    "df.isnull().sum()\n"
   ]
  },
  {
   "cell_type": "code",
   "execution_count": 8,
   "id": "659bbb8e",
   "metadata": {},
   "outputs": [
    {
     "data": {
      "text/plain": [
       "(48842, 15)"
      ]
     },
     "execution_count": 8,
     "metadata": {},
     "output_type": "execute_result"
    }
   ],
   "source": [
    "#total number of columns \n",
    "df.shape"
   ]
  },
  {
   "cell_type": "code",
   "execution_count": 9,
   "id": "425289e6",
   "metadata": {},
   "outputs": [
    {
     "data": {
      "text/plain": [
       "age                0.000000\n",
       "workclass          5.730724\n",
       "fnlwgt             0.000000\n",
       "education          0.000000\n",
       "educational-num    0.000000\n",
       "marital-status     0.000000\n",
       "occupation         5.751198\n",
       "relationship       0.000000\n",
       "race               0.000000\n",
       "gender             0.000000\n",
       "capital-gain       0.000000\n",
       "capital-loss       0.000000\n",
       "hours-per-week     0.000000\n",
       "native-country     1.754637\n",
       "income             0.000000\n",
       "dtype: float64"
      ]
     },
     "execution_count": 9,
     "metadata": {},
     "output_type": "execute_result"
    }
   ],
   "source": [
    "#Percentage of missing value\n",
    "percent_missing = df.isnull().sum() * 100 / len(df)\n",
    "percent_missing"
   ]
  },
  {
   "cell_type": "markdown",
   "id": "ddb7e071",
   "metadata": {},
   "source": [
    "### * 2799 - 5.73 % null values in 'workclass' column \n",
    "### * 2809 - 5.75 %null values in 'occupation' column\n",
    "### * 457 - 1.75 % null values in 'native-country' column"
   ]
  },
  {
   "cell_type": "code",
   "execution_count": 10,
   "id": "f82bdb39",
   "metadata": {},
   "outputs": [
    {
     "data": {
      "text/plain": [
       "<seaborn.axisgrid.FacetGrid at 0x24bd11cc040>"
      ]
     },
     "execution_count": 10,
     "metadata": {},
     "output_type": "execute_result"
    },
    {
     "data": {
      "text/plain": [
       "<Figure size 720x432 with 0 Axes>"
      ]
     },
     "metadata": {},
     "output_type": "display_data"
    },
    {
     "data": {
      "image/png": "[encoded data removed]",
      "text/plain": [
       "<Figure size 511.25x360 with 1 Axes>"
      ]
     },
     "metadata": {
      "needs_background": "light"
     },
     "output_type": "display_data"
    }
   ],
   "source": [
    "#visualization of missing data \n",
    "plt.figure(figsize=(10,6))\n",
    "sns.displot(\n",
    "    data=df.isna().melt(value_name=\"missing\"),\n",
    "    y=\"variable\",\n",
    "    hue=\"missing\",\n",
    "    multiple=\"fill\",\n",
    "    aspect=1.25\n",
    ")\n",
    "\n"
   ]
  },
  {
   "cell_type": "markdown",
   "id": "560eccfb",
   "metadata": {},
   "source": [
    "# Handling Missing Values"
   ]
  },
  {
   "cell_type": "code",
   "execution_count": 11,
   "id": "5d783c6d",
   "metadata": {},
   "outputs": [
    {
     "data": {
      "text/html": [
       "<div>\n",
       "<style scoped>\n",
       "    .dataframe tbody tr th:only-of-type {\n",
       "        vertical-align: middle;\n",
       "    }\n",
       "\n",
       "    .dataframe tbody tr th {\n",
       "        vertical-align: top;\n",
       "    }\n",
       "\n",
       "    .dataframe thead th {\n",
       "        text-align: right;\n",
       "    }\n",
       "</style>\n",
       "<table border=\"1\" class=\"dataframe\">\n",
       "  <thead>\n",
       "    <tr style=\"text-align: right;\">\n",
       "      <th></th>\n",
       "      <th>age</th>\n",
       "      <th>workclass</th>\n",
       "      <th>fnlwgt</th>\n",
       "      <th>education</th>\n",
       "      <th>educational-num</th>\n",
       "      <th>marital-status</th>\n",
       "      <th>occupation</th>\n",
       "      <th>relationship</th>\n",
       "      <th>race</th>\n",
       "      <th>gender</th>\n",
       "      <th>capital-gain</th>\n",
       "      <th>capital-loss</th>\n",
       "      <th>hours-per-week</th>\n",
       "      <th>native-country</th>\n",
       "      <th>income</th>\n",
       "    </tr>\n",
       "  </thead>\n",
       "  <tbody>\n",
       "    <tr>\n",
       "      <th>0</th>\n",
       "      <td>25</td>\n",
       "      <td>Private</td>\n",
       "      <td>226802</td>\n",
       "      <td>11th</td>\n",
       "      <td>7</td>\n",
       "      <td>Never-married</td>\n",
       "      <td>Machine-op-inspct</td>\n",
       "      <td>Own-child</td>\n",
       "      <td>Black</td>\n",
       "      <td>Male</td>\n",
       "      <td>0</td>\n",
       "      <td>0</td>\n",
       "      <td>40</td>\n",
       "      <td>United-States</td>\n",
       "      <td>&lt;=50K</td>\n",
       "    </tr>\n",
       "    <tr>\n",
       "      <th>1</th>\n",
       "      <td>38</td>\n",
       "      <td>Private</td>\n",
       "      <td>89814</td>\n",
       "      <td>HS-grad</td>\n",
       "      <td>9</td>\n",
       "      <td>Married-civ-spouse</td>\n",
       "      <td>Farming-fishing</td>\n",
       "      <td>Husband</td>\n",
       "      <td>White</td>\n",
       "      <td>Male</td>\n",
       "      <td>0</td>\n",
       "      <td>0</td>\n",
       "      <td>50</td>\n",
       "      <td>United-States</td>\n",
       "      <td>&lt;=50K</td>\n",
       "    </tr>\n",
       "    <tr>\n",
       "      <th>2</th>\n",
       "      <td>28</td>\n",
       "      <td>Local-gov</td>\n",
       "      <td>336951</td>\n",
       "      <td>Assoc-acdm</td>\n",
       "      <td>12</td>\n",
       "      <td>Married-civ-spouse</td>\n",
       "      <td>Protective-serv</td>\n",
       "      <td>Husband</td>\n",
       "      <td>White</td>\n",
       "      <td>Male</td>\n",
       "      <td>0</td>\n",
       "      <td>0</td>\n",
       "      <td>40</td>\n",
       "      <td>United-States</td>\n",
       "      <td>&gt;50K</td>\n",
       "    </tr>\n",
       "    <tr>\n",
       "      <th>3</th>\n",
       "      <td>44</td>\n",
       "      <td>Private</td>\n",
       "      <td>160323</td>\n",
       "      <td>Some-college</td>\n",
       "      <td>10</td>\n",
       "      <td>Married-civ-spouse</td>\n",
       "      <td>Machine-op-inspct</td>\n",
       "      <td>Husband</td>\n",
       "      <td>Black</td>\n",
       "      <td>Male</td>\n",
       "      <td>7688</td>\n",
       "      <td>0</td>\n",
       "      <td>40</td>\n",
       "      <td>United-States</td>\n",
       "      <td>&gt;50K</td>\n",
       "    </tr>\n",
       "    <tr>\n",
       "      <th>4</th>\n",
       "      <td>18</td>\n",
       "      <td>Private</td>\n",
       "      <td>103497</td>\n",
       "      <td>Some-college</td>\n",
       "      <td>10</td>\n",
       "      <td>Never-married</td>\n",
       "      <td>Prof-specialty</td>\n",
       "      <td>Own-child</td>\n",
       "      <td>White</td>\n",
       "      <td>Female</td>\n",
       "      <td>0</td>\n",
       "      <td>0</td>\n",
       "      <td>30</td>\n",
       "      <td>United-States</td>\n",
       "      <td>&lt;=50K</td>\n",
       "    </tr>\n",
       "    <tr>\n",
       "      <th>5</th>\n",
       "      <td>34</td>\n",
       "      <td>Private</td>\n",
       "      <td>198693</td>\n",
       "      <td>10th</td>\n",
       "      <td>6</td>\n",
       "      <td>Never-married</td>\n",
       "      <td>Other-service</td>\n",
       "      <td>Not-in-family</td>\n",
       "      <td>White</td>\n",
       "      <td>Male</td>\n",
       "      <td>0</td>\n",
       "      <td>0</td>\n",
       "      <td>30</td>\n",
       "      <td>United-States</td>\n",
       "      <td>&lt;=50K</td>\n",
       "    </tr>\n",
       "    <tr>\n",
       "      <th>6</th>\n",
       "      <td>29</td>\n",
       "      <td>Private</td>\n",
       "      <td>227026</td>\n",
       "      <td>HS-grad</td>\n",
       "      <td>9</td>\n",
       "      <td>Never-married</td>\n",
       "      <td>Prof-specialty</td>\n",
       "      <td>Unmarried</td>\n",
       "      <td>Black</td>\n",
       "      <td>Male</td>\n",
       "      <td>0</td>\n",
       "      <td>0</td>\n",
       "      <td>40</td>\n",
       "      <td>United-States</td>\n",
       "      <td>&lt;=50K</td>\n",
       "    </tr>\n",
       "    <tr>\n",
       "      <th>7</th>\n",
       "      <td>63</td>\n",
       "      <td>Self-emp-not-inc</td>\n",
       "      <td>104626</td>\n",
       "      <td>Prof-school</td>\n",
       "      <td>15</td>\n",
       "      <td>Married-civ-spouse</td>\n",
       "      <td>Prof-specialty</td>\n",
       "      <td>Husband</td>\n",
       "      <td>White</td>\n",
       "      <td>Male</td>\n",
       "      <td>3103</td>\n",
       "      <td>0</td>\n",
       "      <td>32</td>\n",
       "      <td>United-States</td>\n",
       "      <td>&gt;50K</td>\n",
       "    </tr>\n",
       "    <tr>\n",
       "      <th>8</th>\n",
       "      <td>24</td>\n",
       "      <td>Private</td>\n",
       "      <td>369667</td>\n",
       "      <td>Some-college</td>\n",
       "      <td>10</td>\n",
       "      <td>Never-married</td>\n",
       "      <td>Other-service</td>\n",
       "      <td>Unmarried</td>\n",
       "      <td>White</td>\n",
       "      <td>Female</td>\n",
       "      <td>0</td>\n",
       "      <td>0</td>\n",
       "      <td>40</td>\n",
       "      <td>United-States</td>\n",
       "      <td>&lt;=50K</td>\n",
       "    </tr>\n",
       "    <tr>\n",
       "      <th>9</th>\n",
       "      <td>55</td>\n",
       "      <td>Private</td>\n",
       "      <td>104996</td>\n",
       "      <td>7th-8th</td>\n",
       "      <td>4</td>\n",
       "      <td>Married-civ-spouse</td>\n",
       "      <td>Craft-repair</td>\n",
       "      <td>Husband</td>\n",
       "      <td>White</td>\n",
       "      <td>Male</td>\n",
       "      <td>0</td>\n",
       "      <td>0</td>\n",
       "      <td>10</td>\n",
       "      <td>United-States</td>\n",
       "      <td>&lt;=50K</td>\n",
       "    </tr>\n",
       "  </tbody>\n",
       "</table>\n",
       "</div>"
      ],
      "text/plain": [
       "   age         workclass  fnlwgt     education  educational-num  \\\n",
       "0   25           Private  226802          11th                7   \n",
       "1   38           Private   89814       HS-grad                9   \n",
       "2   28         Local-gov  336951    Assoc-acdm               12   \n",
       "3   44           Private  160323  Some-college               10   \n",
       "4   18           Private  103497  Some-college               10   \n",
       "5   34           Private  198693          10th                6   \n",
       "6   29           Private  227026       HS-grad                9   \n",
       "7   63  Self-emp-not-inc  104626   Prof-school               15   \n",
       "8   24           Private  369667  Some-college               10   \n",
       "9   55           Private  104996       7th-8th                4   \n",
       "\n",
       "       marital-status         occupation   relationship   race  gender  \\\n",
       "0       Never-married  Machine-op-inspct      Own-child  Black    Male   \n",
       "1  Married-civ-spouse    Farming-fishing        Husband  White    Male   \n",
       "2  Married-civ-spouse    Protective-serv        Husband  White    Male   \n",
       "3  Married-civ-spouse  Machine-op-inspct        Husband  Black    Male   \n",
       "4       Never-married     Prof-specialty      Own-child  White  Female   \n",
       "5       Never-married      Other-service  Not-in-family  White    Male   \n",
       "6       Never-married     Prof-specialty      Unmarried  Black    Male   \n",
       "7  Married-civ-spouse     Prof-specialty        Husband  White    Male   \n",
       "8       Never-married      Other-service      Unmarried  White  Female   \n",
       "9  Married-civ-spouse       Craft-repair        Husband  White    Male   \n",
       "\n",
       "   capital-gain  capital-loss  hours-per-week native-country income  \n",
       "0             0             0              40  United-States  <=50K  \n",
       "1             0             0              50  United-States  <=50K  \n",
       "2             0             0              40  United-States   >50K  \n",
       "3          7688             0              40  United-States   >50K  \n",
       "4             0             0              30  United-States  <=50K  \n",
       "5             0             0              30  United-States  <=50K  \n",
       "6             0             0              40  United-States  <=50K  \n",
       "7          3103             0              32  United-States   >50K  \n",
       "8             0             0              40  United-States  <=50K  \n",
       "9             0             0              10  United-States  <=50K  "
      ]
     },
     "execution_count": 11,
     "metadata": {},
     "output_type": "execute_result"
    }
   ],
   "source": [
    "#fill missing value with the most frequent value of the column\n",
    "df=df.fillna(df.mode().iloc[0])\n",
    "df.head(10)"
   ]
  },
  {
   "cell_type": "code",
   "execution_count": 12,
   "id": "55924bc7",
   "metadata": {},
   "outputs": [
    {
     "data": {
      "text/plain": [
       "age                0\n",
       "workclass          0\n",
       "fnlwgt             0\n",
       "education          0\n",
       "educational-num    0\n",
       "marital-status     0\n",
       "occupation         0\n",
       "relationship       0\n",
       "race               0\n",
       "gender             0\n",
       "capital-gain       0\n",
       "capital-loss       0\n",
       "hours-per-week     0\n",
       "native-country     0\n",
       "income             0\n",
       "dtype: int64"
      ]
     },
     "execution_count": 12,
     "metadata": {},
     "output_type": "execute_result"
    }
   ],
   "source": [
    "#To make sure there is no null value in data\n",
    "df.isnull().sum()"
   ]
  },
  {
   "cell_type": "markdown",
   "id": "d2faa311",
   "metadata": {},
   "source": [
    "# Remove Noise"
   ]
  },
  {
   "cell_type": "markdown",
   "id": "0e1d4aa6",
   "metadata": {},
   "source": [
    "Our purpose in this Step is to Remove Outliers And Smooth the data"
   ]
  },
  {
   "cell_type": "code",
   "execution_count": 13,
   "id": "b863d217",
   "metadata": {},
   "outputs": [],
   "source": [
    "#dectecting the outliers in each feature using boxplot\n",
    "def boxplot(df,fn):#define a function called boxplot takes the data frame and feature name\n",
    "    df.boxplot(column=[fn])\n",
    "    plt.grid(False)\n",
    "    plt.show()\n"
   ]
  },
  {
   "cell_type": "code",
   "execution_count": 14,
   "id": "fdb9dd4b",
   "metadata": {},
   "outputs": [
    {
     "data": {
      "image/png": "[encoded data removed]",
      "text/plain": [
       "<Figure size 432x288 with 1 Axes>"
      ]
     },
     "metadata": {
      "needs_background": "light"
     },
     "output_type": "display_data"
    }
   ],
   "source": [
    "boxplot(df,\"age\")"
   ]
  },
  {
   "cell_type": "code",
   "execution_count": 15,
   "id": "09d95535",
   "metadata": {},
   "outputs": [
    {
     "data": {
      "image/png": "[encoded data removed]",
      "text/plain": [
       "<Figure size 432x288 with 1 Axes>"
      ]
     },
     "metadata": {
      "needs_background": "light"
     },
     "output_type": "display_data"
    }
   ],
   "source": [
    "boxplot(df,\"fnlwgt\")\n"
   ]
  },
  {
   "cell_type": "code",
   "execution_count": 16,
   "id": "c8db46be",
   "metadata": {},
   "outputs": [
    {
     "data": {
      "image/png": "[encoded data removed]",
      "text/plain": [
       "<Figure size 432x288 with 1 Axes>"
      ]
     },
     "metadata": {
      "needs_background": "light"
     },
     "output_type": "display_data"
    }
   ],
   "source": [
    "boxplot(df,\"educational-num\")"
   ]
  },
  {
   "cell_type": "code",
   "execution_count": 17,
   "id": "70571f37",
   "metadata": {},
   "outputs": [
    {
     "data": {
      "image/png": "[encoded data removed]",
      "text/plain": [
       "<Figure size 432x288 with 1 Axes>"
      ]
     },
     "metadata": {
      "needs_background": "light"
     },
     "output_type": "display_data"
    }
   ],
   "source": [
    "boxplot(df,\"capital-gain\")\n"
   ]
  },
  {
   "cell_type": "code",
   "execution_count": 18,
   "id": "766890ae",
   "metadata": {},
   "outputs": [
    {
     "data": {
      "image/png": "[encoded data removed]",
      "text/plain": [
       "<Figure size 432x288 with 1 Axes>"
      ]
     },
     "metadata": {
      "needs_background": "light"
     },
     "output_type": "display_data"
    }
   ],
   "source": [
    "boxplot(df,\"capital-loss\")"
   ]
  },
  {
   "cell_type": "code",
   "execution_count": 19,
   "id": "640d89c4",
   "metadata": {},
   "outputs": [
    {
     "data": {
      "image/png": "[encoded data removed]",
      "text/plain": [
       "<Figure size 432x288 with 1 Axes>"
      ]
     },
     "metadata": {
      "needs_background": "light"
     },
     "output_type": "display_data"
    }
   ],
   "source": [
    "boxplot(df,\"hours-per-week\")\n"
   ]
  },
  {
   "cell_type": "code",
   "execution_count": 20,
   "id": "a18c21c8",
   "metadata": {},
   "outputs": [],
   "source": [
    "#define function called outliers which returns list of index(row) of outliers\n",
    "def outliers(df,fn):\n",
    "    Q1=df[fn].quantile(0.25)\n",
    "    Q3=df[fn].quantile(0.75)\n",
    "    IQR=Q3-Q1\n",
    "    lower_bound=Q1-1.5*IQR\n",
    "    upper_bound=Q3+1.5*IQR\n",
    "    list= df.index[ (df[fn]<lower_bound ) | (df[fn]>upper_bound) ]\n",
    "    return list\n"
   ]
  },
  {
   "cell_type": "code",
   "execution_count": 21,
   "id": "65dd424c",
   "metadata": {},
   "outputs": [],
   "source": [
    "#create an empty list to store the indices of outliers in it\n",
    "indices=[]\n",
    "for col in['educational-num','age']:\n",
    "    indices.extend(outliers(df,col))"
   ]
  },
  {
   "cell_type": "code",
   "execution_count": 22,
   "id": "cb095d61",
   "metadata": {},
   "outputs": [
    {
     "name": "stdout",
     "output_type": "stream",
     "text": [
      "[9, 22, 37, 46, 91, 137, 152, 193, 206, 217, 323, 342, 347, 371, 420, 463, 476, 498, 515, 519, 540, 566, 590, 614, 637, 639, 715, 734, 770, 779, 818, 838, 853, 890, 929, 946, 961, 962, 969, 1013, 1029, 1058, 1059, 1063, 1079, 1091, 1094, 1103, 1109, 1133, 1134, 1156, 1174, 1186, 1235, 1279, 1309, 1321, 1331, 1334, 1339, 1390, 1394, 1398, 1406, 1466, 1489, 1498, 1511, 1532, 1562, 1577, 1584, 1602, 1658, 1664, 1668, 1723, 1775, 1834, 1857, 1858, 1861, 1894, 1898, 1952, 2000, 2002, 2023, 2028, 2034, 2037, 2073, 2076, 2138, 2200, 2203, 2229, 2364, 2369, 2399, 2401, 2410, 2465, 2510, 2553, 2566, 2598, 2654, 2661, 2709, 2772, 2786, 2843, 2848, 2872, 2884, 2920, 2939, 2970, 2979, 2982, 2983, 2991, 3036, 3037, 3038, 3052, 3086, 3117, 3129, 3144, 3168, 3175, 3177, 3220, 3341, 3348, 3416, 3497, 3507, 3515, 3540, 3552, 3568, 3580, 3655, 3698, 3723, 3732, 3757, 3809, 3849, 3866, 3908, 3934, 3956, 3972, 4005, 4032, 4045, 4053, 4062, 4093, 4102, 4170, 4191, 4228, 4237, 4264, 4283, 4308, 4409, 4420, 4426, 4445, 4453, 4467, 4599, 4601, 4606, 4629, 4643, 4646, 4650, 4661, 4711, 4712, 4727, 4729, 4743, 4774, 4795, 4862, 4931, 4944, 4949, 5034, 5080, 5087, 5088, 5113, 5177, 5184, 5238, 5348, 5353, 5372, 5442, 5445, 5482, 5484, 5486, 5504, 5536, 5563, 5631, 5668, 5690, 5714, 5736, 5760, 5778, 5786, 5794, 5795, 5829, 5840, 5911, 5922, 5959, 6013, 6016, 6021, 6034, 6055, 6112, 6130, 6188, 6239, 6264, 6288, 6373, 6403, 6427, 6491, 6529, 6534, 6560, 6561, 6575, 6590, 6605, 6636, 6657, 6689, 6762, 6763, 6826, 6843, 6849, 6875, 6886, 6979, 7049, 7054, 7086, 7170, 7216, 7252, 7297, 7307, 7328, 7333, 7340, 7362, 7377, 7438, 7485, 7511, 7539, 7559, 7589, 7600, 7628, 7663, 7677, 7683, 7712, 7736, 7744, 7769, 7773, 7800, 7811, 7830, 7834, 7892, 7948, 7965, 7966, 7983, 8038, 8055, 8068, 8099, 8136, 8206, 8261, 8281, 8343, 8346, 8349, 8371, 8374, 8375, 8469, 8470, 8537, 8559, 8607, 8629, 8640, 8677, 8690, 8721, 8751, 8917, 8930, 8956, 8973, 8988, 8990, 9124, 9162, 9163, 9270, 9277, 9281, 9289, 9356, 9366, 9393, 9394, 9440, 9472, 9508, 9512, 9517, 9541, 9543, 9563, 9621, 9639, 9647, 9658, 9689, 9707, 9729, 9732, 9735, 9744, 9745, 9767, 9769, 9808, 9827, 9853, 9857, 9888, 9901, 9923, 9993, 10010, 10029, 10039, 10102, 10160, 10162, 10166, 10195, 10199, 10226, 10262, 10283, 10289, 10304, 10330, 10359, 10421, 10433, 10457, 10546, 10603, 10612, 10646, 10666, 10674, 10676, 10694, 10710, 10721, 10777, 10864, 10874, 10895, 10905, 10915, 10954, 10990, 11012, 11082, 11090, 11099, 11101, 11130, 11145, 11148, 11162, 11169, 11176, 11201, 11244, 11282, 11343, 11434, 11452, 11456, 11457, 11481, 11494, 11537, 11603, 11632, 11677, 11694, 11706, 11713, 11754, 11873, 11895, 11896, 11940, 11972, 12024, 12038, 12051, 12060, 12063, 12123, 12130, 12179, 12234, 12244, 12335, 12360, 12367, 12387, 12398, 12467, 12471, 12476, 12500, 12507, 12512, 12541, 12581, 12682, 12691, 12726, 12736, 12802, 12815, 12989, 13006, 13009, 13022, 13025, 13031, 13036, 13065, 13132, 13188, 13200, 13209, 13248, 13270, 13314, 13331, 13334, 13340, 13341, 13363, 13395, 13438, 13473, 13476, 13484, 13511, 13518, 13525, 13546, 13558, 13568, 13582, 13632, 13660, 13677, 13737, 13774, 13802, 13833, 13873, 13875, 13951, 13953, 14023, 14064, 14069, 14095, 14114, 14127, 14147, 14153, 14245, 14263, 14266, 14272, 14297, 14301, 14317, 14356, 14371, 14432, 14527, 14544, 14583, 14613, 14621, 14655, 14676, 14695, 14795, 14796, 14799, 14811, 14815, 14836, 14908, 14929, 14931, 14954, 15006, 15078, 15091, 15093, 15104, 15192, 15321, 15330, 15387, 15396, 15403, 15424, 15437, 15513, 15523, 15534, 15540, 15596, 15627, 15654, 15664, 15669, 15670, 15720, 15733, 15782, 15786, 15788, 15848, 15876, 15880, 15916, 15935, 15943, 15946, 15964, 16003, 16034, 16074, 16077, 16084, 16205, 16221, 16230, 16296, 16337, 16342, 16360, 16441, 16464, 16476, 16495, 16502, 16505, 16540, 16570, 16598, 16616, 16662, 16685, 16697, 16744, 16767, 16778, 16792, 16817, 16848, 16873, 16883, 16919, 16939, 16967, 17052, 17155, 17181, 17203, 17210, 17213, 17233, 17296, 17315, 17381, 17420, 17572, 17576, 17588, 17630, 17635, 17672, 17825, 17833, 17844, 17914, 17915, 17944, 17953, 17988, 18023, 18070, 18080, 18089, 18101, 18102, 18125, 18182, 18194, 18213, 18288, 18322, 18336, 18405, 18440, 18464, 18494, 18504, 18510, 18515, 18522, 18591, 18664, 18669, 18683, 18727, 18769, 18783, 18785, 18805, 18862, 18865, 18897, 18920, 18928, 18948, 18952, 18955, 19033, 19035, 19065, 19096, 19098, 19142, 19148, 19157, 19159, 19165, 19202, 19227, 19242, 19281, 19282, 19326, 19399, 19472, 19477, 19486, 19492, 19510, 19513, 19516, 19567, 19572, 19628, 19685, 19705, 19727, 19742, 19748, 19762, 19851, 19854, 19873, 19884, 19914, 19916, 19949, 19956, 19968, 20040, 20076, 20156, 20157, 20160, 20186, 20195, 20212, 20222, 20280, 20293, 20363, 20388, 20411, 20436, 20470, 20493, 20562, 20584, 20607, 20612, 20736, 20778, 20805, 20807, 20842, 20862, 20908, 20914, 20923, 20978, 20999, 21013, 21034, 21059, 21111, 21125, 21276, 21292, 21300, 21329, 21346, 21353, 21360, 21371, 21381, 21396, 21416, 21463, 21506, 21513, 21578, 21598, 21606, 21621, 21628, 21646, 21659, 21722, 21765, 21791, 21808, 21821, 21842, 21889, 21904, 21917, 21942, 21946, 21981, 21997, 22015, 22022, 22024, 22070, 22115, 22123, 22151, 22153, 22158, 22239, 22252, 22256, 22287, 22318, 22412, 22451, 22515, 22518, 22546, 22626, 22714, 22720, 22766, 22799, 22812, 22871, 22883, 22901, 22982, 23041, 23077, 23145, 23148, 23167, 23209, 23248, 23253, 23259, 23313, 23335, 23351, 23405, 23414, 23454, 23481, 23487, 23581, 23589, 23600, 23602, 23609, 23647, 23719, 23736, 23796, 23871, 23907, 23921, 23978, 23986, 24011, 24020, 24022, 24044, 24049, 24054, 24120, 24131, 24152, 24175, 24186, 24196, 24201, 24238, 24271, 24295, 24333, 24344, 24350, 24361, 24369, 24377, 24393, 24445, 24460, 24492, 24519, 24554, 24563, 24568, 24573, 24591, 24651, 24660, 24712, 24747, 24779, 24844, 24884, 24891, 25034, 25045, 25056, 25076, 25099, 25102, 25162, 25165, 25167, 25168, 25169, 25214, 25228, 25259, 25264, 25276, 25281, 25299, 25300, 25327, 25387, 25416, 25424, 25481, 25487, 25512, 25533, 25562, 25566, 25573, 25615, 25671, 25681, 25707, 25713, 25727, 25775, 25849, 25876, 25908, 25915, 25926, 25927, 25939, 26035, 26038, 26051, 26066, 26120, 26134, 26160, 26252, 26268, 26279, 26325, 26354, 26364, 26405, 26420, 26448, 26455, 26471, 26545, 26568, 26588, 26591, 26625, 26626, 26682, 26685, 26723, 26758, 26780, 26798, 26827, 26835, 26840, 26925, 26945, 26995, 27034, 27109, 27119, 27126, 27131, 27186, 27222, 27252, 27258, 27273, 27278, 27313, 27386, 27399, 27403, 27415, 27532, 27542, 27575, 27578, 27584, 27621, 27641, 27655, 27687, 27720, 27734, 27759, 27780, 27817, 27847, 27848, 27882, 27922, 27977, 28013, 28015, 28089, 28118, 28155, 28164, 28186, 28218, 28247, 28263, 28310, 28313, 28316, 28344, 28377, 28393, 28399, 28411, 28490, 28495, 28516, 28535, 28540, 28551, 28587, 28593, 28611, 28613, 28630, 28655, 28656, 28668, 28705, 28736, 28757, 28806, 28845, 28897, 28900, 28951, 29064, 29073, 29127, 29138, 29151, 29303, 29306, 29318, 29349, 29359, 29365, 29370, 29382, 29403, 29423, 29450, 29504, 29529, 29567, 29576, 29583, 29611, 29737, 29739, 29751, 29785, 29822, 29823, 29881, 29920, 29945, 29963, 29975, 30022, 30040, 30098, 30104, 30115, 30131, 30192, 30206, 30217, 30237, 30365, 30369, 30378, 30404, 30467, 30471, 30503, 30509, 30527, 30532, 30557, 30596, 30608, 30740, 30766, 30783, 30812, 30826, 30855, 30863, 30899, 30923, 30972, 31002, 31004, 31067, 31158, 31160, 31165, 31174, 31176, 31181, 31190, 31192, 31194, 31204, 31216, 31253, 31261, 31289, 31293, 31301, 31304, 31309, 31340, 31387, 31409, 31443, 31452, 31457, 31478, 31532, 31572, 31623, 31644, 31779, 31828, 31840, 31854, 31855, 32053, 32069, 32109, 32118, 32124, 32127, 32141, 32172, 32230, 32244, 32295, 32301, 32329, 32346, 32357, 32366, 32384, 32395, 32419, 32423, 32450, 32464, 32478, 32551, 32627, 32645, 32648, 32679, 32732, 32745, 32759, 32775, 32778, 32786, 32811, 32836, 32843, 32855, 32875, 32885, 32886, 33065, 33094, 33137, 33238, 33247, 33249, 33261, 33273, 33302, 33365, 33372, 33493, 33512, 33516, 33531, 33536, 33543, 33591, 33625, 33665, 33671, 33716, 33726, 33733, 33753, 33755, 33771, 33812, 33842, 33891, 33892, 33900, 33914, 33917, 33969, 33972, 33989, 34018, 34034, 34076, 34091, 34113, 34142, 34150, 34156, 34183, 34190, 34214, 34218, 34332, 34339, 34458, 34482, 34513, 34520, 34569, 34583, 34588, 34593, 34621, 34667, 34696, 34759, 34795, 34817, 34871, 34927, 34964, 34969, 35038, 35104, 35122, 35123, 35135, 35186, 35212, 35213, 35253, 35290, 35292, 35326, 35345, 35351, 35354, 35393, 35422, 35449, 35460, 35467, 35505, 35547, 35689, 35842, 35852, 35857, 35865, 35887, 35961, 35988, 36023, 36028, 36029, 36050, 36109, 36164, 36190, 36248, 36261, 36278, 36296, 36312, 36369, 36381, 36383, 36396, 36403, 36439, 36452, 36453, 36460, 36592, 36600, 36623, 36630, 36685, 36697, 36702, 36721, 36745, 36761, 36785, 36790, 36886, 36997, 37001, 37026, 37047, 37083, 37109, 37130, 37152, 37161, 37311, 37329, 37345, 37376, 37378, 37384, 37394, 37412, 37414, 37426, 37429, 37459, 37544, 37557, 37604, 37626, 37651, 37661, 37669, 37700, 37736, 37751, 37790, 37797, 37822, 37846, 37907, 37917, 37929, 38003, 38027, 38057, 38059, 38067, 38075, 38079, 38111, 38134, 38144, 38152, 38156, 38187, 38201, 38260, 38276, 38320, 38344, 38390, 38406, 38448, 38481, 38581, 38607, 38620, 38626, 38629, 38651, 38654, 38659, 38672, 38703, 38726, 38793, 38812, 38852, 38857, 38898, 38967, 39037, 39079, 39147, 39159, 39165, 39179, 39221, 39246, 39257, 39282, 39293, 39308, 39351, 39353, 39406, 39415, 39450, 39452, 39455, 39459, 39461, 39488, 39496, 39567, 39681, 39697, 39699, 39724, 39729, 39751, 39776, 39791, 39798, 39896, 39927, 39954, 40003, 40012, 40018, 40059, 40062, 40069, 40084, 40106, 40117, 40156, 40202, 40208, 40210, 40298, 40327, 40380, 40418, 40456, 40513, 40519, 40521, 40535, 40547, 40561, 40577, 40583, 40609, 40650, 40703, 40726, 40739, 40754, 40802, 40839, 40875, 40979, 41036, 41040, 41078, 41123, 41233, 41251, 41306, 41381, 41393, 41394, 41426, 41430, 41440, 41460, 41462, 41469, 41508, 41527, 41554, 41556, 41557, 41563, 41584, 41598, 41628, 41632, 41647, 41791, 41825, 41828, 41850, 41858, 41879, 41886, 41933, 42012, 42042, 42059, 42087, 42129, 42135, 42142, 42151, 42153, 42157, 42193, 42197, 42224, 42240, 42266, 42362, 42376, 42388, 42468, 42510, 42521, 42548, 42556, 42560, 42577, 42680, 42688, 42711, 42734, 42736, 42750, 42782, 42787, 42809, 42887, 42900, 42938, 42950, 42960, 42999, 43024, 43055, 43073, 43083, 43086, 43115, 43178, 43183, 43206, 43233, 43239, 43265, 43276, 43305, 43334, 43353, 43359, 43384, 43433, 43445, 43449, 43474, 43511, 43520, 43592, 43602, 43611, 43650, 43683, 43686, 43702, 43725, 43769, 43778, 43786, 43793, 43812, 43824, 43826, 43840, 43852, 43855, 43965, 43983, 43989, 43994, 43995, 44006, 44029, 44051, 44056, 44076, 44101, 44126, 44164, 44189, 44212, 44219, 44263, 44268, 44278, 44283, 44289, 44296, 44314, 44337, 44349, 44359, 44395, 44406, 44413, 44488, 44499, 44501, 44516, 44529, 44577, 44617, 44676, 44687, 44697, 44722, 44723, 44726, 44764, 44782, 44788, 44805, 44841, 44845, 44867, 44869, 44878, 44884, 44886, 44968, 44995, 44996, 45022, 45030, 45051, 45056, 45093, 45109, 45115, 45123, 45139, 45152, 45195, 45219, 45229, 45240, 45249, 45330, 45353, 45356, 45371, 45373, 45454, 45520, 45551, 45565, 45567, 45603, 45620, 45621, 45662, 45682, 45694, 45699, 45723, 45738, 45743, 45753, 45854, 45875, 45891, 45948, 45958, 45961, 45966, 46027, 46077, 46095, 46134, 46136, 46137, 46157, 46208, 46220, 46395, 46404, 46482, 46553, 46566, 46567, 46580, 46593, 46606, 46631, 46632, 46642, 46693, 46740, 46754, 46764, 46791, 46812, 46839, 46868, 46881, 46951, 47085, 47102, 47122, 47137, 47138, 47205, 47272, 47295, 47305, 47325, 47362, 47369, 47422, 47486, 47523, 47594, 47650, 47653, 47657, 47747, 47790, 47799, 47816, 47831, 47836, 47916, 47922, 47938, 47949, 48003, 48015, 48043, 48079, 48095, 48146, 48154, 48200, 48222, 48289, 48312, 48315, 48316, 48325, 48354, 48384, 48394, 48434, 48487, 48495, 48505, 48582, 48587, 48615, 48632, 48640, 48648, 48682, 48684, 48694, 48706, 48711, 48712, 48713, 48729, 48760, 48798, 193, 234, 899, 926, 951, 1079, 1398, 1834, 2085, 2290, 2982, 3496, 3668, 4455, 4646, 4658, 6402, 6577, 6757, 6915, 6959, 6976, 6979, 7160, 7170, 7414, 7419, 7539, 7547, 7937, 8206, 8313, 8427, 8955, 8982, 9018, 9038, 9081, 9279, 9769, 9888, 10039, 10199, 10223, 10735, 11289, 11328, 11410, 11837, 11871, 11881, 11940, 12060, 12229, 12446, 13025, 13958, 14033, 14263, 14299, 14431, 14568, 14591, 14740, 15088, 15098, 15408, 15934, 15963, 16003, 16106, 16148, 16251, 16355, 16503, 16711, 17199, 17321, 17449, 18216, 18584, 19035, 19172, 19187, 19492, 19619, 19818, 20058, 20244, 20351, 20390, 21001, 21115, 21385, 21553, 21572, 21651, 21687, 22281, 22454, 22495, 22513, 22720, 22905, 23029, 23762, 24001, 24153, 24457, 24662, 24712, 24803, 24975, 25087, 25244, 25254, 25752, 26405, 26491, 26826, 27380, 27519, 27793, 27813, 28012, 28277, 28732, 28773, 29111, 29256, 29306, 29307, 29576, 29977, 30209, 30385, 30440, 30885, 30992, 31037, 31184, 31637, 31943, 32173, 32583, 32804, 33043, 33182, 33890, 34318, 34422, 34553, 34558, 34694, 34841, 35006, 35113, 35326, 35453, 35461, 35493, 35770, 35776, 35796, 35970, 36028, 36109, 36530, 36702, 36744, 36763, 36764, 36891, 37107, 37161, 37234, 37624, 37782, 38093, 38116, 38501, 38762, 39176, 39179, 39740, 40181, 40308, 40324, 40519, 40561, 40676, 40841, 41444, 41584, 41678, 42293, 42523, 43012, 44076, 44457, 44744, 45002, 45229, 45875, 46005, 47311, 47713, 47977, 48095, 48117, 48136, 48558, 48648, 48740, 48775, 48806]\n"
     ]
    }
   ],
   "source": [
    "print(indices)\n"
   ]
  },
  {
   "cell_type": "code",
   "execution_count": 23,
   "id": "e7447463",
   "metadata": {},
   "outputs": [],
   "source": [
    "#Trimming/Remove the outliers from column educational-num\n",
    "#define a function called remove that return the data set without rows contains outliers in educational-num\n",
    "def remove(df,list):\n",
    "    list=sorted(set(list))#to make the list of indices sorted and unique\n",
    "    df=df.drop(list)\n",
    "    return df\n"
   ]
  },
  {
   "cell_type": "code",
   "execution_count": 24,
   "id": "3652c8f1",
   "metadata": {},
   "outputs": [],
   "source": [
    "df=remove(df,indices)"
   ]
  },
  {
   "cell_type": "code",
   "execution_count": 25,
   "id": "f8d15951",
   "metadata": {},
   "outputs": [
    {
     "data": {
      "text/plain": [
       "(46872, 15)"
      ]
     },
     "execution_count": 25,
     "metadata": {},
     "output_type": "execute_result"
    }
   ],
   "source": [
    "df.shape #the number of rows is reduced to 46872 after removing rows contains outliers"
   ]
  },
  {
   "cell_type": "code",
   "execution_count": 26,
   "id": "167be8b7",
   "metadata": {},
   "outputs": [
    {
     "data": {
      "image/png": "[encoded data removed]",
      "text/plain": [
       "<Figure size 432x288 with 1 Axes>"
      ]
     },
     "metadata": {
      "needs_background": "light"
     },
     "output_type": "display_data"
    },
    {
     "data": {
      "image/png": "[encoded data removed]",
      "text/plain": [
       "<Figure size 432x288 with 1 Axes>"
      ]
     },
     "metadata": {
      "needs_background": "light"
     },
     "output_type": "display_data"
    }
   ],
   "source": [
    "#the boxplot of educatinal-num after removing outliers from it\n",
    "boxplot(df,\"educational-num\")\n",
    "boxplot(df,\"age\")"
   ]
  },
  {
   "cell_type": "code",
   "execution_count": 27,
   "id": "1f4181af",
   "metadata": {},
   "outputs": [],
   "source": [
    "#replacing the rest of outliers with median values\n",
    "m1 = df['hours-per-week'].quantile(0.50) \n",
    "q1 = df['hours-per-week'].quantile(0.95) \n",
    "df['hours-per-week'] = np.where(df['hours-per-week'] >q1, m1, df['hours-per-week'])\n",
    "\n",
    "m2 = df['fnlwgt'].quantile(0.50) \n",
    "q2 = df['fnlwgt'].quantile(0.95) \n",
    "df['fnlwgt'] = np.where(df['fnlwgt'] >q2, m2, df['fnlwgt'])\n",
    "\n",
    "m3 = df['capital-gain'].quantile(0.50) \n",
    "q3 = df['capital-gain'].quantile(0.95) \n",
    "df['capital-gain'] = np.where(df['capital-gain'] >q3, m3, df['capital-gain'])\n",
    "\n",
    "m4 = df['capital-loss'].quantile(0.50)\n",
    "q4 = df['capital-loss'].quantile(0.95) \n",
    "df['capital-loss'] = np.where(df['capital-loss'] >q4, m4, df['capital-loss'])"
   ]
  },
  {
   "cell_type": "code",
   "execution_count": 28,
   "id": "bba1b404",
   "metadata": {},
   "outputs": [
    {
     "data": {
      "text/html": [
       "<div>\n",
       "<style scoped>\n",
       "    .dataframe tbody tr th:only-of-type {\n",
       "        vertical-align: middle;\n",
       "    }\n",
       "\n",
       "    .dataframe tbody tr th {\n",
       "        vertical-align: top;\n",
       "    }\n",
       "\n",
       "    .dataframe thead th {\n",
       "        text-align: right;\n",
       "    }\n",
       "</style>\n",
       "<table border=\"1\" class=\"dataframe\">\n",
       "  <thead>\n",
       "    <tr style=\"text-align: right;\">\n",
       "      <th></th>\n",
       "      <th>age</th>\n",
       "      <th>workclass</th>\n",
       "      <th>fnlwgt</th>\n",
       "      <th>education</th>\n",
       "      <th>educational-num</th>\n",
       "      <th>marital-status</th>\n",
       "      <th>occupation</th>\n",
       "      <th>relationship</th>\n",
       "      <th>race</th>\n",
       "      <th>gender</th>\n",
       "      <th>capital-gain</th>\n",
       "      <th>capital-loss</th>\n",
       "      <th>hours-per-week</th>\n",
       "      <th>native-country</th>\n",
       "      <th>income</th>\n",
       "    </tr>\n",
       "  </thead>\n",
       "  <tbody>\n",
       "    <tr>\n",
       "      <th>0</th>\n",
       "      <td>25</td>\n",
       "      <td>Private</td>\n",
       "      <td>226802.0</td>\n",
       "      <td>11th</td>\n",
       "      <td>7</td>\n",
       "      <td>Never-married</td>\n",
       "      <td>Machine-op-inspct</td>\n",
       "      <td>Own-child</td>\n",
       "      <td>Black</td>\n",
       "      <td>Male</td>\n",
       "      <td>0.0</td>\n",
       "      <td>0.0</td>\n",
       "      <td>40.0</td>\n",
       "      <td>United-States</td>\n",
       "      <td>&lt;=50K</td>\n",
       "    </tr>\n",
       "    <tr>\n",
       "      <th>1</th>\n",
       "      <td>38</td>\n",
       "      <td>Private</td>\n",
       "      <td>89814.0</td>\n",
       "      <td>HS-grad</td>\n",
       "      <td>9</td>\n",
       "      <td>Married-civ-spouse</td>\n",
       "      <td>Farming-fishing</td>\n",
       "      <td>Husband</td>\n",
       "      <td>White</td>\n",
       "      <td>Male</td>\n",
       "      <td>0.0</td>\n",
       "      <td>0.0</td>\n",
       "      <td>50.0</td>\n",
       "      <td>United-States</td>\n",
       "      <td>&lt;=50K</td>\n",
       "    </tr>\n",
       "    <tr>\n",
       "      <th>2</th>\n",
       "      <td>28</td>\n",
       "      <td>Local-gov</td>\n",
       "      <td>336951.0</td>\n",
       "      <td>Assoc-acdm</td>\n",
       "      <td>12</td>\n",
       "      <td>Married-civ-spouse</td>\n",
       "      <td>Protective-serv</td>\n",
       "      <td>Husband</td>\n",
       "      <td>White</td>\n",
       "      <td>Male</td>\n",
       "      <td>0.0</td>\n",
       "      <td>0.0</td>\n",
       "      <td>40.0</td>\n",
       "      <td>United-States</td>\n",
       "      <td>&gt;50K</td>\n",
       "    </tr>\n",
       "    <tr>\n",
       "      <th>3</th>\n",
       "      <td>44</td>\n",
       "      <td>Private</td>\n",
       "      <td>160323.0</td>\n",
       "      <td>Some-college</td>\n",
       "      <td>10</td>\n",
       "      <td>Married-civ-spouse</td>\n",
       "      <td>Machine-op-inspct</td>\n",
       "      <td>Husband</td>\n",
       "      <td>Black</td>\n",
       "      <td>Male</td>\n",
       "      <td>0.0</td>\n",
       "      <td>0.0</td>\n",
       "      <td>40.0</td>\n",
       "      <td>United-States</td>\n",
       "      <td>&gt;50K</td>\n",
       "    </tr>\n",
       "    <tr>\n",
       "      <th>4</th>\n",
       "      <td>18</td>\n",
       "      <td>Private</td>\n",
       "      <td>103497.0</td>\n",
       "      <td>Some-college</td>\n",
       "      <td>10</td>\n",
       "      <td>Never-married</td>\n",
       "      <td>Prof-specialty</td>\n",
       "      <td>Own-child</td>\n",
       "      <td>White</td>\n",
       "      <td>Female</td>\n",
       "      <td>0.0</td>\n",
       "      <td>0.0</td>\n",
       "      <td>30.0</td>\n",
       "      <td>United-States</td>\n",
       "      <td>&lt;=50K</td>\n",
       "    </tr>\n",
       "    <tr>\n",
       "      <th>...</th>\n",
       "      <td>...</td>\n",
       "      <td>...</td>\n",
       "      <td>...</td>\n",
       "      <td>...</td>\n",
       "      <td>...</td>\n",
       "      <td>...</td>\n",
       "      <td>...</td>\n",
       "      <td>...</td>\n",
       "      <td>...</td>\n",
       "      <td>...</td>\n",
       "      <td>...</td>\n",
       "      <td>...</td>\n",
       "      <td>...</td>\n",
       "      <td>...</td>\n",
       "      <td>...</td>\n",
       "    </tr>\n",
       "    <tr>\n",
       "      <th>48837</th>\n",
       "      <td>27</td>\n",
       "      <td>Private</td>\n",
       "      <td>257302.0</td>\n",
       "      <td>Assoc-acdm</td>\n",
       "      <td>12</td>\n",
       "      <td>Married-civ-spouse</td>\n",
       "      <td>Tech-support</td>\n",
       "      <td>Wife</td>\n",
       "      <td>White</td>\n",
       "      <td>Female</td>\n",
       "      <td>0.0</td>\n",
       "      <td>0.0</td>\n",
       "      <td>38.0</td>\n",
       "      <td>United-States</td>\n",
       "      <td>&lt;=50K</td>\n",
       "    </tr>\n",
       "    <tr>\n",
       "      <th>48838</th>\n",
       "      <td>40</td>\n",
       "      <td>Private</td>\n",
       "      <td>154374.0</td>\n",
       "      <td>HS-grad</td>\n",
       "      <td>9</td>\n",
       "      <td>Married-civ-spouse</td>\n",
       "      <td>Machine-op-inspct</td>\n",
       "      <td>Husband</td>\n",
       "      <td>White</td>\n",
       "      <td>Male</td>\n",
       "      <td>0.0</td>\n",
       "      <td>0.0</td>\n",
       "      <td>40.0</td>\n",
       "      <td>United-States</td>\n",
       "      <td>&gt;50K</td>\n",
       "    </tr>\n",
       "    <tr>\n",
       "      <th>48839</th>\n",
       "      <td>58</td>\n",
       "      <td>Private</td>\n",
       "      <td>151910.0</td>\n",
       "      <td>HS-grad</td>\n",
       "      <td>9</td>\n",
       "      <td>Widowed</td>\n",
       "      <td>Adm-clerical</td>\n",
       "      <td>Unmarried</td>\n",
       "      <td>White</td>\n",
       "      <td>Female</td>\n",
       "      <td>0.0</td>\n",
       "      <td>0.0</td>\n",
       "      <td>40.0</td>\n",
       "      <td>United-States</td>\n",
       "      <td>&lt;=50K</td>\n",
       "    </tr>\n",
       "    <tr>\n",
       "      <th>48840</th>\n",
       "      <td>22</td>\n",
       "      <td>Private</td>\n",
       "      <td>201490.0</td>\n",
       "      <td>HS-grad</td>\n",
       "      <td>9</td>\n",
       "      <td>Never-married</td>\n",
       "      <td>Adm-clerical</td>\n",
       "      <td>Own-child</td>\n",
       "      <td>White</td>\n",
       "      <td>Male</td>\n",
       "      <td>0.0</td>\n",
       "      <td>0.0</td>\n",
       "      <td>20.0</td>\n",
       "      <td>United-States</td>\n",
       "      <td>&lt;=50K</td>\n",
       "    </tr>\n",
       "    <tr>\n",
       "      <th>48841</th>\n",
       "      <td>52</td>\n",
       "      <td>Self-emp-inc</td>\n",
       "      <td>287927.0</td>\n",
       "      <td>HS-grad</td>\n",
       "      <td>9</td>\n",
       "      <td>Married-civ-spouse</td>\n",
       "      <td>Exec-managerial</td>\n",
       "      <td>Wife</td>\n",
       "      <td>White</td>\n",
       "      <td>Female</td>\n",
       "      <td>0.0</td>\n",
       "      <td>0.0</td>\n",
       "      <td>40.0</td>\n",
       "      <td>United-States</td>\n",
       "      <td>&gt;50K</td>\n",
       "    </tr>\n",
       "  </tbody>\n",
       "</table>\n",
       "<p>46872 rows × 15 columns</p>\n",
       "</div>"
      ],
      "text/plain": [
       "       age     workclass    fnlwgt     education  educational-num  \\\n",
       "0       25       Private  226802.0          11th                7   \n",
       "1       38       Private   89814.0       HS-grad                9   \n",
       "2       28     Local-gov  336951.0    Assoc-acdm               12   \n",
       "3       44       Private  160323.0  Some-college               10   \n",
       "4       18       Private  103497.0  Some-college               10   \n",
       "...    ...           ...       ...           ...              ...   \n",
       "48837   27       Private  257302.0    Assoc-acdm               12   \n",
       "48838   40       Private  154374.0       HS-grad                9   \n",
       "48839   58       Private  151910.0       HS-grad                9   \n",
       "48840   22       Private  201490.0       HS-grad                9   \n",
       "48841   52  Self-emp-inc  287927.0       HS-grad                9   \n",
       "\n",
       "           marital-status         occupation relationship   race  gender  \\\n",
       "0           Never-married  Machine-op-inspct    Own-child  Black    Male   \n",
       "1      Married-civ-spouse    Farming-fishing      Husband  White    Male   \n",
       "2      Married-civ-spouse    Protective-serv      Husband  White    Male   \n",
       "3      Married-civ-spouse  Machine-op-inspct      Husband  Black    Male   \n",
       "4           Never-married     Prof-specialty    Own-child  White  Female   \n",
       "...                   ...                ...          ...    ...     ...   \n",
       "48837  Married-civ-spouse       Tech-support         Wife  White  Female   \n",
       "48838  Married-civ-spouse  Machine-op-inspct      Husband  White    Male   \n",
       "48839             Widowed       Adm-clerical    Unmarried  White  Female   \n",
       "48840       Never-married       Adm-clerical    Own-child  White    Male   \n",
       "48841  Married-civ-spouse    Exec-managerial         Wife  White  Female   \n",
       "\n",
       "       capital-gain  capital-loss  hours-per-week native-country income  \n",
       "0               0.0           0.0            40.0  United-States  <=50K  \n",
       "1               0.0           0.0            50.0  United-States  <=50K  \n",
       "2               0.0           0.0            40.0  United-States   >50K  \n",
       "3               0.0           0.0            40.0  United-States   >50K  \n",
       "4               0.0           0.0            30.0  United-States  <=50K  \n",
       "...             ...           ...             ...            ...    ...  \n",
       "48837           0.0           0.0            38.0  United-States  <=50K  \n",
       "48838           0.0           0.0            40.0  United-States   >50K  \n",
       "48839           0.0           0.0            40.0  United-States  <=50K  \n",
       "48840           0.0           0.0            20.0  United-States  <=50K  \n",
       "48841           0.0           0.0            40.0  United-States   >50K  \n",
       "\n",
       "[46872 rows x 15 columns]"
      ]
     },
     "execution_count": 28,
     "metadata": {},
     "output_type": "execute_result"
    }
   ],
   "source": [
    "df"
   ]
  },
  {
   "cell_type": "code",
   "execution_count": 29,
   "id": "039199aa",
   "metadata": {},
   "outputs": [
    {
     "data": {
      "text/plain": [
       "False"
      ]
     },
     "execution_count": 29,
     "metadata": {},
     "output_type": "execute_result"
    }
   ],
   "source": [
    "(df['age'] < 0).any()\n",
    "(df['fnlwgt'] < 0).any()\n",
    "(df['educational-num'] < 0).any()\n",
    "(df['capital-gain'] < 0).any()\n",
    "(df['capital-gain'] < 0).any()\n",
    "(df['hours-per-week'] < 0).any()\n",
    "#there are no negative values in the data set wich may cause noise in data"
   ]
  },
  {
   "cell_type": "markdown",
   "id": "68f3fee2",
   "metadata": {},
   "source": [
    "# Rermove duplicate records"
   ]
  },
  {
   "cell_type": "code",
   "execution_count": 30,
   "id": "1e1d08a5",
   "metadata": {},
   "outputs": [
    {
     "data": {
      "text/html": [
       "<div>\n",
       "<style scoped>\n",
       "    .dataframe tbody tr th:only-of-type {\n",
       "        vertical-align: middle;\n",
       "    }\n",
       "\n",
       "    .dataframe tbody tr th {\n",
       "        vertical-align: top;\n",
       "    }\n",
       "\n",
       "    .dataframe thead th {\n",
       "        text-align: right;\n",
       "    }\n",
       "</style>\n",
       "<table border=\"1\" class=\"dataframe\">\n",
       "  <thead>\n",
       "    <tr style=\"text-align: right;\">\n",
       "      <th></th>\n",
       "      <th>age</th>\n",
       "      <th>workclass</th>\n",
       "      <th>fnlwgt</th>\n",
       "      <th>education</th>\n",
       "      <th>educational-num</th>\n",
       "      <th>marital-status</th>\n",
       "      <th>occupation</th>\n",
       "      <th>relationship</th>\n",
       "      <th>race</th>\n",
       "      <th>gender</th>\n",
       "      <th>capital-gain</th>\n",
       "      <th>capital-loss</th>\n",
       "      <th>hours-per-week</th>\n",
       "      <th>native-country</th>\n",
       "      <th>income</th>\n",
       "    </tr>\n",
       "  </thead>\n",
       "  <tbody>\n",
       "    <tr>\n",
       "      <th>0</th>\n",
       "      <td>25</td>\n",
       "      <td>Private</td>\n",
       "      <td>226802.0</td>\n",
       "      <td>11th</td>\n",
       "      <td>7</td>\n",
       "      <td>Never-married</td>\n",
       "      <td>Machine-op-inspct</td>\n",
       "      <td>Own-child</td>\n",
       "      <td>Black</td>\n",
       "      <td>Male</td>\n",
       "      <td>0.0</td>\n",
       "      <td>0.0</td>\n",
       "      <td>40.0</td>\n",
       "      <td>United-States</td>\n",
       "      <td>&lt;=50K</td>\n",
       "    </tr>\n",
       "    <tr>\n",
       "      <th>1</th>\n",
       "      <td>38</td>\n",
       "      <td>Private</td>\n",
       "      <td>89814.0</td>\n",
       "      <td>HS-grad</td>\n",
       "      <td>9</td>\n",
       "      <td>Married-civ-spouse</td>\n",
       "      <td>Farming-fishing</td>\n",
       "      <td>Husband</td>\n",
       "      <td>White</td>\n",
       "      <td>Male</td>\n",
       "      <td>0.0</td>\n",
       "      <td>0.0</td>\n",
       "      <td>50.0</td>\n",
       "      <td>United-States</td>\n",
       "      <td>&lt;=50K</td>\n",
       "    </tr>\n",
       "    <tr>\n",
       "      <th>2</th>\n",
       "      <td>28</td>\n",
       "      <td>Local-gov</td>\n",
       "      <td>336951.0</td>\n",
       "      <td>Assoc-acdm</td>\n",
       "      <td>12</td>\n",
       "      <td>Married-civ-spouse</td>\n",
       "      <td>Protective-serv</td>\n",
       "      <td>Husband</td>\n",
       "      <td>White</td>\n",
       "      <td>Male</td>\n",
       "      <td>0.0</td>\n",
       "      <td>0.0</td>\n",
       "      <td>40.0</td>\n",
       "      <td>United-States</td>\n",
       "      <td>&gt;50K</td>\n",
       "    </tr>\n",
       "    <tr>\n",
       "      <th>3</th>\n",
       "      <td>44</td>\n",
       "      <td>Private</td>\n",
       "      <td>160323.0</td>\n",
       "      <td>Some-college</td>\n",
       "      <td>10</td>\n",
       "      <td>Married-civ-spouse</td>\n",
       "      <td>Machine-op-inspct</td>\n",
       "      <td>Husband</td>\n",
       "      <td>Black</td>\n",
       "      <td>Male</td>\n",
       "      <td>0.0</td>\n",
       "      <td>0.0</td>\n",
       "      <td>40.0</td>\n",
       "      <td>United-States</td>\n",
       "      <td>&gt;50K</td>\n",
       "    </tr>\n",
       "    <tr>\n",
       "      <th>4</th>\n",
       "      <td>18</td>\n",
       "      <td>Private</td>\n",
       "      <td>103497.0</td>\n",
       "      <td>Some-college</td>\n",
       "      <td>10</td>\n",
       "      <td>Never-married</td>\n",
       "      <td>Prof-specialty</td>\n",
       "      <td>Own-child</td>\n",
       "      <td>White</td>\n",
       "      <td>Female</td>\n",
       "      <td>0.0</td>\n",
       "      <td>0.0</td>\n",
       "      <td>30.0</td>\n",
       "      <td>United-States</td>\n",
       "      <td>&lt;=50K</td>\n",
       "    </tr>\n",
       "    <tr>\n",
       "      <th>...</th>\n",
       "      <td>...</td>\n",
       "      <td>...</td>\n",
       "      <td>...</td>\n",
       "      <td>...</td>\n",
       "      <td>...</td>\n",
       "      <td>...</td>\n",
       "      <td>...</td>\n",
       "      <td>...</td>\n",
       "      <td>...</td>\n",
       "      <td>...</td>\n",
       "      <td>...</td>\n",
       "      <td>...</td>\n",
       "      <td>...</td>\n",
       "      <td>...</td>\n",
       "      <td>...</td>\n",
       "    </tr>\n",
       "    <tr>\n",
       "      <th>48837</th>\n",
       "      <td>27</td>\n",
       "      <td>Private</td>\n",
       "      <td>257302.0</td>\n",
       "      <td>Assoc-acdm</td>\n",
       "      <td>12</td>\n",
       "      <td>Married-civ-spouse</td>\n",
       "      <td>Tech-support</td>\n",
       "      <td>Wife</td>\n",
       "      <td>White</td>\n",
       "      <td>Female</td>\n",
       "      <td>0.0</td>\n",
       "      <td>0.0</td>\n",
       "      <td>38.0</td>\n",
       "      <td>United-States</td>\n",
       "      <td>&lt;=50K</td>\n",
       "    </tr>\n",
       "    <tr>\n",
       "      <th>48838</th>\n",
       "      <td>40</td>\n",
       "      <td>Private</td>\n",
       "      <td>154374.0</td>\n",
       "      <td>HS-grad</td>\n",
       "      <td>9</td>\n",
       "      <td>Married-civ-spouse</td>\n",
       "      <td>Machine-op-inspct</td>\n",
       "      <td>Husband</td>\n",
       "      <td>White</td>\n",
       "      <td>Male</td>\n",
       "      <td>0.0</td>\n",
       "      <td>0.0</td>\n",
       "      <td>40.0</td>\n",
       "      <td>United-States</td>\n",
       "      <td>&gt;50K</td>\n",
       "    </tr>\n",
       "    <tr>\n",
       "      <th>48839</th>\n",
       "      <td>58</td>\n",
       "      <td>Private</td>\n",
       "      <td>151910.0</td>\n",
       "      <td>HS-grad</td>\n",
       "      <td>9</td>\n",
       "      <td>Widowed</td>\n",
       "      <td>Adm-clerical</td>\n",
       "      <td>Unmarried</td>\n",
       "      <td>White</td>\n",
       "      <td>Female</td>\n",
       "      <td>0.0</td>\n",
       "      <td>0.0</td>\n",
       "      <td>40.0</td>\n",
       "      <td>United-States</td>\n",
       "      <td>&lt;=50K</td>\n",
       "    </tr>\n",
       "    <tr>\n",
       "      <th>48840</th>\n",
       "      <td>22</td>\n",
       "      <td>Private</td>\n",
       "      <td>201490.0</td>\n",
       "      <td>HS-grad</td>\n",
       "      <td>9</td>\n",
       "      <td>Never-married</td>\n",
       "      <td>Adm-clerical</td>\n",
       "      <td>Own-child</td>\n",
       "      <td>White</td>\n",
       "      <td>Male</td>\n",
       "      <td>0.0</td>\n",
       "      <td>0.0</td>\n",
       "      <td>20.0</td>\n",
       "      <td>United-States</td>\n",
       "      <td>&lt;=50K</td>\n",
       "    </tr>\n",
       "    <tr>\n",
       "      <th>48841</th>\n",
       "      <td>52</td>\n",
       "      <td>Self-emp-inc</td>\n",
       "      <td>287927.0</td>\n",
       "      <td>HS-grad</td>\n",
       "      <td>9</td>\n",
       "      <td>Married-civ-spouse</td>\n",
       "      <td>Exec-managerial</td>\n",
       "      <td>Wife</td>\n",
       "      <td>White</td>\n",
       "      <td>Female</td>\n",
       "      <td>0.0</td>\n",
       "      <td>0.0</td>\n",
       "      <td>40.0</td>\n",
       "      <td>United-States</td>\n",
       "      <td>&gt;50K</td>\n",
       "    </tr>\n",
       "  </tbody>\n",
       "</table>\n",
       "<p>46767 rows × 15 columns</p>\n",
       "</div>"
      ],
      "text/plain": [
       "       age     workclass    fnlwgt     education  educational-num  \\\n",
       "0       25       Private  226802.0          11th                7   \n",
       "1       38       Private   89814.0       HS-grad                9   \n",
       "2       28     Local-gov  336951.0    Assoc-acdm               12   \n",
       "3       44       Private  160323.0  Some-college               10   \n",
       "4       18       Private  103497.0  Some-college               10   \n",
       "...    ...           ...       ...           ...              ...   \n",
       "48837   27       Private  257302.0    Assoc-acdm               12   \n",
       "48838   40       Private  154374.0       HS-grad                9   \n",
       "48839   58       Private  151910.0       HS-grad                9   \n",
       "48840   22       Private  201490.0       HS-grad                9   \n",
       "48841   52  Self-emp-inc  287927.0       HS-grad                9   \n",
       "\n",
       "           marital-status         occupation relationship   race  gender  \\\n",
       "0           Never-married  Machine-op-inspct    Own-child  Black    Male   \n",
       "1      Married-civ-spouse    Farming-fishing      Husband  White    Male   \n",
       "2      Married-civ-spouse    Protective-serv      Husband  White    Male   \n",
       "3      Married-civ-spouse  Machine-op-inspct      Husband  Black    Male   \n",
       "4           Never-married     Prof-specialty    Own-child  White  Female   \n",
       "...                   ...                ...          ...    ...     ...   \n",
       "48837  Married-civ-spouse       Tech-support         Wife  White  Female   \n",
       "48838  Married-civ-spouse  Machine-op-inspct      Husband  White    Male   \n",
       "48839             Widowed       Adm-clerical    Unmarried  White  Female   \n",
       "48840       Never-married       Adm-clerical    Own-child  White    Male   \n",
       "48841  Married-civ-spouse    Exec-managerial         Wife  White  Female   \n",
       "\n",
       "       capital-gain  capital-loss  hours-per-week native-country income  \n",
       "0               0.0           0.0            40.0  United-States  <=50K  \n",
       "1               0.0           0.0            50.0  United-States  <=50K  \n",
       "2               0.0           0.0            40.0  United-States   >50K  \n",
       "3               0.0           0.0            40.0  United-States   >50K  \n",
       "4               0.0           0.0            30.0  United-States  <=50K  \n",
       "...             ...           ...             ...            ...    ...  \n",
       "48837           0.0           0.0            38.0  United-States  <=50K  \n",
       "48838           0.0           0.0            40.0  United-States   >50K  \n",
       "48839           0.0           0.0            40.0  United-States  <=50K  \n",
       "48840           0.0           0.0            20.0  United-States  <=50K  \n",
       "48841           0.0           0.0            40.0  United-States   >50K  \n",
       "\n",
       "[46767 rows x 15 columns]"
      ]
     },
     "execution_count": 30,
     "metadata": {},
     "output_type": "execute_result"
    }
   ],
   "source": [
    "df.drop_duplicates()"
   ]
  },
  {
   "cell_type": "markdown",
   "id": "8f1fb9da",
   "metadata": {},
   "source": [
    "# Normalization"
   ]
  },
  {
   "cell_type": "markdown",
   "id": "21958674",
   "metadata": {},
   "source": [
    "### by Min-Max scaler"
   ]
  },
  {
   "cell_type": "markdown",
   "id": "6a564c8e",
   "metadata": {},
   "source": [
    "Normalization refers to rescaling numeric attributes into the range 0 and 1\n"
   ]
  },
  {
   "cell_type": "code",
   "execution_count": 31,
   "id": "c084533b",
   "metadata": {},
   "outputs": [
    {
     "data": {
      "text/html": [
       "<div>\n",
       "<style scoped>\n",
       "    .dataframe tbody tr th:only-of-type {\n",
       "        vertical-align: middle;\n",
       "    }\n",
       "\n",
       "    .dataframe tbody tr th {\n",
       "        vertical-align: top;\n",
       "    }\n",
       "\n",
       "    .dataframe thead th {\n",
       "        text-align: right;\n",
       "    }\n",
       "</style>\n",
       "<table border=\"1\" class=\"dataframe\">\n",
       "  <thead>\n",
       "    <tr style=\"text-align: right;\">\n",
       "      <th></th>\n",
       "      <th>age</th>\n",
       "      <th>workclass</th>\n",
       "      <th>fnlwgt</th>\n",
       "      <th>education</th>\n",
       "      <th>educational-num</th>\n",
       "      <th>marital-status</th>\n",
       "      <th>occupation</th>\n",
       "      <th>relationship</th>\n",
       "      <th>race</th>\n",
       "      <th>gender</th>\n",
       "      <th>capital-gain</th>\n",
       "      <th>capital-loss</th>\n",
       "      <th>hours-per-week</th>\n",
       "      <th>native-country</th>\n",
       "      <th>income</th>\n",
       "    </tr>\n",
       "  </thead>\n",
       "  <tbody>\n",
       "    <tr>\n",
       "      <th>0</th>\n",
       "      <td>0.131148</td>\n",
       "      <td>Private</td>\n",
       "      <td>226802.0</td>\n",
       "      <td>11th</td>\n",
       "      <td>0.181818</td>\n",
       "      <td>Never-married</td>\n",
       "      <td>Machine-op-inspct</td>\n",
       "      <td>Own-child</td>\n",
       "      <td>Black</td>\n",
       "      <td>Male</td>\n",
       "      <td>0.0</td>\n",
       "      <td>0.0</td>\n",
       "      <td>0.661017</td>\n",
       "      <td>United-States</td>\n",
       "      <td>&lt;=50K</td>\n",
       "    </tr>\n",
       "    <tr>\n",
       "      <th>1</th>\n",
       "      <td>0.344262</td>\n",
       "      <td>Private</td>\n",
       "      <td>89814.0</td>\n",
       "      <td>HS-grad</td>\n",
       "      <td>0.363636</td>\n",
       "      <td>Married-civ-spouse</td>\n",
       "      <td>Farming-fishing</td>\n",
       "      <td>Husband</td>\n",
       "      <td>White</td>\n",
       "      <td>Male</td>\n",
       "      <td>0.0</td>\n",
       "      <td>0.0</td>\n",
       "      <td>0.830508</td>\n",
       "      <td>United-States</td>\n",
       "      <td>&lt;=50K</td>\n",
       "    </tr>\n",
       "    <tr>\n",
       "      <th>2</th>\n",
       "      <td>0.180328</td>\n",
       "      <td>Local-gov</td>\n",
       "      <td>336951.0</td>\n",
       "      <td>Assoc-acdm</td>\n",
       "      <td>0.636364</td>\n",
       "      <td>Married-civ-spouse</td>\n",
       "      <td>Protective-serv</td>\n",
       "      <td>Husband</td>\n",
       "      <td>White</td>\n",
       "      <td>Male</td>\n",
       "      <td>0.0</td>\n",
       "      <td>0.0</td>\n",
       "      <td>0.661017</td>\n",
       "      <td>United-States</td>\n",
       "      <td>&gt;50K</td>\n",
       "    </tr>\n",
       "    <tr>\n",
       "      <th>3</th>\n",
       "      <td>0.442623</td>\n",
       "      <td>Private</td>\n",
       "      <td>160323.0</td>\n",
       "      <td>Some-college</td>\n",
       "      <td>0.454545</td>\n",
       "      <td>Married-civ-spouse</td>\n",
       "      <td>Machine-op-inspct</td>\n",
       "      <td>Husband</td>\n",
       "      <td>Black</td>\n",
       "      <td>Male</td>\n",
       "      <td>0.0</td>\n",
       "      <td>0.0</td>\n",
       "      <td>0.661017</td>\n",
       "      <td>United-States</td>\n",
       "      <td>&gt;50K</td>\n",
       "    </tr>\n",
       "    <tr>\n",
       "      <th>4</th>\n",
       "      <td>0.016393</td>\n",
       "      <td>Private</td>\n",
       "      <td>103497.0</td>\n",
       "      <td>Some-college</td>\n",
       "      <td>0.454545</td>\n",
       "      <td>Never-married</td>\n",
       "      <td>Prof-specialty</td>\n",
       "      <td>Own-child</td>\n",
       "      <td>White</td>\n",
       "      <td>Female</td>\n",
       "      <td>0.0</td>\n",
       "      <td>0.0</td>\n",
       "      <td>0.491525</td>\n",
       "      <td>United-States</td>\n",
       "      <td>&lt;=50K</td>\n",
       "    </tr>\n",
       "  </tbody>\n",
       "</table>\n",
       "</div>"
      ],
      "text/plain": [
       "        age  workclass    fnlwgt     education  educational-num  \\\n",
       "0  0.131148    Private  226802.0          11th         0.181818   \n",
       "1  0.344262    Private   89814.0       HS-grad         0.363636   \n",
       "2  0.180328  Local-gov  336951.0    Assoc-acdm         0.636364   \n",
       "3  0.442623    Private  160323.0  Some-college         0.454545   \n",
       "4  0.016393    Private  103497.0  Some-college         0.454545   \n",
       "\n",
       "       marital-status         occupation relationship   race  gender  \\\n",
       "0       Never-married  Machine-op-inspct    Own-child  Black    Male   \n",
       "1  Married-civ-spouse    Farming-fishing      Husband  White    Male   \n",
       "2  Married-civ-spouse    Protective-serv      Husband  White    Male   \n",
       "3  Married-civ-spouse  Machine-op-inspct      Husband  Black    Male   \n",
       "4       Never-married     Prof-specialty    Own-child  White  Female   \n",
       "\n",
       "   capital-gain  capital-loss  hours-per-week native-country income  \n",
       "0           0.0           0.0        0.661017  United-States  <=50K  \n",
       "1           0.0           0.0        0.830508  United-States  <=50K  \n",
       "2           0.0           0.0        0.661017  United-States   >50K  \n",
       "3           0.0           0.0        0.661017  United-States   >50K  \n",
       "4           0.0           0.0        0.491525  United-States  <=50K  "
      ]
     },
     "execution_count": 31,
     "metadata": {},
     "output_type": "execute_result"
    }
   ],
   "source": [
    "from sklearn.preprocessing import MinMaxScaler\n",
    "#Transform features numerical by scaling each feature to a given range(0,1)\n",
    "#MinMaxScaler() take range by defult(0,1)\n",
    "scaler =MinMaxScaler()\n",
    "numerical=[\"age\",\"educational-num\",\"capital-gain\",'capital-loss','hours-per-week']\n",
    "#For normalization,the training data will be used to estimate the minimum and maximum observable values by(fit()) \n",
    "#can use the normalized data to train your model by(transform())\n",
    "#fit_transform() Fit to data, then transform it.\n",
    "df[numerical]=scaler.fit_transform(df[numerical])\n",
    "df.head(5)"
   ]
  },
  {
   "cell_type": "markdown",
   "id": "216a3255",
   "metadata": {},
   "source": [
    "# Remove irrelevant attribute"
   ]
  },
  {
   "cell_type": "markdown",
   "id": "ddc5a71c",
   "metadata": {},
   "source": [
    "# feature selection"
   ]
  },
  {
   "cell_type": "markdown",
   "id": "60b79c51",
   "metadata": {},
   "source": [
    "there are two steps to make feature selection:"
   ]
  },
  {
   "cell_type": "markdown",
   "id": "88ae3a48",
   "metadata": {},
   "source": [
    "*if we get correlation between features and target attributes that the attribute which is highly correlated with target is more important (remove irrelevant attribute)"
   ]
  },
  {
   "cell_type": "markdown",
   "id": "695d1004",
   "metadata": {},
   "source": [
    "*If we get correlation between feature And them selves that the attributes with highly correlated we must remove one of them(correlated variables)\n",
    "because this can behave like duplicated feature (remove correleted attribute)\n"
   ]
  },
  {
   "cell_type": "markdown",
   "id": "9b4a6271",
   "metadata": {},
   "source": [
    "# using pearson correlation"
   ]
  },
  {
   "cell_type": "markdown",
   "id": "af38ed14",
   "metadata": {},
   "source": [
    "### convert categorical attribute to numerical"
   ]
  },
  {
   "cell_type": "code",
   "execution_count": 32,
   "id": "fe792f4d",
   "metadata": {},
   "outputs": [
    {
     "data": {
      "text/plain": [
       "Index(['age', 'workclass', 'fnlwgt', 'education', 'educational-num',\n",
       "       'marital-status', 'occupation', 'relationship', 'race', 'gender',\n",
       "       'capital-gain', 'capital-loss', 'hours-per-week', 'native-country',\n",
       "       'income'],\n",
       "      dtype='object')"
      ]
     },
     "execution_count": 32,
     "metadata": {},
     "output_type": "execute_result"
    }
   ],
   "source": [
    "#importing OrdinalEncoder from sklearn used to transform categorical values\n",
    "import sklearn\n",
    "from sklearn.preprocessing import OrdinalEncoder\n",
    "enc=OrdinalEncoder()\n",
    "df.columns"
   ]
  },
  {
   "cell_type": "code",
   "execution_count": 33,
   "id": "19f3e93c",
   "metadata": {},
   "outputs": [
    {
     "data": {
      "text/plain": [
       "OrdinalEncoder()"
      ]
     },
     "execution_count": 33,
     "metadata": {},
     "output_type": "execute_result"
    }
   ],
   "source": [
    "enc.fit(df[['age', 'workclass', 'fnlwgt', 'education', 'educational-num',\n",
    " 'marital-status', 'occupation', 'relationship', 'race', 'gender',\n",
    " 'capital-gain', 'capital-loss', 'hours-per-week', 'native-country',\n",
    " 'income']])"
   ]
  },
  {
   "cell_type": "code",
   "execution_count": 34,
   "id": "8ec001ba",
   "metadata": {},
   "outputs": [],
   "source": [
    "#Transforming and categorical values to numbers so we could apply correlation\n",
    "df[['age', 'workclass', 'fnlwgt', 'education', 'educational-num',\n",
    " 'marital-status', 'occupation', 'relationship', 'race', 'gender',\n",
    " 'capital-gain', 'capital-loss', 'hours-per-week', 'native-country',\n",
    " 'income']]=enc.transform(df[['age', 'workclass', 'fnlwgt', 'education', 'educational-num',\n",
    " 'marital-status', 'occupation', 'relationship', 'race', 'gender',\n",
    " 'capital-gain', 'capital-loss', 'hours-per-week', 'native-country',\n",
    " 'income']])\n"
   ]
  },
  {
   "cell_type": "code",
   "execution_count": 35,
   "id": "cbde1762",
   "metadata": {},
   "outputs": [
    {
     "data": {
      "text/plain": [
       "income             1.000000\n",
       "educational-num    0.340747\n",
       "relationship       0.260775\n",
       "age                0.256212\n",
       "hours-per-week     0.242660\n",
       "gender             0.220917\n",
       "marital-status     0.201358\n",
       "race               0.071919\n",
       "education          0.045429\n",
       "occupation         0.033907\n",
       "capital-gain       0.012811\n",
       "native-country     0.004281\n",
       "fnlwgt             0.002043\n",
       "workclass          0.000676\n",
       "capital-loss            NaN\n",
       "Name: income, dtype: float64"
      ]
     },
     "execution_count": 35,
     "metadata": {},
     "output_type": "execute_result"
    }
   ],
   "source": [
    "#getting the correalatin between our target attribute \"income\" with other feature\n",
    "#and sorting it in descending order\n",
    "corr_matrix=abs(df.corr())\n",
    "corr_matrix[\"income\"].sort_values(ascending=False)\n"
   ]
  },
  {
   "cell_type": "code",
   "execution_count": 36,
   "id": "c6f68300",
   "metadata": {},
   "outputs": [
    {
     "data": {
      "text/html": [
       "<div>\n",
       "<style scoped>\n",
       "    .dataframe tbody tr th:only-of-type {\n",
       "        vertical-align: middle;\n",
       "    }\n",
       "\n",
       "    .dataframe tbody tr th {\n",
       "        vertical-align: top;\n",
       "    }\n",
       "\n",
       "    .dataframe thead th {\n",
       "        text-align: right;\n",
       "    }\n",
       "</style>\n",
       "<table border=\"1\" class=\"dataframe\">\n",
       "  <thead>\n",
       "    <tr style=\"text-align: right;\">\n",
       "      <th></th>\n",
       "      <th>age</th>\n",
       "      <th>workclass</th>\n",
       "      <th>fnlwgt</th>\n",
       "      <th>education</th>\n",
       "      <th>educational-num</th>\n",
       "      <th>marital-status</th>\n",
       "      <th>occupation</th>\n",
       "      <th>relationship</th>\n",
       "      <th>race</th>\n",
       "      <th>gender</th>\n",
       "      <th>capital-gain</th>\n",
       "      <th>hours-per-week</th>\n",
       "      <th>native-country</th>\n",
       "      <th>income</th>\n",
       "    </tr>\n",
       "  </thead>\n",
       "  <tbody>\n",
       "    <tr>\n",
       "      <th>0</th>\n",
       "      <td>8.0</td>\n",
       "      <td>3.0</td>\n",
       "      <td>18695.0</td>\n",
       "      <td>1.0</td>\n",
       "      <td>2.0</td>\n",
       "      <td>4.0</td>\n",
       "      <td>6.0</td>\n",
       "      <td>3.0</td>\n",
       "      <td>2.0</td>\n",
       "      <td>1.0</td>\n",
       "      <td>0.0</td>\n",
       "      <td>39.0</td>\n",
       "      <td>38.0</td>\n",
       "      <td>0.0</td>\n",
       "    </tr>\n",
       "    <tr>\n",
       "      <th>1</th>\n",
       "      <td>21.0</td>\n",
       "      <td>3.0</td>\n",
       "      <td>4067.0</td>\n",
       "      <td>8.0</td>\n",
       "      <td>4.0</td>\n",
       "      <td>2.0</td>\n",
       "      <td>4.0</td>\n",
       "      <td>0.0</td>\n",
       "      <td>4.0</td>\n",
       "      <td>1.0</td>\n",
       "      <td>0.0</td>\n",
       "      <td>49.0</td>\n",
       "      <td>38.0</td>\n",
       "      <td>0.0</td>\n",
       "    </tr>\n",
       "    <tr>\n",
       "      <th>2</th>\n",
       "      <td>11.0</td>\n",
       "      <td>1.0</td>\n",
       "      <td>24454.0</td>\n",
       "      <td>4.0</td>\n",
       "      <td>7.0</td>\n",
       "      <td>2.0</td>\n",
       "      <td>10.0</td>\n",
       "      <td>0.0</td>\n",
       "      <td>4.0</td>\n",
       "      <td>1.0</td>\n",
       "      <td>0.0</td>\n",
       "      <td>39.0</td>\n",
       "      <td>38.0</td>\n",
       "      <td>1.0</td>\n",
       "    </tr>\n",
       "    <tr>\n",
       "      <th>3</th>\n",
       "      <td>27.0</td>\n",
       "      <td>3.0</td>\n",
       "      <td>10790.0</td>\n",
       "      <td>11.0</td>\n",
       "      <td>5.0</td>\n",
       "      <td>2.0</td>\n",
       "      <td>6.0</td>\n",
       "      <td>0.0</td>\n",
       "      <td>2.0</td>\n",
       "      <td>1.0</td>\n",
       "      <td>0.0</td>\n",
       "      <td>39.0</td>\n",
       "      <td>38.0</td>\n",
       "      <td>1.0</td>\n",
       "    </tr>\n",
       "    <tr>\n",
       "      <th>4</th>\n",
       "      <td>1.0</td>\n",
       "      <td>3.0</td>\n",
       "      <td>5207.0</td>\n",
       "      <td>11.0</td>\n",
       "      <td>5.0</td>\n",
       "      <td>4.0</td>\n",
       "      <td>9.0</td>\n",
       "      <td>3.0</td>\n",
       "      <td>4.0</td>\n",
       "      <td>0.0</td>\n",
       "      <td>0.0</td>\n",
       "      <td>29.0</td>\n",
       "      <td>38.0</td>\n",
       "      <td>0.0</td>\n",
       "    </tr>\n",
       "    <tr>\n",
       "      <th>...</th>\n",
       "      <td>...</td>\n",
       "      <td>...</td>\n",
       "      <td>...</td>\n",
       "      <td>...</td>\n",
       "      <td>...</td>\n",
       "      <td>...</td>\n",
       "      <td>...</td>\n",
       "      <td>...</td>\n",
       "      <td>...</td>\n",
       "      <td>...</td>\n",
       "      <td>...</td>\n",
       "      <td>...</td>\n",
       "      <td>...</td>\n",
       "      <td>...</td>\n",
       "    </tr>\n",
       "    <tr>\n",
       "      <th>48837</th>\n",
       "      <td>10.0</td>\n",
       "      <td>3.0</td>\n",
       "      <td>20844.0</td>\n",
       "      <td>4.0</td>\n",
       "      <td>7.0</td>\n",
       "      <td>2.0</td>\n",
       "      <td>12.0</td>\n",
       "      <td>5.0</td>\n",
       "      <td>4.0</td>\n",
       "      <td>0.0</td>\n",
       "      <td>0.0</td>\n",
       "      <td>37.0</td>\n",
       "      <td>38.0</td>\n",
       "      <td>0.0</td>\n",
       "    </tr>\n",
       "    <tr>\n",
       "      <th>48838</th>\n",
       "      <td>23.0</td>\n",
       "      <td>3.0</td>\n",
       "      <td>10194.0</td>\n",
       "      <td>8.0</td>\n",
       "      <td>4.0</td>\n",
       "      <td>2.0</td>\n",
       "      <td>6.0</td>\n",
       "      <td>0.0</td>\n",
       "      <td>4.0</td>\n",
       "      <td>1.0</td>\n",
       "      <td>0.0</td>\n",
       "      <td>39.0</td>\n",
       "      <td>38.0</td>\n",
       "      <td>1.0</td>\n",
       "    </tr>\n",
       "    <tr>\n",
       "      <th>48839</th>\n",
       "      <td>41.0</td>\n",
       "      <td>3.0</td>\n",
       "      <td>9931.0</td>\n",
       "      <td>8.0</td>\n",
       "      <td>4.0</td>\n",
       "      <td>6.0</td>\n",
       "      <td>0.0</td>\n",
       "      <td>4.0</td>\n",
       "      <td>4.0</td>\n",
       "      <td>0.0</td>\n",
       "      <td>0.0</td>\n",
       "      <td>39.0</td>\n",
       "      <td>38.0</td>\n",
       "      <td>0.0</td>\n",
       "    </tr>\n",
       "    <tr>\n",
       "      <th>48840</th>\n",
       "      <td>5.0</td>\n",
       "      <td>3.0</td>\n",
       "      <td>16254.0</td>\n",
       "      <td>8.0</td>\n",
       "      <td>4.0</td>\n",
       "      <td>4.0</td>\n",
       "      <td>0.0</td>\n",
       "      <td>3.0</td>\n",
       "      <td>4.0</td>\n",
       "      <td>1.0</td>\n",
       "      <td>0.0</td>\n",
       "      <td>19.0</td>\n",
       "      <td>38.0</td>\n",
       "      <td>0.0</td>\n",
       "    </tr>\n",
       "    <tr>\n",
       "      <th>48841</th>\n",
       "      <td>35.0</td>\n",
       "      <td>4.0</td>\n",
       "      <td>22516.0</td>\n",
       "      <td>8.0</td>\n",
       "      <td>4.0</td>\n",
       "      <td>2.0</td>\n",
       "      <td>3.0</td>\n",
       "      <td>5.0</td>\n",
       "      <td>4.0</td>\n",
       "      <td>0.0</td>\n",
       "      <td>0.0</td>\n",
       "      <td>39.0</td>\n",
       "      <td>38.0</td>\n",
       "      <td>1.0</td>\n",
       "    </tr>\n",
       "  </tbody>\n",
       "</table>\n",
       "<p>46872 rows × 14 columns</p>\n",
       "</div>"
      ],
      "text/plain": [
       "        age  workclass   fnlwgt  education  educational-num  marital-status  \\\n",
       "0       8.0        3.0  18695.0        1.0              2.0             4.0   \n",
       "1      21.0        3.0   4067.0        8.0              4.0             2.0   \n",
       "2      11.0        1.0  24454.0        4.0              7.0             2.0   \n",
       "3      27.0        3.0  10790.0       11.0              5.0             2.0   \n",
       "4       1.0        3.0   5207.0       11.0              5.0             4.0   \n",
       "...     ...        ...      ...        ...              ...             ...   \n",
       "48837  10.0        3.0  20844.0        4.0              7.0             2.0   \n",
       "48838  23.0        3.0  10194.0        8.0              4.0             2.0   \n",
       "48839  41.0        3.0   9931.0        8.0              4.0             6.0   \n",
       "48840   5.0        3.0  16254.0        8.0              4.0             4.0   \n",
       "48841  35.0        4.0  22516.0        8.0              4.0             2.0   \n",
       "\n",
       "       occupation  relationship  race  gender  capital-gain  hours-per-week  \\\n",
       "0             6.0           3.0   2.0     1.0           0.0            39.0   \n",
       "1             4.0           0.0   4.0     1.0           0.0            49.0   \n",
       "2            10.0           0.0   4.0     1.0           0.0            39.0   \n",
       "3             6.0           0.0   2.0     1.0           0.0            39.0   \n",
       "4             9.0           3.0   4.0     0.0           0.0            29.0   \n",
       "...           ...           ...   ...     ...           ...             ...   \n",
       "48837        12.0           5.0   4.0     0.0           0.0            37.0   \n",
       "48838         6.0           0.0   4.0     1.0           0.0            39.0   \n",
       "48839         0.0           4.0   4.0     0.0           0.0            39.0   \n",
       "48840         0.0           3.0   4.0     1.0           0.0            19.0   \n",
       "48841         3.0           5.0   4.0     0.0           0.0            39.0   \n",
       "\n",
       "       native-country  income  \n",
       "0                38.0     0.0  \n",
       "1                38.0     0.0  \n",
       "2                38.0     1.0  \n",
       "3                38.0     1.0  \n",
       "4                38.0     0.0  \n",
       "...               ...     ...  \n",
       "48837            38.0     0.0  \n",
       "48838            38.0     1.0  \n",
       "48839            38.0     0.0  \n",
       "48840            38.0     0.0  \n",
       "48841            38.0     1.0  \n",
       "\n",
       "[46872 rows x 14 columns]"
      ]
     },
     "execution_count": 36,
     "metadata": {},
     "output_type": "execute_result"
    }
   ],
   "source": [
    "#removing attribute that had the smallest correlation \"capital loss\"\n",
    "df=df.drop([\"capital-loss\"],axis=1)\n",
    "df"
   ]
  },
  {
   "cell_type": "markdown",
   "id": "2cf86cdd",
   "metadata": {},
   "source": [
    "# remove correlated attribute"
   ]
  },
  {
   "cell_type": "markdown",
   "id": "2796e023",
   "metadata": {},
   "source": [
    "## what is correlation?"
   ]
  },
  {
   "cell_type": "markdown",
   "id": "08c0560a",
   "metadata": {},
   "source": [
    "Correlation is a statistical term which in common usage refers to how close two variables are to having a linear relationship with each other\n"
   ]
  },
  {
   "cell_type": "markdown",
   "id": "8ee597ef",
   "metadata": {},
   "source": [
    "## How does correlation help in feature selection?"
   ]
  },
  {
   "cell_type": "markdown",
   "id": "fd4ed3e4",
   "metadata": {},
   "source": [
    "Features with high correlation are more linearly dependent and have almost the same effect on the dependent variable. So, when two features have high correlation, we can drop one of the two features."
   ]
  },
  {
   "cell_type": "markdown",
   "id": "bcba9c04",
   "metadata": {},
   "source": [
    "## using Pearson Correlation "
   ]
  },
  {
   "cell_type": "code",
   "execution_count": 37,
   "id": "0db15575",
   "metadata": {},
   "outputs": [
    {
     "data": {
      "text/html": [
       "<div>\n",
       "<style scoped>\n",
       "    .dataframe tbody tr th:only-of-type {\n",
       "        vertical-align: middle;\n",
       "    }\n",
       "\n",
       "    .dataframe tbody tr th {\n",
       "        vertical-align: top;\n",
       "    }\n",
       "\n",
       "    .dataframe thead th {\n",
       "        text-align: right;\n",
       "    }\n",
       "</style>\n",
       "<table border=\"1\" class=\"dataframe\">\n",
       "  <thead>\n",
       "    <tr style=\"text-align: right;\">\n",
       "      <th></th>\n",
       "      <th>age</th>\n",
       "      <th>workclass</th>\n",
       "      <th>fnlwgt</th>\n",
       "      <th>education</th>\n",
       "      <th>educational-num</th>\n",
       "      <th>marital-status</th>\n",
       "      <th>occupation</th>\n",
       "      <th>relationship</th>\n",
       "      <th>race</th>\n",
       "      <th>gender</th>\n",
       "      <th>capital-gain</th>\n",
       "      <th>hours-per-week</th>\n",
       "      <th>native-country</th>\n",
       "      <th>income</th>\n",
       "    </tr>\n",
       "  </thead>\n",
       "  <tbody>\n",
       "    <tr>\n",
       "      <th>age</th>\n",
       "      <td>1.000000</td>\n",
       "      <td>0.041173</td>\n",
       "      <td>-0.058294</td>\n",
       "      <td>0.014109</td>\n",
       "      <td>0.111925</td>\n",
       "      <td>-0.292310</td>\n",
       "      <td>-0.007615</td>\n",
       "      <td>-0.266949</td>\n",
       "      <td>0.034706</td>\n",
       "      <td>0.091815</td>\n",
       "      <td>0.044507</td>\n",
       "      <td>0.099712</td>\n",
       "      <td>-0.000773</td>\n",
       "      <td>0.256212</td>\n",
       "    </tr>\n",
       "    <tr>\n",
       "      <th>workclass</th>\n",
       "      <td>0.041173</td>\n",
       "      <td>1.000000</td>\n",
       "      <td>-0.028876</td>\n",
       "      <td>0.009983</td>\n",
       "      <td>0.018229</td>\n",
       "      <td>-0.020787</td>\n",
       "      <td>0.011313</td>\n",
       "      <td>-0.054238</td>\n",
       "      <td>0.052872</td>\n",
       "      <td>0.065741</td>\n",
       "      <td>-0.000068</td>\n",
       "      <td>0.005429</td>\n",
       "      <td>-0.005660</td>\n",
       "      <td>-0.000676</td>\n",
       "    </tr>\n",
       "    <tr>\n",
       "      <th>fnlwgt</th>\n",
       "      <td>-0.058294</td>\n",
       "      <td>-0.028876</td>\n",
       "      <td>1.000000</td>\n",
       "      <td>-0.007397</td>\n",
       "      <td>-0.012775</td>\n",
       "      <td>0.028631</td>\n",
       "      <td>0.004653</td>\n",
       "      <td>0.005638</td>\n",
       "      <td>-0.005311</td>\n",
       "      <td>0.019910</td>\n",
       "      <td>-0.005582</td>\n",
       "      <td>-0.000365</td>\n",
       "      <td>-0.046768</td>\n",
       "      <td>0.002043</td>\n",
       "    </tr>\n",
       "    <tr>\n",
       "      <th>education</th>\n",
       "      <td>0.014109</td>\n",
       "      <td>0.009983</td>\n",
       "      <td>-0.007397</td>\n",
       "      <td>1.000000</td>\n",
       "      <td>0.215842</td>\n",
       "      <td>-0.029101</td>\n",
       "      <td>-0.037319</td>\n",
       "      <td>-0.013364</td>\n",
       "      <td>0.011547</td>\n",
       "      <td>-0.019507</td>\n",
       "      <td>0.005054</td>\n",
       "      <td>0.044956</td>\n",
       "      <td>0.030652</td>\n",
       "      <td>0.045429</td>\n",
       "    </tr>\n",
       "    <tr>\n",
       "      <th>educational-num</th>\n",
       "      <td>0.111925</td>\n",
       "      <td>0.018229</td>\n",
       "      <td>-0.012775</td>\n",
       "      <td>0.215842</td>\n",
       "      <td>1.000000</td>\n",
       "      <td>-0.071505</td>\n",
       "      <td>0.087857</td>\n",
       "      <td>-0.127650</td>\n",
       "      <td>0.029865</td>\n",
       "      <td>0.031065</td>\n",
       "      <td>-0.001445</td>\n",
       "      <td>0.168176</td>\n",
       "      <td>-0.012105</td>\n",
       "      <td>0.340747</td>\n",
       "    </tr>\n",
       "    <tr>\n",
       "      <th>marital-status</th>\n",
       "      <td>-0.292310</td>\n",
       "      <td>-0.020787</td>\n",
       "      <td>0.028631</td>\n",
       "      <td>-0.029101</td>\n",
       "      <td>-0.071505</td>\n",
       "      <td>1.000000</td>\n",
       "      <td>0.030504</td>\n",
       "      <td>0.185489</td>\n",
       "      <td>-0.069501</td>\n",
       "      <td>-0.121219</td>\n",
       "      <td>-0.027016</td>\n",
       "      <td>-0.194592</td>\n",
       "      <td>-0.011612</td>\n",
       "      <td>-0.201358</td>\n",
       "    </tr>\n",
       "    <tr>\n",
       "      <th>occupation</th>\n",
       "      <td>-0.007615</td>\n",
       "      <td>0.011313</td>\n",
       "      <td>0.004653</td>\n",
       "      <td>-0.037319</td>\n",
       "      <td>0.087857</td>\n",
       "      <td>0.030504</td>\n",
       "      <td>1.000000</td>\n",
       "      <td>-0.037163</td>\n",
       "      <td>-0.003615</td>\n",
       "      <td>0.047003</td>\n",
       "      <td>-0.001624</td>\n",
       "      <td>-0.037743</td>\n",
       "      <td>-0.004175</td>\n",
       "      <td>0.033907</td>\n",
       "    </tr>\n",
       "    <tr>\n",
       "      <th>relationship</th>\n",
       "      <td>-0.266949</td>\n",
       "      <td>-0.054238</td>\n",
       "      <td>0.005638</td>\n",
       "      <td>-0.013364</td>\n",
       "      <td>-0.127650</td>\n",
       "      <td>0.185489</td>\n",
       "      <td>-0.037163</td>\n",
       "      <td>1.000000</td>\n",
       "      <td>-0.117589</td>\n",
       "      <td>-0.579294</td>\n",
       "      <td>-0.040345</td>\n",
       "      <td>-0.262709</td>\n",
       "      <td>-0.007196</td>\n",
       "      <td>-0.260775</td>\n",
       "    </tr>\n",
       "    <tr>\n",
       "      <th>race</th>\n",
       "      <td>0.034706</td>\n",
       "      <td>0.052872</td>\n",
       "      <td>-0.005311</td>\n",
       "      <td>0.011547</td>\n",
       "      <td>0.029865</td>\n",
       "      <td>-0.069501</td>\n",
       "      <td>-0.003615</td>\n",
       "      <td>-0.117589</td>\n",
       "      <td>1.000000</td>\n",
       "      <td>0.085716</td>\n",
       "      <td>0.011201</td>\n",
       "      <td>0.035971</td>\n",
       "      <td>0.128571</td>\n",
       "      <td>0.071919</td>\n",
       "    </tr>\n",
       "    <tr>\n",
       "      <th>gender</th>\n",
       "      <td>0.091815</td>\n",
       "      <td>0.065741</td>\n",
       "      <td>0.019910</td>\n",
       "      <td>-0.019507</td>\n",
       "      <td>0.031065</td>\n",
       "      <td>-0.121219</td>\n",
       "      <td>0.047003</td>\n",
       "      <td>-0.579294</td>\n",
       "      <td>0.085716</td>\n",
       "      <td>1.000000</td>\n",
       "      <td>0.026208</td>\n",
       "      <td>0.235534</td>\n",
       "      <td>-0.000432</td>\n",
       "      <td>0.220917</td>\n",
       "    </tr>\n",
       "    <tr>\n",
       "      <th>capital-gain</th>\n",
       "      <td>0.044507</td>\n",
       "      <td>-0.000068</td>\n",
       "      <td>-0.005582</td>\n",
       "      <td>0.005054</td>\n",
       "      <td>-0.001445</td>\n",
       "      <td>-0.027016</td>\n",
       "      <td>-0.001624</td>\n",
       "      <td>-0.040345</td>\n",
       "      <td>0.011201</td>\n",
       "      <td>0.026208</td>\n",
       "      <td>1.000000</td>\n",
       "      <td>0.015713</td>\n",
       "      <td>0.004214</td>\n",
       "      <td>-0.012811</td>\n",
       "    </tr>\n",
       "    <tr>\n",
       "      <th>hours-per-week</th>\n",
       "      <td>0.099712</td>\n",
       "      <td>0.005429</td>\n",
       "      <td>-0.000365</td>\n",
       "      <td>0.044956</td>\n",
       "      <td>0.168176</td>\n",
       "      <td>-0.194592</td>\n",
       "      <td>-0.037743</td>\n",
       "      <td>-0.262709</td>\n",
       "      <td>0.035971</td>\n",
       "      <td>0.235534</td>\n",
       "      <td>0.015713</td>\n",
       "      <td>1.000000</td>\n",
       "      <td>0.003130</td>\n",
       "      <td>0.242660</td>\n",
       "    </tr>\n",
       "    <tr>\n",
       "      <th>native-country</th>\n",
       "      <td>-0.000773</td>\n",
       "      <td>-0.005660</td>\n",
       "      <td>-0.046768</td>\n",
       "      <td>0.030652</td>\n",
       "      <td>-0.012105</td>\n",
       "      <td>-0.011612</td>\n",
       "      <td>-0.004175</td>\n",
       "      <td>-0.007196</td>\n",
       "      <td>0.128571</td>\n",
       "      <td>-0.000432</td>\n",
       "      <td>0.004214</td>\n",
       "      <td>0.003130</td>\n",
       "      <td>1.000000</td>\n",
       "      <td>0.004281</td>\n",
       "    </tr>\n",
       "    <tr>\n",
       "      <th>income</th>\n",
       "      <td>0.256212</td>\n",
       "      <td>-0.000676</td>\n",
       "      <td>0.002043</td>\n",
       "      <td>0.045429</td>\n",
       "      <td>0.340747</td>\n",
       "      <td>-0.201358</td>\n",
       "      <td>0.033907</td>\n",
       "      <td>-0.260775</td>\n",
       "      <td>0.071919</td>\n",
       "      <td>0.220917</td>\n",
       "      <td>-0.012811</td>\n",
       "      <td>0.242660</td>\n",
       "      <td>0.004281</td>\n",
       "      <td>1.000000</td>\n",
       "    </tr>\n",
       "  </tbody>\n",
       "</table>\n",
       "</div>"
      ],
      "text/plain": [
       "                      age  workclass    fnlwgt  education  educational-num  \\\n",
       "age              1.000000   0.041173 -0.058294   0.014109         0.111925   \n",
       "workclass        0.041173   1.000000 -0.028876   0.009983         0.018229   \n",
       "fnlwgt          -0.058294  -0.028876  1.000000  -0.007397        -0.012775   \n",
       "education        0.014109   0.009983 -0.007397   1.000000         0.215842   \n",
       "educational-num  0.111925   0.018229 -0.012775   0.215842         1.000000   \n",
       "marital-status  -0.292310  -0.020787  0.028631  -0.029101        -0.071505   \n",
       "occupation      -0.007615   0.011313  0.004653  -0.037319         0.087857   \n",
       "relationship    -0.266949  -0.054238  0.005638  -0.013364        -0.127650   \n",
       "race             0.034706   0.052872 -0.005311   0.011547         0.029865   \n",
       "gender           0.091815   0.065741  0.019910  -0.019507         0.031065   \n",
       "capital-gain     0.044507  -0.000068 -0.005582   0.005054        -0.001445   \n",
       "hours-per-week   0.099712   0.005429 -0.000365   0.044956         0.168176   \n",
       "native-country  -0.000773  -0.005660 -0.046768   0.030652        -0.012105   \n",
       "income           0.256212  -0.000676  0.002043   0.045429         0.340747   \n",
       "\n",
       "                 marital-status  occupation  relationship      race    gender  \\\n",
       "age                   -0.292310   -0.007615     -0.266949  0.034706  0.091815   \n",
       "workclass             -0.020787    0.011313     -0.054238  0.052872  0.065741   \n",
       "fnlwgt                 0.028631    0.004653      0.005638 -0.005311  0.019910   \n",
       "education             -0.029101   -0.037319     -0.013364  0.011547 -0.019507   \n",
       "educational-num       -0.071505    0.087857     -0.127650  0.029865  0.031065   \n",
       "marital-status         1.000000    0.030504      0.185489 -0.069501 -0.121219   \n",
       "occupation             0.030504    1.000000     -0.037163 -0.003615  0.047003   \n",
       "relationship           0.185489   -0.037163      1.000000 -0.117589 -0.579294   \n",
       "race                  -0.069501   -0.003615     -0.117589  1.000000  0.085716   \n",
       "gender                -0.121219    0.047003     -0.579294  0.085716  1.000000   \n",
       "capital-gain          -0.027016   -0.001624     -0.040345  0.011201  0.026208   \n",
       "hours-per-week        -0.194592   -0.037743     -0.262709  0.035971  0.235534   \n",
       "native-country        -0.011612   -0.004175     -0.007196  0.128571 -0.000432   \n",
       "income                -0.201358    0.033907     -0.260775  0.071919  0.220917   \n",
       "\n",
       "                 capital-gain  hours-per-week  native-country    income  \n",
       "age                  0.044507        0.099712       -0.000773  0.256212  \n",
       "workclass           -0.000068        0.005429       -0.005660 -0.000676  \n",
       "fnlwgt              -0.005582       -0.000365       -0.046768  0.002043  \n",
       "education            0.005054        0.044956        0.030652  0.045429  \n",
       "educational-num     -0.001445        0.168176       -0.012105  0.340747  \n",
       "marital-status      -0.027016       -0.194592       -0.011612 -0.201358  \n",
       "occupation          -0.001624       -0.037743       -0.004175  0.033907  \n",
       "relationship        -0.040345       -0.262709       -0.007196 -0.260775  \n",
       "race                 0.011201        0.035971        0.128571  0.071919  \n",
       "gender               0.026208        0.235534       -0.000432  0.220917  \n",
       "capital-gain         1.000000        0.015713        0.004214 -0.012811  \n",
       "hours-per-week       0.015713        1.000000        0.003130  0.242660  \n",
       "native-country       0.004214        0.003130        1.000000  0.004281  \n",
       "income              -0.012811        0.242660        0.004281  1.000000  "
      ]
     },
     "execution_count": 37,
     "metadata": {},
     "output_type": "execute_result"
    }
   ],
   "source": [
    "#between numerical attribute Using Pearson Correlation\n",
    "df.corr()"
   ]
  },
  {
   "cell_type": "code",
   "execution_count": 38,
   "id": "eccf9733",
   "metadata": {},
   "outputs": [
    {
     "data": {
      "text/plain": [
       "<AxesSubplot:>"
      ]
     },
     "execution_count": 38,
     "metadata": {},
     "output_type": "execute_result"
    },
    {
     "data": {
      "image/png": "[encoded data removed]",
      "text/plain": [
       "<Figure size 1080x576 with 2 Axes>"
      ]
     },
     "metadata": {
      "needs_background": "light"
     },
     "output_type": "display_data"
    }
   ],
   "source": [
    "plt.figure(figsize=(15,8))\n",
    "sns.heatmap(df.corr(), annot=True)"
   ]
  },
  {
   "cell_type": "markdown",
   "id": "b0c1c712",
   "metadata": {},
   "source": [
    " we compare the correlation between features and remove one of two features that have a correlation higher than 0.8"
   ]
  },
  {
   "cell_type": "code",
   "execution_count": 39,
   "id": "e889d838",
   "metadata": {},
   "outputs": [],
   "source": [
    "# with the following function we can select highly correlated features\n",
    "\n",
    "def correlation(dataset, corr_rate):\n",
    "    col_corr = set()  # Set of all the names of correlated columns\n",
    "    corr_matrix = df.corr()\n",
    "    for i in range(len(corr_matrix.columns)):#6\n",
    "        for j in range(i):\n",
    "            if abs(corr_matrix.iloc[i, j]) > corr_rate: # we are interested in absolute coeff value\n",
    "                colname = corr_matrix.columns[i]  # getting the name of column\n",
    "                col_corr.add(colname)\n",
    "    return col_corr"
   ]
  },
  {
   "cell_type": "code",
   "execution_count": 40,
   "id": "4c3a4e2e",
   "metadata": {},
   "outputs": [
    {
     "data": {
      "text/plain": [
       "0"
      ]
     },
     "execution_count": 40,
     "metadata": {},
     "output_type": "execute_result"
    }
   ],
   "source": [
    "corr_features = correlation(df, 0.8)\n",
    "len(set(corr_features))"
   ]
  },
  {
   "cell_type": "markdown",
   "id": "ff7b45c3",
   "metadata": {},
   "source": [
    "concl:there is no correlation attribute greater than .8"
   ]
  },
  {
   "cell_type": "markdown",
   "id": "b73955b3",
   "metadata": {},
   "source": [
    "# Discretization\n",
    "Data discretization is the process of converting continuous data into discrete buckets by grouping it.\n",
    "Discretization is also known for easy maintainability of the data. Training a model with discrete data becomes faster and more effective than when attempting the same with continuous data."
   ]
  },
  {
   "cell_type": "code",
   "execution_count": 41,
   "id": "0ac9bde6",
   "metadata": {},
   "outputs": [
    {
     "data": {
      "text/plain": [
       "count    46872.000000\n",
       "mean        38.346604\n",
       "std         10.346904\n",
       "min          0.000000\n",
       "25%         39.000000\n",
       "50%         39.000000\n",
       "75%         43.000000\n",
       "max         59.000000\n",
       "Name: hours-per-week, dtype: float64"
      ]
     },
     "execution_count": 41,
     "metadata": {},
     "output_type": "execute_result"
    }
   ],
   "source": [
    "df = pd.DataFrame(df) \n",
    "df['hours-per-week'].describe()"
   ]
  },
  {
   "cell_type": "code",
   "execution_count": 42,
   "id": "70ce7c25",
   "metadata": {},
   "outputs": [
    {
     "data": {
      "text/plain": [
       "<AxesSubplot:>"
      ]
     },
     "execution_count": 42,
     "metadata": {},
     "output_type": "execute_result"
    },
    {
     "data": {
      "image/png": "[encoded data removed]",
      "text/plain": [
       "<Figure size 432x288 with 1 Axes>"
      ]
     },
     "metadata": {
      "needs_background": "light"
     },
     "output_type": "display_data"
    }
   ],
   "source": [
    "df['hours-per-week'].hist()"
   ]
  },
  {
   "cell_type": "code",
   "execution_count": 43,
   "id": "c72b8222",
   "metadata": {},
   "outputs": [],
   "source": [
    "'''Pandas cut()\n",
    "function is used to separate the array elements into different bins.\n",
    "\n",
    "parameters used in this code: x: The input array to be binned,\n",
    "bins: defines the number of bin or the  edges for the segmentation,\n",
    "labels : (optional) specifies the labels for the returned bins.'''\n",
    "#split the column into three bins(poorly efective, effective, heighly effective) using pandas.cut()\n",
    "df1=df.copy()\n",
    "df1['hours-per-week_des'] = pd.cut(x = df1['hours-per-week'], bins = 3, labels = ['poorly effective', 'effective', 'heighly effective'])"
   ]
  },
  {
   "cell_type": "code",
   "execution_count": 44,
   "id": "e1f5e576",
   "metadata": {},
   "outputs": [
    {
     "data": {
      "text/plain": [
       "effective            30327\n",
       "heighly effective    12365\n",
       "poorly effective      4180\n",
       "Name: hours-per-week_des, dtype: int64"
      ]
     },
     "execution_count": 44,
     "metadata": {},
     "output_type": "execute_result"
    }
   ],
   "source": [
    "#count the objects in every bin.\n",
    "df1['hours-per-week_des'].value_counts()"
   ]
  },
  {
   "cell_type": "code",
   "execution_count": 45,
   "id": "51b96808",
   "metadata": {},
   "outputs": [],
   "source": [
    "#create a function (draw_barplot) to draw the barplot of each bin.\n",
    "import matplotlib.pyplot as plt\n",
    "def draw_barplot(x):\n",
    "    s = x.value_counts()\n",
    "    plt.bar(s.index, s.values)"
   ]
  },
  {
   "cell_type": "code",
   "execution_count": 46,
   "id": "0f365c19",
   "metadata": {},
   "outputs": [
    {
     "data": {
      "image/png": "[encoded data removed]",
      "text/plain": [
       "<Figure size 432x288 with 1 Axes>"
      ]
     },
     "metadata": {
      "needs_background": "light"
     },
     "output_type": "display_data"
    }
   ],
   "source": [
    "draw_barplot(df1['hours-per-week_des'])"
   ]
  },
  {
   "cell_type": "code",
   "execution_count": 47,
   "id": "8dc51b91",
   "metadata": {},
   "outputs": [],
   "source": [
    "#define the  edges for the segmentation.\n",
    "df1['hours-per-week_des2'] = pd.cut(x = df1['hours-per-week'], bins = [0, 20, 55, 80], labels = ['poorly effective', 'effective', 'heighly effective'])"
   ]
  },
  {
   "cell_type": "code",
   "execution_count": 48,
   "id": "1d6c77f7",
   "metadata": {},
   "outputs": [
    {
     "data": {
      "image/png": "[encoded data removed]",
      "text/plain": [
       "<Figure size 432x288 with 1 Axes>"
      ]
     },
     "metadata": {
      "needs_background": "light"
     },
     "output_type": "display_data"
    }
   ],
   "source": [
    "draw_barplot(df1['hours-per-week_des2'])"
   ]
  },
  {
   "cell_type": "markdown",
   "id": "2fa93df1",
   "metadata": {},
   "source": [
    "#### KBinsDiscretizer\n",
    "The discretization transform is available in the scikit-learn Python machine learning library via the KBinsDiscretizer class.\n",
    "\n",
    "Parameters: n_binsint or n_features: The number of bins to produce.\n",
    "\n",
    "encode{‘onehot’, ‘onehot-dense’, ‘ordinal’}: Method used to encode the transformed result.\n",
    "\n",
    "‘onehot’: Encode the transformed result with one-hot encoding and return a sparse matrix.\n",
    "\n",
    "‘onehot-dense’: Encode the transformed result with one-hot encoding and return a dense array.\n",
    "\n",
    "‘ordinal’: Return the bin identifier encoded as an integer value.\n",
    "\n",
    "strategy{‘uniform’, ‘quantile’, ‘kmeans’}: Strategy used to define the widths of the bins.\n",
    "\n",
    "‘uniform’: All bins in each feature have identical widths.\n",
    "\n",
    "‘quantile’: All bins in each feature have the same number of points.\n",
    "\n",
    "‘kmeans’: Values in each bin have the same nearest center of a 1D k-means cluster.\n"
   ]
  },
  {
   "cell_type": "markdown",
   "id": "854b1b0b",
   "metadata": {},
   "source": [
    "## Equal-Width Discretization\n",
    "Separating all possible values into ‘N’ number of bins, each having the same width. Formula for interval width: Width = (maximum value - minimum value) / N\n",
    "\n",
    "where N is the number of bins or intervals."
   ]
  },
  {
   "cell_type": "code",
   "execution_count": 49,
   "id": "938dc097",
   "metadata": {},
   "outputs": [],
   "source": [
    "from sklearn.preprocessing import KBinsDiscretizer"
   ]
  },
  {
   "cell_type": "code",
   "execution_count": 50,
   "id": "a3aa7f70",
   "metadata": {},
   "outputs": [],
   "source": [
    "discretizer  = KBinsDiscretizer(n_bins=3, encode='ordinal', strategy='uniform')"
   ]
  },
  {
   "cell_type": "code",
   "execution_count": 51,
   "id": "d28391d1",
   "metadata": {},
   "outputs": [],
   "source": [
    "'''fit_transform() method:\n",
    "Fit to data, then transform it.\n",
    "\n",
    "Fits transformer to X and y with optional parameters fit_params and returns a transformed version of X.\n",
    "\n",
    "parameters: x: array-like of shape (n_samples, n_features) Input samples.'''\n",
    "\n",
    "df1['hours-per-week_discrete'] = discretizer.fit_transform(df1['hours-per-week'].values.reshape(-1,1)).astype(int)"
   ]
  },
  {
   "cell_type": "code",
   "execution_count": 52,
   "id": "1802ebc8",
   "metadata": {},
   "outputs": [
    {
     "data": {
      "text/html": [
       "<div>\n",
       "<style scoped>\n",
       "    .dataframe tbody tr th:only-of-type {\n",
       "        vertical-align: middle;\n",
       "    }\n",
       "\n",
       "    .dataframe tbody tr th {\n",
       "        vertical-align: top;\n",
       "    }\n",
       "\n",
       "    .dataframe thead th {\n",
       "        text-align: right;\n",
       "    }\n",
       "</style>\n",
       "<table border=\"1\" class=\"dataframe\">\n",
       "  <thead>\n",
       "    <tr style=\"text-align: right;\">\n",
       "      <th></th>\n",
       "      <th>age</th>\n",
       "      <th>workclass</th>\n",
       "      <th>fnlwgt</th>\n",
       "      <th>education</th>\n",
       "      <th>educational-num</th>\n",
       "      <th>marital-status</th>\n",
       "      <th>occupation</th>\n",
       "      <th>relationship</th>\n",
       "      <th>race</th>\n",
       "      <th>gender</th>\n",
       "      <th>capital-gain</th>\n",
       "      <th>hours-per-week</th>\n",
       "      <th>native-country</th>\n",
       "      <th>income</th>\n",
       "      <th>hours-per-week_des</th>\n",
       "      <th>hours-per-week_des2</th>\n",
       "      <th>hours-per-week_discrete</th>\n",
       "    </tr>\n",
       "  </thead>\n",
       "  <tbody>\n",
       "    <tr>\n",
       "      <th>0</th>\n",
       "      <td>8.0</td>\n",
       "      <td>3.0</td>\n",
       "      <td>18695.0</td>\n",
       "      <td>1.0</td>\n",
       "      <td>2.0</td>\n",
       "      <td>4.0</td>\n",
       "      <td>6.0</td>\n",
       "      <td>3.0</td>\n",
       "      <td>2.0</td>\n",
       "      <td>1.0</td>\n",
       "      <td>0.0</td>\n",
       "      <td>39.0</td>\n",
       "      <td>38.0</td>\n",
       "      <td>0.0</td>\n",
       "      <td>effective</td>\n",
       "      <td>effective</td>\n",
       "      <td>1</td>\n",
       "    </tr>\n",
       "    <tr>\n",
       "      <th>1</th>\n",
       "      <td>21.0</td>\n",
       "      <td>3.0</td>\n",
       "      <td>4067.0</td>\n",
       "      <td>8.0</td>\n",
       "      <td>4.0</td>\n",
       "      <td>2.0</td>\n",
       "      <td>4.0</td>\n",
       "      <td>0.0</td>\n",
       "      <td>4.0</td>\n",
       "      <td>1.0</td>\n",
       "      <td>0.0</td>\n",
       "      <td>49.0</td>\n",
       "      <td>38.0</td>\n",
       "      <td>0.0</td>\n",
       "      <td>heighly effective</td>\n",
       "      <td>effective</td>\n",
       "      <td>2</td>\n",
       "    </tr>\n",
       "    <tr>\n",
       "      <th>2</th>\n",
       "      <td>11.0</td>\n",
       "      <td>1.0</td>\n",
       "      <td>24454.0</td>\n",
       "      <td>4.0</td>\n",
       "      <td>7.0</td>\n",
       "      <td>2.0</td>\n",
       "      <td>10.0</td>\n",
       "      <td>0.0</td>\n",
       "      <td>4.0</td>\n",
       "      <td>1.0</td>\n",
       "      <td>0.0</td>\n",
       "      <td>39.0</td>\n",
       "      <td>38.0</td>\n",
       "      <td>1.0</td>\n",
       "      <td>effective</td>\n",
       "      <td>effective</td>\n",
       "      <td>1</td>\n",
       "    </tr>\n",
       "    <tr>\n",
       "      <th>3</th>\n",
       "      <td>27.0</td>\n",
       "      <td>3.0</td>\n",
       "      <td>10790.0</td>\n",
       "      <td>11.0</td>\n",
       "      <td>5.0</td>\n",
       "      <td>2.0</td>\n",
       "      <td>6.0</td>\n",
       "      <td>0.0</td>\n",
       "      <td>2.0</td>\n",
       "      <td>1.0</td>\n",
       "      <td>0.0</td>\n",
       "      <td>39.0</td>\n",
       "      <td>38.0</td>\n",
       "      <td>1.0</td>\n",
       "      <td>effective</td>\n",
       "      <td>effective</td>\n",
       "      <td>1</td>\n",
       "    </tr>\n",
       "    <tr>\n",
       "      <th>4</th>\n",
       "      <td>1.0</td>\n",
       "      <td>3.0</td>\n",
       "      <td>5207.0</td>\n",
       "      <td>11.0</td>\n",
       "      <td>5.0</td>\n",
       "      <td>4.0</td>\n",
       "      <td>9.0</td>\n",
       "      <td>3.0</td>\n",
       "      <td>4.0</td>\n",
       "      <td>0.0</td>\n",
       "      <td>0.0</td>\n",
       "      <td>29.0</td>\n",
       "      <td>38.0</td>\n",
       "      <td>0.0</td>\n",
       "      <td>effective</td>\n",
       "      <td>effective</td>\n",
       "      <td>1</td>\n",
       "    </tr>\n",
       "  </tbody>\n",
       "</table>\n",
       "</div>"
      ],
      "text/plain": [
       "    age  workclass   fnlwgt  education  educational-num  marital-status  \\\n",
       "0   8.0        3.0  18695.0        1.0              2.0             4.0   \n",
       "1  21.0        3.0   4067.0        8.0              4.0             2.0   \n",
       "2  11.0        1.0  24454.0        4.0              7.0             2.0   \n",
       "3  27.0        3.0  10790.0       11.0              5.0             2.0   \n",
       "4   1.0        3.0   5207.0       11.0              5.0             4.0   \n",
       "\n",
       "   occupation  relationship  race  gender  capital-gain  hours-per-week  \\\n",
       "0         6.0           3.0   2.0     1.0           0.0            39.0   \n",
       "1         4.0           0.0   4.0     1.0           0.0            49.0   \n",
       "2        10.0           0.0   4.0     1.0           0.0            39.0   \n",
       "3         6.0           0.0   2.0     1.0           0.0            39.0   \n",
       "4         9.0           3.0   4.0     0.0           0.0            29.0   \n",
       "\n",
       "   native-country  income hours-per-week_des hours-per-week_des2  \\\n",
       "0            38.0     0.0          effective           effective   \n",
       "1            38.0     0.0  heighly effective           effective   \n",
       "2            38.0     1.0          effective           effective   \n",
       "3            38.0     1.0          effective           effective   \n",
       "4            38.0     0.0          effective           effective   \n",
       "\n",
       "   hours-per-week_discrete  \n",
       "0                        1  \n",
       "1                        2  \n",
       "2                        1  \n",
       "3                        1  \n",
       "4                        1  "
      ]
     },
     "execution_count": 52,
     "metadata": {},
     "output_type": "execute_result"
    }
   ],
   "source": [
    "df1.head()"
   ]
  },
  {
   "cell_type": "code",
   "execution_count": 53,
   "id": "c4b870a2",
   "metadata": {},
   "outputs": [
    {
     "data": {
      "image/png": "[encoded data removed]",
      "text/plain": [
       "<Figure size 432x288 with 1 Axes>"
      ]
     },
     "metadata": {
      "needs_background": "light"
     },
     "output_type": "display_data"
    }
   ],
   "source": [
    "draw_barplot(df1['hours-per-week_discrete'])"
   ]
  },
  {
   "cell_type": "code",
   "execution_count": 54,
   "id": "8f09a778",
   "metadata": {},
   "outputs": [
    {
     "data": {
      "text/plain": [
       "array([array([ 0.        , 19.66666667, 39.33333333, 59.        ])],\n",
       "      dtype=object)"
      ]
     },
     "execution_count": 54,
     "metadata": {},
     "output_type": "execute_result"
    }
   ],
   "source": [
    "discretizer.bin_edges_"
   ]
  },
  {
   "cell_type": "markdown",
   "id": "aa1eb184",
   "metadata": {},
   "source": [
    "## Equal frequency\n",
    "Separating all possible values into ‘N’ number of bins, each having the same amount of observations. Intervals may correspond to quantile values. "
   ]
  },
  {
   "cell_type": "code",
   "execution_count": 55,
   "id": "4e97f8f8",
   "metadata": {},
   "outputs": [],
   "source": [
    "discretizer  = KBinsDiscretizer(n_bins=3, encode='ordinal', strategy='quantile')"
   ]
  },
  {
   "cell_type": "code",
   "execution_count": 56,
   "id": "38672462",
   "metadata": {},
   "outputs": [
    {
     "name": "stderr",
     "output_type": "stream",
     "text": [
      "C:\\Users\\DELL\\anaconda3\\lib\\site-packages\\sklearn\\preprocessing\\_discretization.py:220: UserWarning: Bins whose width are too small (i.e., <= 1e-8) in feature 0 are removed. Consider decreasing the number of bins.\n",
      "  warnings.warn('Bins whose width are too small (i.e., <= '\n"
     ]
    }
   ],
   "source": [
    "df1['hours-per-week_eq_freq'] = discretizer.fit_transform(df1['hours-per-week'].values.reshape(-1,1)).astype(int)"
   ]
  },
  {
   "cell_type": "code",
   "execution_count": 57,
   "id": "5cd743df",
   "metadata": {},
   "outputs": [
    {
     "data": {
      "text/html": [
       "<div>\n",
       "<style scoped>\n",
       "    .dataframe tbody tr th:only-of-type {\n",
       "        vertical-align: middle;\n",
       "    }\n",
       "\n",
       "    .dataframe tbody tr th {\n",
       "        vertical-align: top;\n",
       "    }\n",
       "\n",
       "    .dataframe thead th {\n",
       "        text-align: right;\n",
       "    }\n",
       "</style>\n",
       "<table border=\"1\" class=\"dataframe\">\n",
       "  <thead>\n",
       "    <tr style=\"text-align: right;\">\n",
       "      <th></th>\n",
       "      <th>age</th>\n",
       "      <th>workclass</th>\n",
       "      <th>fnlwgt</th>\n",
       "      <th>education</th>\n",
       "      <th>educational-num</th>\n",
       "      <th>marital-status</th>\n",
       "      <th>occupation</th>\n",
       "      <th>relationship</th>\n",
       "      <th>race</th>\n",
       "      <th>gender</th>\n",
       "      <th>capital-gain</th>\n",
       "      <th>hours-per-week</th>\n",
       "      <th>native-country</th>\n",
       "      <th>income</th>\n",
       "      <th>hours-per-week_des</th>\n",
       "      <th>hours-per-week_des2</th>\n",
       "      <th>hours-per-week_discrete</th>\n",
       "      <th>hours-per-week_eq_freq</th>\n",
       "    </tr>\n",
       "  </thead>\n",
       "  <tbody>\n",
       "    <tr>\n",
       "      <th>0</th>\n",
       "      <td>8.0</td>\n",
       "      <td>3.0</td>\n",
       "      <td>18695.0</td>\n",
       "      <td>1.0</td>\n",
       "      <td>2.0</td>\n",
       "      <td>4.0</td>\n",
       "      <td>6.0</td>\n",
       "      <td>3.0</td>\n",
       "      <td>2.0</td>\n",
       "      <td>1.0</td>\n",
       "      <td>0.0</td>\n",
       "      <td>39.0</td>\n",
       "      <td>38.0</td>\n",
       "      <td>0.0</td>\n",
       "      <td>effective</td>\n",
       "      <td>effective</td>\n",
       "      <td>1</td>\n",
       "      <td>1</td>\n",
       "    </tr>\n",
       "    <tr>\n",
       "      <th>1</th>\n",
       "      <td>21.0</td>\n",
       "      <td>3.0</td>\n",
       "      <td>4067.0</td>\n",
       "      <td>8.0</td>\n",
       "      <td>4.0</td>\n",
       "      <td>2.0</td>\n",
       "      <td>4.0</td>\n",
       "      <td>0.0</td>\n",
       "      <td>4.0</td>\n",
       "      <td>1.0</td>\n",
       "      <td>0.0</td>\n",
       "      <td>49.0</td>\n",
       "      <td>38.0</td>\n",
       "      <td>0.0</td>\n",
       "      <td>heighly effective</td>\n",
       "      <td>effective</td>\n",
       "      <td>2</td>\n",
       "      <td>1</td>\n",
       "    </tr>\n",
       "    <tr>\n",
       "      <th>2</th>\n",
       "      <td>11.0</td>\n",
       "      <td>1.0</td>\n",
       "      <td>24454.0</td>\n",
       "      <td>4.0</td>\n",
       "      <td>7.0</td>\n",
       "      <td>2.0</td>\n",
       "      <td>10.0</td>\n",
       "      <td>0.0</td>\n",
       "      <td>4.0</td>\n",
       "      <td>1.0</td>\n",
       "      <td>0.0</td>\n",
       "      <td>39.0</td>\n",
       "      <td>38.0</td>\n",
       "      <td>1.0</td>\n",
       "      <td>effective</td>\n",
       "      <td>effective</td>\n",
       "      <td>1</td>\n",
       "      <td>1</td>\n",
       "    </tr>\n",
       "    <tr>\n",
       "      <th>3</th>\n",
       "      <td>27.0</td>\n",
       "      <td>3.0</td>\n",
       "      <td>10790.0</td>\n",
       "      <td>11.0</td>\n",
       "      <td>5.0</td>\n",
       "      <td>2.0</td>\n",
       "      <td>6.0</td>\n",
       "      <td>0.0</td>\n",
       "      <td>2.0</td>\n",
       "      <td>1.0</td>\n",
       "      <td>0.0</td>\n",
       "      <td>39.0</td>\n",
       "      <td>38.0</td>\n",
       "      <td>1.0</td>\n",
       "      <td>effective</td>\n",
       "      <td>effective</td>\n",
       "      <td>1</td>\n",
       "      <td>1</td>\n",
       "    </tr>\n",
       "    <tr>\n",
       "      <th>4</th>\n",
       "      <td>1.0</td>\n",
       "      <td>3.0</td>\n",
       "      <td>5207.0</td>\n",
       "      <td>11.0</td>\n",
       "      <td>5.0</td>\n",
       "      <td>4.0</td>\n",
       "      <td>9.0</td>\n",
       "      <td>3.0</td>\n",
       "      <td>4.0</td>\n",
       "      <td>0.0</td>\n",
       "      <td>0.0</td>\n",
       "      <td>29.0</td>\n",
       "      <td>38.0</td>\n",
       "      <td>0.0</td>\n",
       "      <td>effective</td>\n",
       "      <td>effective</td>\n",
       "      <td>1</td>\n",
       "      <td>0</td>\n",
       "    </tr>\n",
       "  </tbody>\n",
       "</table>\n",
       "</div>"
      ],
      "text/plain": [
       "    age  workclass   fnlwgt  education  educational-num  marital-status  \\\n",
       "0   8.0        3.0  18695.0        1.0              2.0             4.0   \n",
       "1  21.0        3.0   4067.0        8.0              4.0             2.0   \n",
       "2  11.0        1.0  24454.0        4.0              7.0             2.0   \n",
       "3  27.0        3.0  10790.0       11.0              5.0             2.0   \n",
       "4   1.0        3.0   5207.0       11.0              5.0             4.0   \n",
       "\n",
       "   occupation  relationship  race  gender  capital-gain  hours-per-week  \\\n",
       "0         6.0           3.0   2.0     1.0           0.0            39.0   \n",
       "1         4.0           0.0   4.0     1.0           0.0            49.0   \n",
       "2        10.0           0.0   4.0     1.0           0.0            39.0   \n",
       "3         6.0           0.0   2.0     1.0           0.0            39.0   \n",
       "4         9.0           3.0   4.0     0.0           0.0            29.0   \n",
       "\n",
       "   native-country  income hours-per-week_des hours-per-week_des2  \\\n",
       "0            38.0     0.0          effective           effective   \n",
       "1            38.0     0.0  heighly effective           effective   \n",
       "2            38.0     1.0          effective           effective   \n",
       "3            38.0     1.0          effective           effective   \n",
       "4            38.0     0.0          effective           effective   \n",
       "\n",
       "   hours-per-week_discrete  hours-per-week_eq_freq  \n",
       "0                        1                       1  \n",
       "1                        2                       1  \n",
       "2                        1                       1  \n",
       "3                        1                       1  \n",
       "4                        1                       0  "
      ]
     },
     "execution_count": 57,
     "metadata": {},
     "output_type": "execute_result"
    }
   ],
   "source": [
    "df1.head()"
   ]
  },
  {
   "cell_type": "code",
   "execution_count": 58,
   "id": "d5363d20",
   "metadata": {},
   "outputs": [
    {
     "data": {
      "image/png": "[encoded data removed]",
      "text/plain": [
       "<Figure size 432x288 with 1 Axes>"
      ]
     },
     "metadata": {
      "needs_background": "light"
     },
     "output_type": "display_data"
    }
   ],
   "source": [
    "draw_barplot(df1['hours-per-week_eq_freq'])"
   ]
  },
  {
   "cell_type": "code",
   "execution_count": 59,
   "id": "4995e9d4",
   "metadata": {},
   "outputs": [
    {
     "data": {
      "text/plain": [
       "array([array([ 0., 39., 59.])], dtype=object)"
      ]
     },
     "execution_count": 59,
     "metadata": {},
     "output_type": "execute_result"
    }
   ],
   "source": [
    "discretizer.bin_edges_"
   ]
  },
  {
   "cell_type": "markdown",
   "id": "ec79e311",
   "metadata": {},
   "source": [
    "## K-Means Discretization\n",
    "We apply K-Means clustering to the continuous variable, thus dividing it into discrete groups or clusters."
   ]
  },
  {
   "cell_type": "code",
   "execution_count": 60,
   "id": "fcccb193",
   "metadata": {},
   "outputs": [],
   "source": [
    "discretizer  = KBinsDiscretizer(n_bins=3, encode='ordinal', strategy='kmeans')"
   ]
  },
  {
   "cell_type": "code",
   "execution_count": 61,
   "id": "c6997eb2",
   "metadata": {},
   "outputs": [],
   "source": [
    "df1['hours-per-week_k'] = discretizer.fit_transform(df1['hours-per-week'].values.reshape(-1,1)).astype(int)"
   ]
  },
  {
   "cell_type": "code",
   "execution_count": 62,
   "id": "8f3115f2",
   "metadata": {},
   "outputs": [
    {
     "data": {
      "text/html": [
       "<div>\n",
       "<style scoped>\n",
       "    .dataframe tbody tr th:only-of-type {\n",
       "        vertical-align: middle;\n",
       "    }\n",
       "\n",
       "    .dataframe tbody tr th {\n",
       "        vertical-align: top;\n",
       "    }\n",
       "\n",
       "    .dataframe thead th {\n",
       "        text-align: right;\n",
       "    }\n",
       "</style>\n",
       "<table border=\"1\" class=\"dataframe\">\n",
       "  <thead>\n",
       "    <tr style=\"text-align: right;\">\n",
       "      <th></th>\n",
       "      <th>age</th>\n",
       "      <th>workclass</th>\n",
       "      <th>fnlwgt</th>\n",
       "      <th>education</th>\n",
       "      <th>educational-num</th>\n",
       "      <th>marital-status</th>\n",
       "      <th>occupation</th>\n",
       "      <th>relationship</th>\n",
       "      <th>race</th>\n",
       "      <th>gender</th>\n",
       "      <th>capital-gain</th>\n",
       "      <th>hours-per-week</th>\n",
       "      <th>native-country</th>\n",
       "      <th>income</th>\n",
       "      <th>hours-per-week_des</th>\n",
       "      <th>hours-per-week_des2</th>\n",
       "      <th>hours-per-week_discrete</th>\n",
       "      <th>hours-per-week_eq_freq</th>\n",
       "      <th>hours-per-week_k</th>\n",
       "    </tr>\n",
       "  </thead>\n",
       "  <tbody>\n",
       "    <tr>\n",
       "      <th>0</th>\n",
       "      <td>8.0</td>\n",
       "      <td>3.0</td>\n",
       "      <td>18695.0</td>\n",
       "      <td>1.0</td>\n",
       "      <td>2.0</td>\n",
       "      <td>4.0</td>\n",
       "      <td>6.0</td>\n",
       "      <td>3.0</td>\n",
       "      <td>2.0</td>\n",
       "      <td>1.0</td>\n",
       "      <td>0.0</td>\n",
       "      <td>39.0</td>\n",
       "      <td>38.0</td>\n",
       "      <td>0.0</td>\n",
       "      <td>effective</td>\n",
       "      <td>effective</td>\n",
       "      <td>1</td>\n",
       "      <td>1</td>\n",
       "      <td>1</td>\n",
       "    </tr>\n",
       "    <tr>\n",
       "      <th>1</th>\n",
       "      <td>21.0</td>\n",
       "      <td>3.0</td>\n",
       "      <td>4067.0</td>\n",
       "      <td>8.0</td>\n",
       "      <td>4.0</td>\n",
       "      <td>2.0</td>\n",
       "      <td>4.0</td>\n",
       "      <td>0.0</td>\n",
       "      <td>4.0</td>\n",
       "      <td>1.0</td>\n",
       "      <td>0.0</td>\n",
       "      <td>49.0</td>\n",
       "      <td>38.0</td>\n",
       "      <td>0.0</td>\n",
       "      <td>heighly effective</td>\n",
       "      <td>effective</td>\n",
       "      <td>2</td>\n",
       "      <td>1</td>\n",
       "      <td>2</td>\n",
       "    </tr>\n",
       "    <tr>\n",
       "      <th>2</th>\n",
       "      <td>11.0</td>\n",
       "      <td>1.0</td>\n",
       "      <td>24454.0</td>\n",
       "      <td>4.0</td>\n",
       "      <td>7.0</td>\n",
       "      <td>2.0</td>\n",
       "      <td>10.0</td>\n",
       "      <td>0.0</td>\n",
       "      <td>4.0</td>\n",
       "      <td>1.0</td>\n",
       "      <td>0.0</td>\n",
       "      <td>39.0</td>\n",
       "      <td>38.0</td>\n",
       "      <td>1.0</td>\n",
       "      <td>effective</td>\n",
       "      <td>effective</td>\n",
       "      <td>1</td>\n",
       "      <td>1</td>\n",
       "      <td>1</td>\n",
       "    </tr>\n",
       "    <tr>\n",
       "      <th>3</th>\n",
       "      <td>27.0</td>\n",
       "      <td>3.0</td>\n",
       "      <td>10790.0</td>\n",
       "      <td>11.0</td>\n",
       "      <td>5.0</td>\n",
       "      <td>2.0</td>\n",
       "      <td>6.0</td>\n",
       "      <td>0.0</td>\n",
       "      <td>2.0</td>\n",
       "      <td>1.0</td>\n",
       "      <td>0.0</td>\n",
       "      <td>39.0</td>\n",
       "      <td>38.0</td>\n",
       "      <td>1.0</td>\n",
       "      <td>effective</td>\n",
       "      <td>effective</td>\n",
       "      <td>1</td>\n",
       "      <td>1</td>\n",
       "      <td>1</td>\n",
       "    </tr>\n",
       "    <tr>\n",
       "      <th>4</th>\n",
       "      <td>1.0</td>\n",
       "      <td>3.0</td>\n",
       "      <td>5207.0</td>\n",
       "      <td>11.0</td>\n",
       "      <td>5.0</td>\n",
       "      <td>4.0</td>\n",
       "      <td>9.0</td>\n",
       "      <td>3.0</td>\n",
       "      <td>4.0</td>\n",
       "      <td>0.0</td>\n",
       "      <td>0.0</td>\n",
       "      <td>29.0</td>\n",
       "      <td>38.0</td>\n",
       "      <td>0.0</td>\n",
       "      <td>effective</td>\n",
       "      <td>effective</td>\n",
       "      <td>1</td>\n",
       "      <td>0</td>\n",
       "      <td>1</td>\n",
       "    </tr>\n",
       "  </tbody>\n",
       "</table>\n",
       "</div>"
      ],
      "text/plain": [
       "    age  workclass   fnlwgt  education  educational-num  marital-status  \\\n",
       "0   8.0        3.0  18695.0        1.0              2.0             4.0   \n",
       "1  21.0        3.0   4067.0        8.0              4.0             2.0   \n",
       "2  11.0        1.0  24454.0        4.0              7.0             2.0   \n",
       "3  27.0        3.0  10790.0       11.0              5.0             2.0   \n",
       "4   1.0        3.0   5207.0       11.0              5.0             4.0   \n",
       "\n",
       "   occupation  relationship  race  gender  capital-gain  hours-per-week  \\\n",
       "0         6.0           3.0   2.0     1.0           0.0            39.0   \n",
       "1         4.0           0.0   4.0     1.0           0.0            49.0   \n",
       "2        10.0           0.0   4.0     1.0           0.0            39.0   \n",
       "3         6.0           0.0   2.0     1.0           0.0            39.0   \n",
       "4         9.0           3.0   4.0     0.0           0.0            29.0   \n",
       "\n",
       "   native-country  income hours-per-week_des hours-per-week_des2  \\\n",
       "0            38.0     0.0          effective           effective   \n",
       "1            38.0     0.0  heighly effective           effective   \n",
       "2            38.0     1.0          effective           effective   \n",
       "3            38.0     1.0          effective           effective   \n",
       "4            38.0     0.0          effective           effective   \n",
       "\n",
       "   hours-per-week_discrete  hours-per-week_eq_freq  hours-per-week_k  \n",
       "0                        1                       1                 1  \n",
       "1                        2                       1                 2  \n",
       "2                        1                       1                 1  \n",
       "3                        1                       1                 1  \n",
       "4                        1                       0                 1  "
      ]
     },
     "execution_count": 62,
     "metadata": {},
     "output_type": "execute_result"
    }
   ],
   "source": [
    "df1.head()"
   ]
  },
  {
   "cell_type": "code",
   "execution_count": 63,
   "id": "78b50c85",
   "metadata": {},
   "outputs": [
    {
     "data": {
      "image/png": "[encoded data removed]",
      "text/plain": [
       "<Figure size 432x288 with 1 Axes>"
      ]
     },
     "metadata": {
      "needs_background": "light"
     },
     "output_type": "display_data"
    }
   ],
   "source": [
    "draw_barplot(df1['hours-per-week_k'])"
   ]
  },
  {
   "cell_type": "code",
   "execution_count": 64,
   "id": "ab9813c1",
   "metadata": {},
   "outputs": [
    {
     "data": {
      "text/plain": [
       "array([array([ 0.        , 27.69253179, 45.29151268, 59.        ])],\n",
       "      dtype=object)"
      ]
     },
     "execution_count": 64,
     "metadata": {},
     "output_type": "execute_result"
    }
   ],
   "source": [
    "discretizer.bin_edges_"
   ]
  },
  {
   "cell_type": "code",
   "execution_count": 65,
   "id": "54b868d8",
   "metadata": {},
   "outputs": [
    {
     "data": {
      "text/html": [
       "<div>\n",
       "<style scoped>\n",
       "    .dataframe tbody tr th:only-of-type {\n",
       "        vertical-align: middle;\n",
       "    }\n",
       "\n",
       "    .dataframe tbody tr th {\n",
       "        vertical-align: top;\n",
       "    }\n",
       "\n",
       "    .dataframe thead th {\n",
       "        text-align: right;\n",
       "    }\n",
       "</style>\n",
       "<table border=\"1\" class=\"dataframe\">\n",
       "  <thead>\n",
       "    <tr style=\"text-align: right;\">\n",
       "      <th></th>\n",
       "      <th>age</th>\n",
       "      <th>workclass</th>\n",
       "      <th>fnlwgt</th>\n",
       "      <th>education</th>\n",
       "      <th>educational-num</th>\n",
       "      <th>marital-status</th>\n",
       "      <th>occupation</th>\n",
       "      <th>relationship</th>\n",
       "      <th>race</th>\n",
       "      <th>gender</th>\n",
       "      <th>capital-gain</th>\n",
       "      <th>hours-per-week</th>\n",
       "      <th>native-country</th>\n",
       "      <th>income</th>\n",
       "    </tr>\n",
       "  </thead>\n",
       "  <tbody>\n",
       "    <tr>\n",
       "      <th>0</th>\n",
       "      <td>8.0</td>\n",
       "      <td>3.0</td>\n",
       "      <td>18695.0</td>\n",
       "      <td>1.0</td>\n",
       "      <td>2.0</td>\n",
       "      <td>4.0</td>\n",
       "      <td>6.0</td>\n",
       "      <td>3.0</td>\n",
       "      <td>2.0</td>\n",
       "      <td>1.0</td>\n",
       "      <td>0.0</td>\n",
       "      <td>39.0</td>\n",
       "      <td>38.0</td>\n",
       "      <td>0.0</td>\n",
       "    </tr>\n",
       "    <tr>\n",
       "      <th>1</th>\n",
       "      <td>21.0</td>\n",
       "      <td>3.0</td>\n",
       "      <td>4067.0</td>\n",
       "      <td>8.0</td>\n",
       "      <td>4.0</td>\n",
       "      <td>2.0</td>\n",
       "      <td>4.0</td>\n",
       "      <td>0.0</td>\n",
       "      <td>4.0</td>\n",
       "      <td>1.0</td>\n",
       "      <td>0.0</td>\n",
       "      <td>49.0</td>\n",
       "      <td>38.0</td>\n",
       "      <td>0.0</td>\n",
       "    </tr>\n",
       "    <tr>\n",
       "      <th>2</th>\n",
       "      <td>11.0</td>\n",
       "      <td>1.0</td>\n",
       "      <td>24454.0</td>\n",
       "      <td>4.0</td>\n",
       "      <td>7.0</td>\n",
       "      <td>2.0</td>\n",
       "      <td>10.0</td>\n",
       "      <td>0.0</td>\n",
       "      <td>4.0</td>\n",
       "      <td>1.0</td>\n",
       "      <td>0.0</td>\n",
       "      <td>39.0</td>\n",
       "      <td>38.0</td>\n",
       "      <td>1.0</td>\n",
       "    </tr>\n",
       "    <tr>\n",
       "      <th>3</th>\n",
       "      <td>27.0</td>\n",
       "      <td>3.0</td>\n",
       "      <td>10790.0</td>\n",
       "      <td>11.0</td>\n",
       "      <td>5.0</td>\n",
       "      <td>2.0</td>\n",
       "      <td>6.0</td>\n",
       "      <td>0.0</td>\n",
       "      <td>2.0</td>\n",
       "      <td>1.0</td>\n",
       "      <td>0.0</td>\n",
       "      <td>39.0</td>\n",
       "      <td>38.0</td>\n",
       "      <td>1.0</td>\n",
       "    </tr>\n",
       "    <tr>\n",
       "      <th>4</th>\n",
       "      <td>1.0</td>\n",
       "      <td>3.0</td>\n",
       "      <td>5207.0</td>\n",
       "      <td>11.0</td>\n",
       "      <td>5.0</td>\n",
       "      <td>4.0</td>\n",
       "      <td>9.0</td>\n",
       "      <td>3.0</td>\n",
       "      <td>4.0</td>\n",
       "      <td>0.0</td>\n",
       "      <td>0.0</td>\n",
       "      <td>29.0</td>\n",
       "      <td>38.0</td>\n",
       "      <td>0.0</td>\n",
       "    </tr>\n",
       "  </tbody>\n",
       "</table>\n",
       "</div>"
      ],
      "text/plain": [
       "    age  workclass   fnlwgt  education  educational-num  marital-status  \\\n",
       "0   8.0        3.0  18695.0        1.0              2.0             4.0   \n",
       "1  21.0        3.0   4067.0        8.0              4.0             2.0   \n",
       "2  11.0        1.0  24454.0        4.0              7.0             2.0   \n",
       "3  27.0        3.0  10790.0       11.0              5.0             2.0   \n",
       "4   1.0        3.0   5207.0       11.0              5.0             4.0   \n",
       "\n",
       "   occupation  relationship  race  gender  capital-gain  hours-per-week  \\\n",
       "0         6.0           3.0   2.0     1.0           0.0            39.0   \n",
       "1         4.0           0.0   4.0     1.0           0.0            49.0   \n",
       "2        10.0           0.0   4.0     1.0           0.0            39.0   \n",
       "3         6.0           0.0   2.0     1.0           0.0            39.0   \n",
       "4         9.0           3.0   4.0     0.0           0.0            29.0   \n",
       "\n",
       "   native-country  income  \n",
       "0            38.0     0.0  \n",
       "1            38.0     0.0  \n",
       "2            38.0     1.0  \n",
       "3            38.0     1.0  \n",
       "4            38.0     0.0  "
      ]
     },
     "execution_count": 65,
     "metadata": {},
     "output_type": "execute_result"
    }
   ],
   "source": [
    "df.head()"
   ]
  },
  {
   "cell_type": "markdown",
   "id": "bbfa66d5",
   "metadata": {},
   "source": [
    "# Part 2"
   ]
  },
  {
   "cell_type": "markdown",
   "id": "7d6d5a63",
   "metadata": {},
   "source": [
    "## supervised learning Algorithms:"
   ]
  },
  {
   "cell_type": "markdown",
   "id": "cfefb238",
   "metadata": {},
   "source": [
    "## decision tree\n"
   ]
  },
  {
   "cell_type": "code",
   "execution_count": 66,
   "id": "a08a051f",
   "metadata": {},
   "outputs": [
    {
     "data": {
      "text/html": [
       "<div>\n",
       "<style scoped>\n",
       "    .dataframe tbody tr th:only-of-type {\n",
       "        vertical-align: middle;\n",
       "    }\n",
       "\n",
       "    .dataframe tbody tr th {\n",
       "        vertical-align: top;\n",
       "    }\n",
       "\n",
       "    .dataframe thead th {\n",
       "        text-align: right;\n",
       "    }\n",
       "</style>\n",
       "<table border=\"1\" class=\"dataframe\">\n",
       "  <thead>\n",
       "    <tr style=\"text-align: right;\">\n",
       "      <th></th>\n",
       "      <th>age</th>\n",
       "      <th>workclass</th>\n",
       "      <th>fnlwgt</th>\n",
       "      <th>education</th>\n",
       "      <th>educational-num</th>\n",
       "      <th>marital-status</th>\n",
       "      <th>occupation</th>\n",
       "      <th>relationship</th>\n",
       "      <th>race</th>\n",
       "      <th>gender</th>\n",
       "      <th>capital-gain</th>\n",
       "      <th>hours-per-week</th>\n",
       "      <th>native-country</th>\n",
       "    </tr>\n",
       "  </thead>\n",
       "  <tbody>\n",
       "    <tr>\n",
       "      <th>0</th>\n",
       "      <td>8.0</td>\n",
       "      <td>3.0</td>\n",
       "      <td>18695.0</td>\n",
       "      <td>1.0</td>\n",
       "      <td>2.0</td>\n",
       "      <td>4.0</td>\n",
       "      <td>6.0</td>\n",
       "      <td>3.0</td>\n",
       "      <td>2.0</td>\n",
       "      <td>1.0</td>\n",
       "      <td>0.0</td>\n",
       "      <td>39.0</td>\n",
       "      <td>38.0</td>\n",
       "    </tr>\n",
       "    <tr>\n",
       "      <th>1</th>\n",
       "      <td>21.0</td>\n",
       "      <td>3.0</td>\n",
       "      <td>4067.0</td>\n",
       "      <td>8.0</td>\n",
       "      <td>4.0</td>\n",
       "      <td>2.0</td>\n",
       "      <td>4.0</td>\n",
       "      <td>0.0</td>\n",
       "      <td>4.0</td>\n",
       "      <td>1.0</td>\n",
       "      <td>0.0</td>\n",
       "      <td>49.0</td>\n",
       "      <td>38.0</td>\n",
       "    </tr>\n",
       "    <tr>\n",
       "      <th>2</th>\n",
       "      <td>11.0</td>\n",
       "      <td>1.0</td>\n",
       "      <td>24454.0</td>\n",
       "      <td>4.0</td>\n",
       "      <td>7.0</td>\n",
       "      <td>2.0</td>\n",
       "      <td>10.0</td>\n",
       "      <td>0.0</td>\n",
       "      <td>4.0</td>\n",
       "      <td>1.0</td>\n",
       "      <td>0.0</td>\n",
       "      <td>39.0</td>\n",
       "      <td>38.0</td>\n",
       "    </tr>\n",
       "    <tr>\n",
       "      <th>3</th>\n",
       "      <td>27.0</td>\n",
       "      <td>3.0</td>\n",
       "      <td>10790.0</td>\n",
       "      <td>11.0</td>\n",
       "      <td>5.0</td>\n",
       "      <td>2.0</td>\n",
       "      <td>6.0</td>\n",
       "      <td>0.0</td>\n",
       "      <td>2.0</td>\n",
       "      <td>1.0</td>\n",
       "      <td>0.0</td>\n",
       "      <td>39.0</td>\n",
       "      <td>38.0</td>\n",
       "    </tr>\n",
       "    <tr>\n",
       "      <th>4</th>\n",
       "      <td>1.0</td>\n",
       "      <td>3.0</td>\n",
       "      <td>5207.0</td>\n",
       "      <td>11.0</td>\n",
       "      <td>5.0</td>\n",
       "      <td>4.0</td>\n",
       "      <td>9.0</td>\n",
       "      <td>3.0</td>\n",
       "      <td>4.0</td>\n",
       "      <td>0.0</td>\n",
       "      <td>0.0</td>\n",
       "      <td>29.0</td>\n",
       "      <td>38.0</td>\n",
       "    </tr>\n",
       "  </tbody>\n",
       "</table>\n",
       "</div>"
      ],
      "text/plain": [
       "    age  workclass   fnlwgt  education  educational-num  marital-status  \\\n",
       "0   8.0        3.0  18695.0        1.0              2.0             4.0   \n",
       "1  21.0        3.0   4067.0        8.0              4.0             2.0   \n",
       "2  11.0        1.0  24454.0        4.0              7.0             2.0   \n",
       "3  27.0        3.0  10790.0       11.0              5.0             2.0   \n",
       "4   1.0        3.0   5207.0       11.0              5.0             4.0   \n",
       "\n",
       "   occupation  relationship  race  gender  capital-gain  hours-per-week  \\\n",
       "0         6.0           3.0   2.0     1.0           0.0            39.0   \n",
       "1         4.0           0.0   4.0     1.0           0.0            49.0   \n",
       "2        10.0           0.0   4.0     1.0           0.0            39.0   \n",
       "3         6.0           0.0   2.0     1.0           0.0            39.0   \n",
       "4         9.0           3.0   4.0     0.0           0.0            29.0   \n",
       "\n",
       "   native-country  \n",
       "0            38.0  \n",
       "1            38.0  \n",
       "2            38.0  \n",
       "3            38.0  \n",
       "4            38.0  "
      ]
     },
     "execution_count": 66,
     "metadata": {},
     "output_type": "execute_result"
    }
   ],
   "source": [
    "from sklearn.model_selection import train_test_split\n",
    "x = df.drop('income',axis=1)\n",
    "y = df['income']\n",
    "x.head(5)"
   ]
  },
  {
   "cell_type": "code",
   "execution_count": 67,
   "id": "06531873",
   "metadata": {
    "scrolled": true
   },
   "outputs": [
    {
     "data": {
      "text/plain": [
       "0    0.0\n",
       "1    0.0\n",
       "2    1.0\n",
       "3    1.0\n",
       "4    0.0\n",
       "Name: income, dtype: float64"
      ]
     },
     "execution_count": 67,
     "metadata": {},
     "output_type": "execute_result"
    }
   ],
   "source": [
    "y.head(5)"
   ]
  },
  {
   "cell_type": "code",
   "execution_count": 68,
   "id": "2910c075",
   "metadata": {},
   "outputs": [
    {
     "data": {
      "text/html": [
       "<div>\n",
       "<style scoped>\n",
       "    .dataframe tbody tr th:only-of-type {\n",
       "        vertical-align: middle;\n",
       "    }\n",
       "\n",
       "    .dataframe tbody tr th {\n",
       "        vertical-align: top;\n",
       "    }\n",
       "\n",
       "    .dataframe thead th {\n",
       "        text-align: right;\n",
       "    }\n",
       "</style>\n",
       "<table border=\"1\" class=\"dataframe\">\n",
       "  <thead>\n",
       "    <tr style=\"text-align: right;\">\n",
       "      <th></th>\n",
       "      <th>age</th>\n",
       "      <th>workclass</th>\n",
       "      <th>fnlwgt</th>\n",
       "      <th>education</th>\n",
       "      <th>educational-num</th>\n",
       "      <th>marital-status</th>\n",
       "      <th>occupation</th>\n",
       "      <th>relationship</th>\n",
       "      <th>race</th>\n",
       "      <th>gender</th>\n",
       "      <th>capital-gain</th>\n",
       "      <th>hours-per-week</th>\n",
       "      <th>native-country</th>\n",
       "    </tr>\n",
       "  </thead>\n",
       "  <tbody>\n",
       "    <tr>\n",
       "      <th>48308</th>\n",
       "      <td>29.0</td>\n",
       "      <td>1.0</td>\n",
       "      <td>8823.0</td>\n",
       "      <td>9.0</td>\n",
       "      <td>9.0</td>\n",
       "      <td>0.0</td>\n",
       "      <td>9.0</td>\n",
       "      <td>1.0</td>\n",
       "      <td>4.0</td>\n",
       "      <td>0.0</td>\n",
       "      <td>0.0</td>\n",
       "      <td>54.0</td>\n",
       "      <td>38.0</td>\n",
       "    </tr>\n",
       "    <tr>\n",
       "      <th>10397</th>\n",
       "      <td>52.0</td>\n",
       "      <td>5.0</td>\n",
       "      <td>6821.0</td>\n",
       "      <td>4.0</td>\n",
       "      <td>7.0</td>\n",
       "      <td>2.0</td>\n",
       "      <td>11.0</td>\n",
       "      <td>0.0</td>\n",
       "      <td>4.0</td>\n",
       "      <td>1.0</td>\n",
       "      <td>0.0</td>\n",
       "      <td>14.0</td>\n",
       "      <td>38.0</td>\n",
       "    </tr>\n",
       "    <tr>\n",
       "      <th>15057</th>\n",
       "      <td>20.0</td>\n",
       "      <td>3.0</td>\n",
       "      <td>8372.0</td>\n",
       "      <td>11.0</td>\n",
       "      <td>5.0</td>\n",
       "      <td>0.0</td>\n",
       "      <td>7.0</td>\n",
       "      <td>4.0</td>\n",
       "      <td>4.0</td>\n",
       "      <td>0.0</td>\n",
       "      <td>0.0</td>\n",
       "      <td>55.0</td>\n",
       "      <td>38.0</td>\n",
       "    </tr>\n",
       "    <tr>\n",
       "      <th>37730</th>\n",
       "      <td>17.0</td>\n",
       "      <td>3.0</td>\n",
       "      <td>11017.0</td>\n",
       "      <td>8.0</td>\n",
       "      <td>4.0</td>\n",
       "      <td>2.0</td>\n",
       "      <td>0.0</td>\n",
       "      <td>5.0</td>\n",
       "      <td>4.0</td>\n",
       "      <td>0.0</td>\n",
       "      <td>0.0</td>\n",
       "      <td>19.0</td>\n",
       "      <td>38.0</td>\n",
       "    </tr>\n",
       "    <tr>\n",
       "      <th>23508</th>\n",
       "      <td>36.0</td>\n",
       "      <td>3.0</td>\n",
       "      <td>11560.0</td>\n",
       "      <td>8.0</td>\n",
       "      <td>4.0</td>\n",
       "      <td>6.0</td>\n",
       "      <td>6.0</td>\n",
       "      <td>1.0</td>\n",
       "      <td>2.0</td>\n",
       "      <td>0.0</td>\n",
       "      <td>0.0</td>\n",
       "      <td>39.0</td>\n",
       "      <td>38.0</td>\n",
       "    </tr>\n",
       "  </tbody>\n",
       "</table>\n",
       "</div>"
      ],
      "text/plain": [
       "        age  workclass   fnlwgt  education  educational-num  marital-status  \\\n",
       "48308  29.0        1.0   8823.0        9.0              9.0             0.0   \n",
       "10397  52.0        5.0   6821.0        4.0              7.0             2.0   \n",
       "15057  20.0        3.0   8372.0       11.0              5.0             0.0   \n",
       "37730  17.0        3.0  11017.0        8.0              4.0             2.0   \n",
       "23508  36.0        3.0  11560.0        8.0              4.0             6.0   \n",
       "\n",
       "       occupation  relationship  race  gender  capital-gain  hours-per-week  \\\n",
       "48308         9.0           1.0   4.0     0.0           0.0            54.0   \n",
       "10397        11.0           0.0   4.0     1.0           0.0            14.0   \n",
       "15057         7.0           4.0   4.0     0.0           0.0            55.0   \n",
       "37730         0.0           5.0   4.0     0.0           0.0            19.0   \n",
       "23508         6.0           1.0   2.0     0.0           0.0            39.0   \n",
       "\n",
       "       native-country  \n",
       "48308            38.0  \n",
       "10397            38.0  \n",
       "15057            38.0  \n",
       "37730            38.0  \n",
       "23508            38.0  "
      ]
     },
     "execution_count": 68,
     "metadata": {},
     "output_type": "execute_result"
    }
   ],
   "source": [
    "#here we divide x which contains all the data except for the income to training set and test set and the same for y and then \n",
    "#give the test set the size of 20% which means that the training set is 80% obvisoly\n",
    "x_train,x_test,y_train,y_test = train_test_split(x,y,test_size = 0.20)\n",
    "x_train.head()"
   ]
  },
  {
   "cell_type": "code",
   "execution_count": 69,
   "id": "93590688",
   "metadata": {},
   "outputs": [
    {
     "data": {
      "text/plain": [
       "DecisionTreeClassifier(max_depth=5)"
      ]
     },
     "execution_count": 69,
     "metadata": {},
     "output_type": "execute_result"
    }
   ],
   "source": [
    "#here we import decision tree classifier from the tree of the sklearn which will create our tree\n",
    "from sklearn.tree import DecisionTreeClassifier\n",
    "#we make an object of the decision tree classifier and giving it the maximum depth of 5 \n",
    "tree1 = DecisionTreeClassifier(max_depth = 5)\n",
    "tree1.fit(x_train,y_train)"
   ]
  },
  {
   "cell_type": "code",
   "execution_count": 70,
   "id": "2695ec2c",
   "metadata": {
    "scrolled": true
   },
   "outputs": [
    {
     "name": "stdout",
     "output_type": "stream",
     "text": [
      "0.8218666666666666\n"
     ]
    }
   ],
   "source": [
    "#then we make our predictions\n",
    "y_predict = tree1.predict(x_test)\n",
    "\n",
    "#then we evaluate the the accuracy of our model by importing sklearn metrices\n",
    "from sklearn.metrics import accuracy_score\n",
    "print(accuracy_score(y_test,y_predict))"
   ]
  },
  {
   "cell_type": "code",
   "execution_count": 71,
   "id": "a564e6dd",
   "metadata": {
    "scrolled": true
   },
   "outputs": [
    {
     "data": {
      "text/plain": [
       "['workclass',\n",
       " 'fnlwgt',\n",
       " 'education',\n",
       " 'educational-num',\n",
       " 'marital-status',\n",
       " 'occupation',\n",
       " 'relationship',\n",
       " 'race',\n",
       " 'gender',\n",
       " 'capital-gain',\n",
       " 'hours-per-week',\n",
       " 'native-country',\n",
       " 'income']"
      ]
     },
     "execution_count": 71,
     "metadata": {},
     "output_type": "execute_result"
    }
   ],
   "source": [
    "#then we find our accuracy to be 82.76%\n",
    "#then we will put our features in a list to use the in the feature_names parameter\n",
    "features = list(df.columns[1:])\n",
    "features"
   ]
  },
  {
   "cell_type": "code",
   "execution_count": 72,
   "id": "3d14a8d3",
   "metadata": {},
   "outputs": [
    {
     "data": {
      "image/png": "[encoded data removed]",
      "text/plain": [
       "<Figure size 1800x1440 with 1 Axes>"
      ]
     },
     "metadata": {
      "needs_background": "light"
     },
     "output_type": "display_data"
    }
   ],
   "source": [
    "#then we here import plot_tree which will vizualize our tree\n",
    "from sklearn.tree import plot_tree\n",
    "fig = plt.figure(figsize=(25,20))\n",
    "#we here give the plot_tree our tree , feature names, and giving fiilled parameter the TRUE value meaning painting nodes to indicate majority class for classification\n",
    "#rounded set for TRUE  for drawing node boxes with rounded corners and \n",
    "#use Helvetica fonts instead of Times-Roman which is a specific type of font.\n",
    "plot = plot_tree(tree1,feature_names = features,\n",
    "                filled = True,\n",
    "                rounded = True,\n",
    "                fontsize = 16)"
   ]
  },
  {
   "cell_type": "code",
   "execution_count": 73,
   "id": "ecf66217",
   "metadata": {},
   "outputs": [],
   "source": [
    "fig.savefig(\"decistion_tree.png\")"
   ]
  },
  {
   "cell_type": "markdown",
   "id": "a58ea641",
   "metadata": {},
   "source": [
    "# KNN\n"
   ]
  },
  {
   "cell_type": "code",
   "execution_count": 74,
   "id": "c1f0a4e4",
   "metadata": {},
   "outputs": [
    {
     "data": {
      "text/plain": [
       "KNeighborsClassifier()"
      ]
     },
     "execution_count": 74,
     "metadata": {},
     "output_type": "execute_result"
    }
   ],
   "source": [
    "#here we use our training an test sets again but this time on a different classification technique which is k-nearest neighbors\n",
    "#here we import the knearest neighbors classifier from sklearn\n",
    "from sklearn.neighbors import KNeighborsClassifier\n",
    "#we create instance from the knn classifier with 5 neighbors\n",
    "knn = KNeighborsClassifier(n_neighbors = 5)\n",
    "#fitting our model to the training data\n",
    "knn.fit(x_train,y_train)\n"
   ]
  },
  {
   "cell_type": "code",
   "execution_count": 75,
   "id": "e29f304d",
   "metadata": {},
   "outputs": [
    {
     "data": {
      "text/plain": [
       "array([0., 0., 1., ..., 0., 0., 0.])"
      ]
     },
     "execution_count": 75,
     "metadata": {},
     "output_type": "execute_result"
    }
   ],
   "source": [
    "y_predict2 = knn.predict(x_test)\n",
    "y_predict2"
   ]
  },
  {
   "cell_type": "code",
   "execution_count": 76,
   "id": "8c4ca5fe",
   "metadata": {},
   "outputs": [
    {
     "name": "stdout",
     "output_type": "stream",
     "text": [
      "0.72992\n"
     ]
    }
   ],
   "source": [
    "print(accuracy_score(y_test,y_predict2))"
   ]
  },
  {
   "cell_type": "code",
   "execution_count": 77,
   "id": "e90a0389",
   "metadata": {},
   "outputs": [],
   "source": [
    "#we find that our accuracy is 74.368%"
   ]
  },
  {
   "cell_type": "markdown",
   "id": "1fb8c77c",
   "metadata": {},
   "source": [
    "# Naive Bayes "
   ]
  },
  {
   "cell_type": "markdown",
   "id": "c3b64449",
   "metadata": {},
   "source": [
    "We can explore the possibility in predicting income level based on the individual's personal information"
   ]
  },
  {
   "cell_type": "markdown",
   "id": "9caf13d1",
   "metadata": {},
   "source": [
    "Gaussian Naive Bayes: It works with continuous attributes, it assumes the data normally distributed (Gaussian Distribution)"
   ]
  },
  {
   "cell_type": "code",
   "execution_count": 81,
   "id": "b50794dd",
   "metadata": {},
   "outputs": [
    {
     "data": {
      "text/plain": [
       "GaussianNB()"
      ]
     },
     "execution_count": 81,
     "metadata": {},
     "output_type": "execute_result"
    }
   ],
   "source": [
    "#import gaussian naive bayess model\n",
    "from sklearn.naive_bayes import GaussianNB\n",
    "\n",
    "# create a gaussian classifier\n",
    "model = GaussianNB()\n",
    "\n",
    "# train the model using the training sets\n",
    "model.fit(x_train,y_train)"
   ]
  },
  {
   "cell_type": "code",
   "execution_count": 82,
   "id": "d6d5cbc9",
   "metadata": {},
   "outputs": [
    {
     "data": {
      "text/plain": [
       "array([0., 0., 1., ..., 0., 0., 0.])"
      ]
     },
     "execution_count": 82,
     "metadata": {},
     "output_type": "execute_result"
    }
   ],
   "source": [
    "y_pred = model.predict(x_test)\n",
    "y_pred"
   ]
  },
  {
   "cell_type": "markdown",
   "id": "5ce12a6b",
   "metadata": {},
   "source": [
    "## accuracy"
   ]
  },
  {
   "cell_type": "code",
   "execution_count": 80,
   "id": "956d0d0c",
   "metadata": {},
   "outputs": [
    {
     "name": "stdout",
     "output_type": "stream",
     "text": [
      "Model accuracy score: 0.7835\n"
     ]
    }
   ],
   "source": [
    "from sklearn import metrics\n",
    "from sklearn.metrics import accuracy_score\n",
    "\n",
    "print('Model accuracy score: {0:0.4f}'. format(accuracy_score(y_test, y_pred)))"
   ]
  },
  {
   "cell_type": "markdown",
   "id": "fa680ba7",
   "metadata": {},
   "source": [
    "we find that our accuracy is 78.27%"
   ]
  },
  {
   "cell_type": "code",
   "execution_count": 1,
   "id": "98ec8c48",
   "metadata": {},
   "outputs": [],
   "source": [
    "from sklearn.cluster import KMeans\n",
    "import pandas as pd\n",
    "from sklearn.preprocessing import MinMaxScaler\n",
    "from matplotlib import pyplot as plt\n",
    "%matplotlib inline"
   ]
  },
  {
   "cell_type": "code",
   "execution_count": 2,
   "id": "92bb212b",
   "metadata": {},
   "outputs": [
    {
     "data": {
      "text/html": [
       "<div>\n",
       "<style scoped>\n",
       "    .dataframe tbody tr th:only-of-type {\n",
       "        vertical-align: middle;\n",
       "    }\n",
       "\n",
       "    .dataframe tbody tr th {\n",
       "        vertical-align: top;\n",
       "    }\n",
       "\n",
       "    .dataframe thead th {\n",
       "        text-align: right;\n",
       "    }\n",
       "</style>\n",
       "<table border=\"1\" class=\"dataframe\">\n",
       "  <thead>\n",
       "    <tr style=\"text-align: right;\">\n",
       "      <th></th>\n",
       "      <th>Id</th>\n",
       "      <th>SepalLengthCm</th>\n",
       "      <th>SepalWidthCm</th>\n",
       "      <th>PetalLengthCm</th>\n",
       "      <th>PetalWidthCm</th>\n",
       "      <th>Species</th>\n",
       "    </tr>\n",
       "  </thead>\n",
       "  <tbody>\n",
       "    <tr>\n",
       "      <th>0</th>\n",
       "      <td>1</td>\n",
       "      <td>5.1</td>\n",
       "      <td>3.5</td>\n",
       "      <td>1.4</td>\n",
       "      <td>0.2</td>\n",
       "      <td>Iris-setosa</td>\n",
       "    </tr>\n",
       "    <tr>\n",
       "      <th>1</th>\n",
       "      <td>2</td>\n",
       "      <td>4.9</td>\n",
       "      <td>3.0</td>\n",
       "      <td>1.4</td>\n",
       "      <td>0.2</td>\n",
       "      <td>Iris-setosa</td>\n",
       "    </tr>\n",
       "    <tr>\n",
       "      <th>2</th>\n",
       "      <td>3</td>\n",
       "      <td>4.7</td>\n",
       "      <td>3.2</td>\n",
       "      <td>1.3</td>\n",
       "      <td>0.2</td>\n",
       "      <td>Iris-setosa</td>\n",
       "    </tr>\n",
       "    <tr>\n",
       "      <th>3</th>\n",
       "      <td>4</td>\n",
       "      <td>4.6</td>\n",
       "      <td>3.1</td>\n",
       "      <td>1.5</td>\n",
       "      <td>0.2</td>\n",
       "      <td>Iris-setosa</td>\n",
       "    </tr>\n",
       "    <tr>\n",
       "      <th>4</th>\n",
       "      <td>5</td>\n",
       "      <td>5.0</td>\n",
       "      <td>3.6</td>\n",
       "      <td>1.4</td>\n",
       "      <td>0.2</td>\n",
       "      <td>Iris-setosa</td>\n",
       "    </tr>\n",
       "  </tbody>\n",
       "</table>\n",
       "</div>"
      ],
      "text/plain": [
       "   Id  SepalLengthCm  SepalWidthCm  PetalLengthCm  PetalWidthCm      Species\n",
       "0   1            5.1           3.5            1.4           0.2  Iris-setosa\n",
       "1   2            4.9           3.0            1.4           0.2  Iris-setosa\n",
       "2   3            4.7           3.2            1.3           0.2  Iris-setosa\n",
       "3   4            4.6           3.1            1.5           0.2  Iris-setosa\n",
       "4   5            5.0           3.6            1.4           0.2  Iris-setosa"
      ]
     },
     "execution_count": 2,
     "metadata": {},
     "output_type": "execute_result"
    }
   ],
   "source": [
    "df = pd.read_csv(\"C:\\\\Users\\\\DELL\\\\Desktop\\\\Iris.csv\")\n",
    "df.head()"
   ]
  },
  {
   "cell_type": "code",
   "execution_count": 3,
   "id": "58979b9f",
   "metadata": {},
   "outputs": [
    {
     "data": {
      "text/plain": [
       "Text(0, 0.5, 'SepalLengthCm')"
      ]
     },
     "execution_count": 3,
     "metadata": {},
     "output_type": "execute_result"
    },
    {
     "data": {
      "image/png": "[encoded data removed]",
      "text/plain": [
       "<Figure size 432x288 with 1 Axes>"
      ]
     },
     "metadata": {
      "needs_background": "light"
     },
     "output_type": "display_data"
    }
   ],
   "source": [
    "plt.scatter(df.PetalLengthCm,df['SepalLengthCm'])\n",
    "plt.xlabel('PetalLengthCm')\n",
    "plt.ylabel('SepalLengthCm')"
   ]
  },
  {
   "cell_type": "code",
   "execution_count": 4,
   "id": "368d63cb",
   "metadata": {},
   "outputs": [
    {
     "data": {
      "text/plain": [
       "array([2, 2, 2, 2, 2, 2, 2, 2, 2, 2, 2, 2, 2, 2, 2, 2, 2, 2, 2, 2, 2, 2,\n",
       "       2, 2, 2, 2, 2, 2, 2, 2, 2, 2, 2, 2, 2, 2, 2, 2, 2, 2, 2, 2, 2, 2,\n",
       "       2, 2, 2, 2, 2, 2, 1, 1, 1, 0, 1, 0, 1, 0, 1, 0, 0, 0, 0, 1, 0, 1,\n",
       "       0, 0, 1, 0, 1, 0, 1, 1, 1, 1, 1, 1, 1, 0, 0, 0, 0, 1, 0, 1, 1, 1,\n",
       "       0, 0, 0, 1, 0, 0, 0, 0, 0, 1, 0, 0, 3, 1, 3, 1, 3, 3, 0, 3, 3, 3,\n",
       "       1, 1, 3, 1, 1, 1, 1, 3, 3, 1, 3, 1, 3, 1, 3, 3, 1, 1, 1, 3, 3, 3,\n",
       "       1, 1, 1, 3, 1, 1, 1, 3, 3, 1, 1, 3, 3, 1, 1, 1, 1, 1])"
      ]
     },
     "execution_count": 4,
     "metadata": {},
     "output_type": "execute_result"
    }
   ],
   "source": [
    "km = KMeans(n_clusters=4)\n",
    "y_predicted = km.fit_predict(df[['PetalLengthCm','SepalLengthCm']])\n",
    "y_predicted "
   ]
  },
  {
   "cell_type": "code",
   "execution_count": 5,
   "id": "9c9785d5",
   "metadata": {},
   "outputs": [
    {
     "data": {
      "text/html": [
       "<div>\n",
       "<style scoped>\n",
       "    .dataframe tbody tr th:only-of-type {\n",
       "        vertical-align: middle;\n",
       "    }\n",
       "\n",
       "    .dataframe tbody tr th {\n",
       "        vertical-align: top;\n",
       "    }\n",
       "\n",
       "    .dataframe thead th {\n",
       "        text-align: right;\n",
       "    }\n",
       "</style>\n",
       "<table border=\"1\" class=\"dataframe\">\n",
       "  <thead>\n",
       "    <tr style=\"text-align: right;\">\n",
       "      <th></th>\n",
       "      <th>Id</th>\n",
       "      <th>SepalLengthCm</th>\n",
       "      <th>SepalWidthCm</th>\n",
       "      <th>PetalLengthCm</th>\n",
       "      <th>PetalWidthCm</th>\n",
       "      <th>Species</th>\n",
       "      <th>cluster</th>\n",
       "    </tr>\n",
       "  </thead>\n",
       "  <tbody>\n",
       "    <tr>\n",
       "      <th>0</th>\n",
       "      <td>1</td>\n",
       "      <td>5.1</td>\n",
       "      <td>3.5</td>\n",
       "      <td>1.4</td>\n",
       "      <td>0.2</td>\n",
       "      <td>Iris-setosa</td>\n",
       "      <td>2</td>\n",
       "    </tr>\n",
       "    <tr>\n",
       "      <th>1</th>\n",
       "      <td>2</td>\n",
       "      <td>4.9</td>\n",
       "      <td>3.0</td>\n",
       "      <td>1.4</td>\n",
       "      <td>0.2</td>\n",
       "      <td>Iris-setosa</td>\n",
       "      <td>2</td>\n",
       "    </tr>\n",
       "    <tr>\n",
       "      <th>2</th>\n",
       "      <td>3</td>\n",
       "      <td>4.7</td>\n",
       "      <td>3.2</td>\n",
       "      <td>1.3</td>\n",
       "      <td>0.2</td>\n",
       "      <td>Iris-setosa</td>\n",
       "      <td>2</td>\n",
       "    </tr>\n",
       "    <tr>\n",
       "      <th>3</th>\n",
       "      <td>4</td>\n",
       "      <td>4.6</td>\n",
       "      <td>3.1</td>\n",
       "      <td>1.5</td>\n",
       "      <td>0.2</td>\n",
       "      <td>Iris-setosa</td>\n",
       "      <td>2</td>\n",
       "    </tr>\n",
       "    <tr>\n",
       "      <th>4</th>\n",
       "      <td>5</td>\n",
       "      <td>5.0</td>\n",
       "      <td>3.6</td>\n",
       "      <td>1.4</td>\n",
       "      <td>0.2</td>\n",
       "      <td>Iris-setosa</td>\n",
       "      <td>2</td>\n",
       "    </tr>\n",
       "  </tbody>\n",
       "</table>\n",
       "</div>"
      ],
      "text/plain": [
       "   Id  SepalLengthCm  SepalWidthCm  PetalLengthCm  PetalWidthCm      Species  \\\n",
       "0   1            5.1           3.5            1.4           0.2  Iris-setosa   \n",
       "1   2            4.9           3.0            1.4           0.2  Iris-setosa   \n",
       "2   3            4.7           3.2            1.3           0.2  Iris-setosa   \n",
       "3   4            4.6           3.1            1.5           0.2  Iris-setosa   \n",
       "4   5            5.0           3.6            1.4           0.2  Iris-setosa   \n",
       "\n",
       "   cluster  \n",
       "0        2  \n",
       "1        2  \n",
       "2        2  \n",
       "3        2  \n",
       "4        2  "
      ]
     },
     "execution_count": 5,
     "metadata": {},
     "output_type": "execute_result"
    }
   ],
   "source": [
    "df['cluster']=y_predicted\n",
    "df.head() "
   ]
  },
  {
   "cell_type": "code",
   "execution_count": 6,
   "id": "e777909e",
   "metadata": {},
   "outputs": [
    {
     "data": {
      "text/plain": [
       "array([[3.96071429, 5.53214286],\n",
       "       [4.94      , 6.292     ],\n",
       "       [1.464     , 5.006     ],\n",
       "       [6.03181818, 7.12272727]])"
      ]
     },
     "execution_count": 6,
     "metadata": {},
     "output_type": "execute_result"
    }
   ],
   "source": [
    "km.cluster_centers_ "
   ]
  },
  {
   "cell_type": "code",
   "execution_count": 7,
   "id": "c6d6b306",
   "metadata": {},
   "outputs": [
    {
     "data": {
      "text/plain": [
       "<matplotlib.legend.Legend at 0x22343ff0d60>"
      ]
     },
     "execution_count": 7,
     "metadata": {},
     "output_type": "execute_result"
    },
    {
     "data": {
      "image/png": "[encoded data removed]",
      "text/plain": [
       "<Figure size 432x288 with 1 Axes>"
      ]
     },
     "metadata": {
      "needs_background": "light"
     },
     "output_type": "display_data"
    }
   ],
   "source": [
    "df1 = df[df.cluster==0]\n",
    "df2 = df[df.cluster==1]\n",
    "df3 = df[df.cluster==2]\n",
    "df4 = df[df.cluster==3]\n",
    "plt.scatter(df1.PetalLengthCm,df1['SepalLengthCm'],color='green')\n",
    "plt.scatter(df2.PetalLengthCm,df2['SepalLengthCm'],color='red')\n",
    "plt.scatter(df3.PetalLengthCm,df3['SepalLengthCm'],color='black')\n",
    "plt.scatter(df4.PetalLengthCm,df4['SepalLengthCm'],color='blue')\n",
    "plt.scatter(km.cluster_centers_[:,0],km.cluster_centers_[:,1],color='purple',marker='*',label='centroid')\n",
    "plt.xlabel('PetalLengthCm')\n",
    "plt.ylabel('SepalLengthCm')\n",
    "plt.legend() "
   ]
  },
  {
   "cell_type": "markdown",
   "id": "cf4b988c",
   "metadata": {},
   "source": [
    "Preprocessing using min max scaler"
   ]
  },
  {
   "cell_type": "code",
   "execution_count": 9,
   "id": "5d9b725c",
   "metadata": {},
   "outputs": [
    {
     "data": {
      "text/html": [
       "<div>\n",
       "<style scoped>\n",
       "    .dataframe tbody tr th:only-of-type {\n",
       "        vertical-align: middle;\n",
       "    }\n",
       "\n",
       "    .dataframe tbody tr th {\n",
       "        vertical-align: top;\n",
       "    }\n",
       "\n",
       "    .dataframe thead th {\n",
       "        text-align: right;\n",
       "    }\n",
       "</style>\n",
       "<table border=\"1\" class=\"dataframe\">\n",
       "  <thead>\n",
       "    <tr style=\"text-align: right;\">\n",
       "      <th></th>\n",
       "      <th>Id</th>\n",
       "      <th>SepalLengthCm</th>\n",
       "      <th>SepalWidthCm</th>\n",
       "      <th>PetalLengthCm</th>\n",
       "      <th>PetalWidthCm</th>\n",
       "      <th>Species</th>\n",
       "      <th>cluster</th>\n",
       "    </tr>\n",
       "  </thead>\n",
       "  <tbody>\n",
       "    <tr>\n",
       "      <th>0</th>\n",
       "      <td>1</td>\n",
       "      <td>0.222222</td>\n",
       "      <td>3.5</td>\n",
       "      <td>0.067797</td>\n",
       "      <td>0.2</td>\n",
       "      <td>Iris-setosa</td>\n",
       "      <td>2</td>\n",
       "    </tr>\n",
       "    <tr>\n",
       "      <th>1</th>\n",
       "      <td>2</td>\n",
       "      <td>0.166667</td>\n",
       "      <td>3.0</td>\n",
       "      <td>0.067797</td>\n",
       "      <td>0.2</td>\n",
       "      <td>Iris-setosa</td>\n",
       "      <td>2</td>\n",
       "    </tr>\n",
       "    <tr>\n",
       "      <th>2</th>\n",
       "      <td>3</td>\n",
       "      <td>0.111111</td>\n",
       "      <td>3.2</td>\n",
       "      <td>0.050847</td>\n",
       "      <td>0.2</td>\n",
       "      <td>Iris-setosa</td>\n",
       "      <td>2</td>\n",
       "    </tr>\n",
       "    <tr>\n",
       "      <th>3</th>\n",
       "      <td>4</td>\n",
       "      <td>0.083333</td>\n",
       "      <td>3.1</td>\n",
       "      <td>0.084746</td>\n",
       "      <td>0.2</td>\n",
       "      <td>Iris-setosa</td>\n",
       "      <td>2</td>\n",
       "    </tr>\n",
       "    <tr>\n",
       "      <th>4</th>\n",
       "      <td>5</td>\n",
       "      <td>0.194444</td>\n",
       "      <td>3.6</td>\n",
       "      <td>0.067797</td>\n",
       "      <td>0.2</td>\n",
       "      <td>Iris-setosa</td>\n",
       "      <td>2</td>\n",
       "    </tr>\n",
       "  </tbody>\n",
       "</table>\n",
       "</div>"
      ],
      "text/plain": [
       "   Id  SepalLengthCm  SepalWidthCm  PetalLengthCm  PetalWidthCm      Species  \\\n",
       "0   1       0.222222           3.5       0.067797           0.2  Iris-setosa   \n",
       "1   2       0.166667           3.0       0.067797           0.2  Iris-setosa   \n",
       "2   3       0.111111           3.2       0.050847           0.2  Iris-setosa   \n",
       "3   4       0.083333           3.1       0.084746           0.2  Iris-setosa   \n",
       "4   5       0.194444           3.6       0.067797           0.2  Iris-setosa   \n",
       "\n",
       "   cluster  \n",
       "0        2  \n",
       "1        2  \n",
       "2        2  \n",
       "3        2  \n",
       "4        2  "
      ]
     },
     "execution_count": 9,
     "metadata": {},
     "output_type": "execute_result"
    }
   ],
   "source": [
    "#To round the ratios of numbers \n",
    "\n",
    "scaler = MinMaxScaler()\n",
    "\n",
    "scaler.fit(df[['SepalLengthCm']]) \n",
    "df['SepalLengthCm'] = scaler.transform(df[['SepalLengthCm']])\n",
    "\n",
    "scaler.fit(df[['PetalLengthCm']])\n",
    "df['PetalLengthCm'] = scaler.transform(df[['PetalLengthCm']])\n",
    "\n",
    "df.head()"
   ]
  },
  {
   "cell_type": "code",
   "execution_count": 10,
   "id": "d8501932",
   "metadata": {},
   "outputs": [
    {
     "data": {
      "text/plain": [
       "<matplotlib.collections.PathCollection at 0x2234406ee50>"
      ]
     },
     "execution_count": 10,
     "metadata": {},
     "output_type": "execute_result"
    },
    {
     "data": {
      "image/png": "[encoded data removed]",
      "text/plain": [
       "<Figure size 432x288 with 1 Axes>"
      ]
     },
     "metadata": {
      "needs_background": "light"
     },
     "output_type": "display_data"
    }
   ],
   "source": [
    "plt.scatter(df.PetalLengthCm,df['SepalLengthCm'])"
   ]
  },
  {
   "cell_type": "code",
   "execution_count": 11,
   "id": "30c780af",
   "metadata": {},
   "outputs": [
    {
     "data": {
      "text/plain": [
       "array([1, 1, 1, 1, 1, 1, 1, 1, 1, 1, 1, 1, 1, 1, 1, 1, 1, 1, 1, 1, 1, 1,\n",
       "       1, 1, 1, 1, 1, 1, 1, 1, 1, 1, 1, 1, 1, 1, 1, 1, 1, 1, 1, 1, 1, 1,\n",
       "       1, 1, 1, 1, 1, 1, 0, 0, 0, 3, 0, 3, 0, 3, 0, 3, 3, 3, 3, 0, 3, 0,\n",
       "       3, 3, 0, 3, 0, 3, 0, 0, 0, 0, 0, 0, 0, 3, 3, 3, 3, 0, 3, 0, 0, 0,\n",
       "       3, 3, 3, 0, 3, 3, 3, 3, 3, 0, 3, 3, 0, 0, 2, 0, 0, 2, 3, 2, 0, 2,\n",
       "       0, 0, 0, 3, 0, 0, 0, 2, 2, 0, 2, 3, 2, 0, 0, 2, 0, 0, 0, 2, 2, 2,\n",
       "       0, 0, 0, 2, 0, 0, 0, 0, 0, 0, 0, 2, 0, 0, 0, 0, 0, 0])"
      ]
     },
     "execution_count": 11,
     "metadata": {},
     "output_type": "execute_result"
    }
   ],
   "source": [
    "km = KMeans(n_clusters=4)\n",
    "y_predicted = km.fit_predict(df[['PetalLengthCm','SepalLengthCm']])\n",
    "y_predicted"
   ]
  },
  {
   "cell_type": "code",
   "execution_count": 12,
   "id": "f6cbdd19",
   "metadata": {},
   "outputs": [
    {
     "data": {
      "text/html": [
       "<div>\n",
       "<style scoped>\n",
       "    .dataframe tbody tr th:only-of-type {\n",
       "        vertical-align: middle;\n",
       "    }\n",
       "\n",
       "    .dataframe tbody tr th {\n",
       "        vertical-align: top;\n",
       "    }\n",
       "\n",
       "    .dataframe thead th {\n",
       "        text-align: right;\n",
       "    }\n",
       "</style>\n",
       "<table border=\"1\" class=\"dataframe\">\n",
       "  <thead>\n",
       "    <tr style=\"text-align: right;\">\n",
       "      <th></th>\n",
       "      <th>Id</th>\n",
       "      <th>SepalLengthCm</th>\n",
       "      <th>SepalWidthCm</th>\n",
       "      <th>PetalLengthCm</th>\n",
       "      <th>PetalWidthCm</th>\n",
       "      <th>Species</th>\n",
       "      <th>cluster</th>\n",
       "    </tr>\n",
       "  </thead>\n",
       "  <tbody>\n",
       "    <tr>\n",
       "      <th>0</th>\n",
       "      <td>1</td>\n",
       "      <td>0.222222</td>\n",
       "      <td>3.5</td>\n",
       "      <td>0.067797</td>\n",
       "      <td>0.2</td>\n",
       "      <td>Iris-setosa</td>\n",
       "      <td>1</td>\n",
       "    </tr>\n",
       "    <tr>\n",
       "      <th>1</th>\n",
       "      <td>2</td>\n",
       "      <td>0.166667</td>\n",
       "      <td>3.0</td>\n",
       "      <td>0.067797</td>\n",
       "      <td>0.2</td>\n",
       "      <td>Iris-setosa</td>\n",
       "      <td>1</td>\n",
       "    </tr>\n",
       "    <tr>\n",
       "      <th>2</th>\n",
       "      <td>3</td>\n",
       "      <td>0.111111</td>\n",
       "      <td>3.2</td>\n",
       "      <td>0.050847</td>\n",
       "      <td>0.2</td>\n",
       "      <td>Iris-setosa</td>\n",
       "      <td>1</td>\n",
       "    </tr>\n",
       "    <tr>\n",
       "      <th>3</th>\n",
       "      <td>4</td>\n",
       "      <td>0.083333</td>\n",
       "      <td>3.1</td>\n",
       "      <td>0.084746</td>\n",
       "      <td>0.2</td>\n",
       "      <td>Iris-setosa</td>\n",
       "      <td>1</td>\n",
       "    </tr>\n",
       "    <tr>\n",
       "      <th>4</th>\n",
       "      <td>5</td>\n",
       "      <td>0.194444</td>\n",
       "      <td>3.6</td>\n",
       "      <td>0.067797</td>\n",
       "      <td>0.2</td>\n",
       "      <td>Iris-setosa</td>\n",
       "      <td>1</td>\n",
       "    </tr>\n",
       "  </tbody>\n",
       "</table>\n",
       "</div>"
      ],
      "text/plain": [
       "   Id  SepalLengthCm  SepalWidthCm  PetalLengthCm  PetalWidthCm      Species  \\\n",
       "0   1       0.222222           3.5       0.067797           0.2  Iris-setosa   \n",
       "1   2       0.166667           3.0       0.067797           0.2  Iris-setosa   \n",
       "2   3       0.111111           3.2       0.050847           0.2  Iris-setosa   \n",
       "3   4       0.083333           3.1       0.084746           0.2  Iris-setosa   \n",
       "4   5       0.194444           3.6       0.067797           0.2  Iris-setosa   \n",
       "\n",
       "   cluster  \n",
       "0        1  \n",
       "1        1  \n",
       "2        1  \n",
       "3        1  \n",
       "4        1  "
      ]
     },
     "execution_count": 12,
     "metadata": {},
     "output_type": "execute_result"
    }
   ],
   "source": [
    "df['cluster']=y_predicted\n",
    "df.head()"
   ]
  },
  {
   "cell_type": "code",
   "execution_count": 13,
   "id": "55b5eca4",
   "metadata": {},
   "outputs": [
    {
     "data": {
      "text/plain": [
       "array([[0.68583535, 0.57440476],\n",
       "       [0.07864407, 0.19611111],\n",
       "       [0.88619855, 0.85714286],\n",
       "       [0.51299435, 0.34444444]])"
      ]
     },
     "execution_count": 13,
     "metadata": {},
     "output_type": "execute_result"
    }
   ],
   "source": [
    "km.cluster_centers_"
   ]
  },
  {
   "cell_type": "code",
   "execution_count": 14,
   "id": "f9b22769",
   "metadata": {},
   "outputs": [
    {
     "data": {
      "text/plain": [
       "<matplotlib.legend.Legend at 0x223440dfe50>"
      ]
     },
     "execution_count": 14,
     "metadata": {},
     "output_type": "execute_result"
    },
    {
     "data": {
      "image/png": "[encoded data removed]",
      "text/plain": [
       "<Figure size 432x288 with 1 Axes>"
      ]
     },
     "metadata": {
      "needs_background": "light"
     },
     "output_type": "display_data"
    }
   ],
   "source": [
    "df1 = df[df.cluster==0]\n",
    "df2 = df[df.cluster==1]\n",
    "df3 = df[df.cluster==2]\n",
    "df4 = df[df.cluster==3]\n",
    "plt.scatter(df1.PetalLengthCm,df1['SepalLengthCm'],color='green')\n",
    "plt.scatter(df2.PetalLengthCm,df2['SepalLengthCm'],color='red')\n",
    "plt.scatter(df3.PetalLengthCm,df3['SepalLengthCm'],color='black')\n",
    "plt.scatter(df4.PetalLengthCm,df4['SepalLengthCm'],color='blue')\n",
    "plt.scatter(km.cluster_centers_[:,0],km.cluster_centers_[:,1],color='purple',marker='*',label='centroid')\n",
    "plt.xlabel('PetalLengthCm')\n",
    "plt.ylabel('SepalLengthCm')\n",
    "plt.legend()"
   ]
  },
  {
   "cell_type": "markdown",
   "id": "871a4440",
   "metadata": {},
   "source": [
    " Elbow Plot"
   ]
  },
  {
   "cell_type": "code",
   "execution_count": 15,
   "id": "8d5e5ae0",
   "metadata": {},
   "outputs": [
    {
     "name": "stderr",
     "output_type": "stream",
     "text": [
      "C:\\Users\\DELL\\anaconda3\\lib\\site-packages\\sklearn\\cluster\\_kmeans.py:881: UserWarning: KMeans is known to have a memory leak on Windows with MKL, when there are less chunks than available threads. You can avoid it by setting the environment variable OMP_NUM_THREADS=1.\n",
      "  warnings.warn(\n"
     ]
    },
    {
     "data": {
      "text/plain": [
       "[<matplotlib.lines.Line2D at 0x223441af040>]"
      ]
     },
     "execution_count": 15,
     "metadata": {},
     "output_type": "execute_result"
    },
    {
     "data": {
      "image/png": "[encoded data removed]",
      "text/plain": [
       "<Figure size 432x288 with 1 Axes>"
      ]
     },
     "metadata": {
      "needs_background": "light"
     },
     "output_type": "display_data"
    }
   ],
   "source": [
    "# to show what is the appropriate number of k for the data \n",
    "sse = []\n",
    "k_rng = range(1,10)\n",
    "for k in k_rng:\n",
    "    km = KMeans(n_clusters=k)\n",
    "    km.fit(df[['PetalLengthCm','SepalLengthCm']])\n",
    "    sse.append(km.inertia_) # to show mean square error \n",
    "    plt.xlabel('K')\n",
    "plt.ylabel('Sum of squared error')\n",
    "plt.plot(k_rng,sse) "
   ]
  },
  {
   "cell_type": "code",
   "execution_count": null,
   "id": "ada46590",
   "metadata": {},
   "outputs": [],
   "source": []
  }
 ],
 "metadata": {
  "kernelspec": {
   "display_name": "Python 3 (ipykernel)",
   "language": "python",
   "name": "python3"
  },
  "language_info": {
   "codemirror_mode": {
    "name": "ipython",
    "version": 3
   },
   "file_extension": ".py",
   "mimetype": "text/x-python",
   "name": "python",
   "nbconvert_exporter": "python",
   "pygments_lexer": "ipython3",
   "version": "3.9.7"
  }
 },
 "nbformat": 4,
 "nbformat_minor": 5
}
